{
 "cells": [
  {
   "cell_type": "markdown",
   "metadata": {},
   "source": [
    "For Griff's environment, set these variables (NB_DIR for convenience) \n",
    "\n",
    "```\n",
    "set NB_DIR=C:\\cygwin\\home\\Griff\\datathon2017\\melbourne-datathon\\notebooks\n",
    "set DATA_DIR=C:\\cygwin\\home\\Griff\\datathon2017\\MelbDatathon2017\n",
    "```"
   ]
  },
  {
   "cell_type": "markdown",
   "metadata": {},
   "source": [
    "I am running on Windows, so I have based this on the basic.sh in the repository.\n",
    "\n",
    "```\n",
    "conda create -n dthon python=3 python\n",
    "conda config --add channels conda-forge\n",
    "\n",
    "activate dthon\n",
    "conda install -y pandas\n",
    "conda install -y jupyter\n",
    "conda install -y matplotlib\n",
    "\n",
    "cd %NB_DIR%\n",
    "\n",
    "jupyter notebook\n",
    "```\n",
    "\n",
    "As far as I can tell, this should work..."
   ]
  },
  {
   "cell_type": "code",
   "execution_count": 1,
   "metadata": {
    "collapsed": true
   },
   "outputs": [],
   "source": [
    "import os\n",
    "\n",
    "import pandas as pd"
   ]
  },
  {
   "cell_type": "code",
   "execution_count": 2,
   "metadata": {},
   "outputs": [
    {
     "name": "stdout",
     "output_type": "stream",
     "text": [
      "C:\\cygwin\\home\\Griff\\datathon2017\\MelbDatathon2017\n"
     ]
    }
   ],
   "source": [
    "data_dir = os.getenv('DATA_DIR')\n",
    "print (data_dir)"
   ]
  },
  {
   "cell_type": "code",
   "execution_count": 3,
   "metadata": {},
   "outputs": [
    {
     "name": "stdout",
     "output_type": "stream",
     "text": [
      "C:\\cygwin\\home\\Griff\\datathon2017\\MelbDatathon2017\\Lookups\\ATC_LookUp.txt\n"
     ]
    }
   ],
   "source": [
    "# Path to the data.  Forgive me for renaming everything!\n",
    "\n",
    "fd_atc = os.path.join(data_dir, \"Lookups\", \"ATC_LookUp.txt\")\n",
    "print(fd_atc)\n"
   ]
  },
  {
   "cell_type": "code",
   "execution_count": 4,
   "metadata": {
    "collapsed": true
   },
   "outputs": [],
   "source": [
    "# Main dataframe, takes a bit of time to load.\n",
    "# atc_frame = pd.read_csv(fd_atc, sep = '\\t', parse_dates = ['Dispense_Week'])\n",
    "atc_frame = pd.read_csv(fd_atc, sep = '\\t')\n"
   ]
  },
  {
   "cell_type": "code",
   "execution_count": 8,
   "metadata": {},
   "outputs": [
    {
     "data": {
      "text/plain": [
       "ATCLevel1Code    1314\n",
       "ATCLevel1Name    1315\n",
       "ATCLevel2Code    1314\n",
       "ATCLevel2Name    1315\n",
       "ATCLevel3Code    1314\n",
       "ATCLevel3Name    1315\n",
       "ATCLevel4Code    1314\n",
       "ATCLevel4Name    1315\n",
       "ATCLevel5Code    1314\n",
       "ATCLevel5Name    1315\n",
       "dtype: int64"
      ]
     },
     "execution_count": 8,
     "metadata": {},
     "output_type": "execute_result"
    }
   ],
   "source": [
    "atc_frame.count()"
   ]
  },
  {
   "cell_type": "code",
   "execution_count": 5,
   "metadata": {},
   "outputs": [
    {
     "data": {
      "text/html": [
       "<div>\n",
       "<table border=\"1\" class=\"dataframe\">\n",
       "  <thead>\n",
       "    <tr style=\"text-align: right;\">\n",
       "      <th></th>\n",
       "      <th>ATCLevel1Code</th>\n",
       "      <th>ATCLevel1Name</th>\n",
       "      <th>ATCLevel2Code</th>\n",
       "      <th>ATCLevel2Name</th>\n",
       "      <th>ATCLevel3Code</th>\n",
       "      <th>ATCLevel3Name</th>\n",
       "      <th>ATCLevel4Code</th>\n",
       "      <th>ATCLevel4Name</th>\n",
       "      <th>ATCLevel5Code</th>\n",
       "      <th>ATCLevel5Name</th>\n",
       "    </tr>\n",
       "  </thead>\n",
       "  <tbody>\n",
       "    <tr>\n",
       "      <th>0</th>\n",
       "      <td>A</td>\n",
       "      <td>ALIMENTARY TRACT AND METABOLISM</td>\n",
       "      <td>A01</td>\n",
       "      <td>STOMATOLOGICAL PREPARATIONS</td>\n",
       "      <td>A01A</td>\n",
       "      <td>STOMATOLOGICAL PREPARATIONS</td>\n",
       "      <td>A01AB</td>\n",
       "      <td>ANTIINFECTIVES AND ANTISEPTICS FOR LOCAL ORAL ...</td>\n",
       "      <td>A01AB03</td>\n",
       "      <td>CHLORHEXIDINE</td>\n",
       "    </tr>\n",
       "    <tr>\n",
       "      <th>1</th>\n",
       "      <td>A</td>\n",
       "      <td>ALIMENTARY TRACT AND METABOLISM</td>\n",
       "      <td>A01</td>\n",
       "      <td>STOMATOLOGICAL PREPARATIONS</td>\n",
       "      <td>A01A</td>\n",
       "      <td>STOMATOLOGICAL PREPARATIONS</td>\n",
       "      <td>A01AB</td>\n",
       "      <td>ANTIINFECTIVES AND ANTISEPTICS FOR LOCAL ORAL ...</td>\n",
       "      <td>A01AB04</td>\n",
       "      <td>AMPHOTERICIN B</td>\n",
       "    </tr>\n",
       "    <tr>\n",
       "      <th>2</th>\n",
       "      <td>A</td>\n",
       "      <td>ALIMENTARY TRACT AND METABOLISM</td>\n",
       "      <td>A01</td>\n",
       "      <td>STOMATOLOGICAL PREPARATIONS</td>\n",
       "      <td>A01A</td>\n",
       "      <td>STOMATOLOGICAL PREPARATIONS</td>\n",
       "      <td>A01AB</td>\n",
       "      <td>ANTIINFECTIVES AND ANTISEPTICS FOR LOCAL ORAL ...</td>\n",
       "      <td>A01AB08</td>\n",
       "      <td>NEOMYCIN</td>\n",
       "    </tr>\n",
       "    <tr>\n",
       "      <th>3</th>\n",
       "      <td>A</td>\n",
       "      <td>ALIMENTARY TRACT AND METABOLISM</td>\n",
       "      <td>A01</td>\n",
       "      <td>STOMATOLOGICAL PREPARATIONS</td>\n",
       "      <td>A01A</td>\n",
       "      <td>STOMATOLOGICAL PREPARATIONS</td>\n",
       "      <td>A01AB</td>\n",
       "      <td>ANTIINFECTIVES AND ANTISEPTICS FOR LOCAL ORAL ...</td>\n",
       "      <td>A01AB11</td>\n",
       "      <td>VARIOUS</td>\n",
       "    </tr>\n",
       "    <tr>\n",
       "      <th>4</th>\n",
       "      <td>A</td>\n",
       "      <td>ALIMENTARY TRACT AND METABOLISM</td>\n",
       "      <td>A01</td>\n",
       "      <td>STOMATOLOGICAL PREPARATIONS</td>\n",
       "      <td>A01A</td>\n",
       "      <td>STOMATOLOGICAL PREPARATIONS</td>\n",
       "      <td>A01AC</td>\n",
       "      <td>CORTICOSTEROIDS FOR LOCAL ORAL TREATMENT</td>\n",
       "      <td>A01AC03</td>\n",
       "      <td>HYDROCORTISONE</td>\n",
       "    </tr>\n",
       "  </tbody>\n",
       "</table>\n",
       "</div>"
      ],
      "text/plain": [
       "  ATCLevel1Code                    ATCLevel1Name ATCLevel2Code  \\\n",
       "0             A  ALIMENTARY TRACT AND METABOLISM           A01   \n",
       "1             A  ALIMENTARY TRACT AND METABOLISM           A01   \n",
       "2             A  ALIMENTARY TRACT AND METABOLISM           A01   \n",
       "3             A  ALIMENTARY TRACT AND METABOLISM           A01   \n",
       "4             A  ALIMENTARY TRACT AND METABOLISM           A01   \n",
       "\n",
       "                 ATCLevel2Name ATCLevel3Code                ATCLevel3Name  \\\n",
       "0  STOMATOLOGICAL PREPARATIONS          A01A  STOMATOLOGICAL PREPARATIONS   \n",
       "1  STOMATOLOGICAL PREPARATIONS          A01A  STOMATOLOGICAL PREPARATIONS   \n",
       "2  STOMATOLOGICAL PREPARATIONS          A01A  STOMATOLOGICAL PREPARATIONS   \n",
       "3  STOMATOLOGICAL PREPARATIONS          A01A  STOMATOLOGICAL PREPARATIONS   \n",
       "4  STOMATOLOGICAL PREPARATIONS          A01A  STOMATOLOGICAL PREPARATIONS   \n",
       "\n",
       "  ATCLevel4Code                                      ATCLevel4Name  \\\n",
       "0         A01AB  ANTIINFECTIVES AND ANTISEPTICS FOR LOCAL ORAL ...   \n",
       "1         A01AB  ANTIINFECTIVES AND ANTISEPTICS FOR LOCAL ORAL ...   \n",
       "2         A01AB  ANTIINFECTIVES AND ANTISEPTICS FOR LOCAL ORAL ...   \n",
       "3         A01AB  ANTIINFECTIVES AND ANTISEPTICS FOR LOCAL ORAL ...   \n",
       "4         A01AC           CORTICOSTEROIDS FOR LOCAL ORAL TREATMENT   \n",
       "\n",
       "  ATCLevel5Code   ATCLevel5Name  \n",
       "0       A01AB03   CHLORHEXIDINE  \n",
       "1       A01AB04  AMPHOTERICIN B  \n",
       "2       A01AB08        NEOMYCIN  \n",
       "3       A01AB11         VARIOUS  \n",
       "4       A01AC03  HYDROCORTISONE  "
      ]
     },
     "execution_count": 5,
     "metadata": {},
     "output_type": "execute_result"
    }
   ],
   "source": [
    "atc_frame.head()"
   ]
  },
  {
   "cell_type": "code",
   "execution_count": 11,
   "metadata": {
    "scrolled": true
   },
   "outputs": [
    {
     "name": "stdout",
     "output_type": "stream",
     "text": [
      "ATCLevel1Code 15\n",
      "ATCLevel2Code 86\n",
      "ATCLevel3Code 194\n",
      "ATCLevel4Code 494\n",
      "ATCLevel5Code 1315\n"
     ]
    }
   ],
   "source": [
    "# Looking for the number of unique element in each columns.\n",
    "\n",
    "for col in atc_frame.columns:\n",
    "    if (col.find('Code') > 0):\n",
    "        print(col, len(atc_frame[col].unique()))"
   ]
  },
  {
   "cell_type": "code",
   "execution_count": 12,
   "metadata": {},
   "outputs": [
    {
     "name": "stdout",
     "output_type": "stream",
     "text": [
      "ATCLevel1Code 15 ['A' 'B' 'C' 'D' 'G' 'H' 'J' 'L' 'M' 'N' nan 'P' 'R' 'S' 'V']\n",
      "ATCLevel2Code 86 ['A01' 'A02' 'A03' 'A04' 'A05' 'A06' 'A07' 'A08' 'A09' 'A10' 'A11' 'A12'\n",
      " 'A14' 'A16' 'B01' 'B02' 'B03' 'B05' 'B06' 'C01' 'C02' 'C03' 'C04' 'C05'\n",
      " 'C07' 'C08' 'C09' 'C10' 'D01' 'D02' 'D04' 'D05' 'D06' 'D07' 'D08' 'D09'\n",
      " 'D10' 'D11' 'G01' 'G02' 'G03' 'G04' 'H01' 'H02' 'H03' 'H04' 'H05' 'J01'\n",
      " 'J02' 'J04' 'J05' 'J06' 'J07' 'L01' 'L02' 'L03' 'L04' 'M01' 'M02' 'M03'\n",
      " 'M04' 'M05' 'N01' 'N02' 'N03' 'N04' 'N05' 'N06' 'N07' nan 'P01' 'P02'\n",
      " 'P03' 'R01' 'R02' 'R03' 'R05' 'R06' 'R07' 'S01' 'S02' 'V01' 'V03' 'V04'\n",
      " 'V06' 'V07']\n",
      "ATCLevel3Code 194 ['A01A' 'A02A' 'A02B' 'A03A' 'A03B' 'A03F' 'A04A' 'A05A' 'A06A' 'A07A'\n",
      " 'A07B' 'A07D' 'A07E' 'A08A' 'A09A' 'A10A' 'A10B' 'A11A' 'A11C' 'A11D'\n",
      " 'A11E' 'A11G' 'A11H' 'A12A' 'A12B' 'A12C' 'A14A' 'A16A' 'B01A' 'B02A'\n",
      " 'B02B' 'B03A' 'B03B' 'B03X' 'B05A' 'B05B' 'B05C' 'B05X' 'B06A' 'C01A'\n",
      " 'C01B' 'C01C' 'C01D' 'C01E' 'C02A' 'C02C' 'C02D' 'C02K' 'C03A' 'C03B'\n",
      " 'C03C' 'C03D' 'C03E' 'C04A' 'C05A' 'C05B' 'C05C' 'C07A' 'C08C' 'C08D'\n",
      " 'C08E' 'C09A' 'C09B' 'C09C' 'C09D' 'C10A' 'C10B' 'D01A' 'D01B' 'D02A'\n",
      " 'D02B' 'D04A' 'D05A' 'D05B' 'D06A' 'D06B' 'D07A' 'D07C' 'D07X' 'D08A'\n",
      " 'D09A' 'D10A' 'D10B' 'D11A' 'G01A' 'G02A' 'G02B' 'G02C' 'G03A' 'G03B'\n",
      " 'G03C' 'G03D' 'G03F' 'G03G' 'G03H' 'G03X' 'G04B' 'G04C' 'H01A' 'H01B'\n",
      " 'H01C' 'H02A' 'H03A' 'H03B' 'H04A' 'H05A' 'H05B' 'J01A' 'J01C' 'J01D'\n",
      " 'J01E' 'J01F' 'J01G' 'J01M' 'J01X' 'J02A' 'J04A' 'J04B' 'J05A' 'J06A'\n",
      " 'J06B' 'J07A' 'J07B' 'J07C' 'L01A' 'L01B' 'L01C' 'L01D' 'L01X' 'L02A'\n",
      " 'L02B' 'L03A' 'L04A' 'M01A' 'M01C' 'M02A' 'M03A' 'M03B' 'M03C' 'M04A'\n",
      " 'M05B' 'N01A' 'N01B' 'N02A' 'N02B' 'N02C' 'N03A' 'N04A' 'N04B' 'N05A'\n",
      " 'N05B' 'N05C' 'N06A' 'N06B' 'N06D' 'N07A' 'N07B' 'N07C' 'N07X' nan 'P01A'\n",
      " 'P01B' 'P02B' 'P02C' 'P03A' 'R01A' 'R01B' 'R02A' 'R03A' 'R03B' 'R03C'\n",
      " 'R03D' 'R05C' 'R05D' 'R06A' 'R07A' 'S01A' 'S01B' 'S01E' 'S01F' 'S01G'\n",
      " 'S01H' 'S01J' 'S01K' 'S01L' 'S01X' 'S02A' 'S02C' 'S02D' 'V01A' 'V03A'\n",
      " 'V04C' 'V06D' 'V07A']\n",
      "ATCLevel4Code 494 ['A01AB' 'A01AC' 'A01AD' 'A02AB' 'A02AC' 'A02AD' 'A02BA' 'A02BB' 'A02BC'\n",
      " 'A02BD' 'A02BX' 'A03AA' 'A03AB' 'A03AD' 'A03BA' 'A03BB' 'A03FA' 'A04AA'\n",
      " 'A04AD' 'A05AA' 'A06AA' 'A06AB' 'A06AC' 'A06AD' 'A06AG' 'A06AH' 'A06AX'\n",
      " 'A07AA' 'A07BA' 'A07DA' 'A07EA' 'A07EC' 'A08AA' 'A08AB' 'A09AA' 'A10AB'\n",
      " 'A10AC' 'A10AD' 'A10AE' 'A10BA' 'A10BB' 'A10BD' 'A10BF' 'A10BG' 'A10BH'\n",
      " 'A10BX' 'A11AA' 'A11CA' 'A11CC' 'A11DA' 'A11EA' 'A11EB' 'A11GA' 'A11HA'\n",
      " 'A12A' 'A12AA' 'A12BA' 'A12CA' 'A12CB' 'A12CC' 'A14AB' 'A16AA' 'A16AX'\n",
      " 'B01AA' 'B01AB' 'B01AC' 'B01AD' 'B01AE' 'B01AF' 'B01AX' 'B02AA' 'B02BA'\n",
      " 'B02BX' 'B03AA' 'B03AB' 'B03AC' 'B03AD' 'B03BA' 'B03BB' 'B03XA' 'B05AA'\n",
      " 'B05BA' 'B05BB' 'B05CB' 'B05CX' 'B05XA' 'B05XB' 'B06AA' 'B06AC' 'C01AA'\n",
      " 'C01BA' 'C01BB' 'C01BC' 'C01BD' 'C01CA' 'C01CE' 'C01DA' 'C01DX' 'C01EB'\n",
      " 'C02AB' 'C02AC' 'C02CA' 'C02CC' 'C02DA' 'C02DB' 'C02DC' 'C02KX' 'C03AA'\n",
      " 'C03BA' 'C03CA' 'C03CC' 'C03DA' 'C03DB' 'C03EA' 'C04AB' 'C04AC' 'C04AD'\n",
      " 'C04AX' 'C05AA' 'C05AE' 'C05AX' 'C05BB' 'C05CA' 'C07AA' 'C07AB' 'C07AG'\n",
      " 'C08CA' 'C08DA' 'C08DB' 'C08EX' 'C09AA' 'C09BA' 'C09BB' 'C09CA' 'C09DA'\n",
      " 'C09DB' 'C09DX' 'C10AA' 'C10AB' 'C10AC' 'C10AX' 'C10BA' 'C10BX' 'D01AA'\n",
      " 'D01AC' 'D01AE' 'D01BA' 'D02AA' 'D02AC' 'D02AE' 'D02AX' 'D02BA' 'D04AB'\n",
      " 'D04AX' 'D05AA' 'D05AX' 'D05BB' 'D06AA' 'D06AX' 'D06BA' 'D06BB' 'D06BX'\n",
      " 'D07AA' 'D07AB' 'D07AC' 'D07AD' 'D07CB' 'D07XA' 'D08AG' 'D08AL' 'D09A'\n",
      " 'D09AA' 'D09AB' 'D09AX' 'D10AD' 'D10AE' 'D10AF' 'D10AX' 'D10BA' 'D11AC'\n",
      " 'D11AH' 'D11AX' 'G01AA' 'G01AF' 'G02AB' 'G02AD' 'G02BA' 'G02C' 'G02CB'\n",
      " 'G03AA' 'G03AB' 'G03AC' 'G03AD' 'G03BA' 'G03BB' 'G03CA' 'G03CX' 'G03DA'\n",
      " 'G03DB' 'G03DC' 'G03FA' 'G03FB' 'G03GA' 'G03GB' 'G03HA' 'G03HB' 'G03XA'\n",
      " 'G03XB' 'G03XC' 'G04BD' 'G04BE' 'G04BX' 'G04CA' 'G04CB' 'H01AA' 'H01AB'\n",
      " 'H01AC' 'H01BA' 'H01BB' 'H01CA' 'H01CB' 'H01CC' 'H02AA' 'H02AB' 'H03AA'\n",
      " 'H03BA' 'H03BB' 'H04AA' 'H05AA' 'H05BA' 'H05BX' 'J01AA' 'J01CA' 'J01CE'\n",
      " 'J01CF' 'J01CR' 'J01DB' 'J01DC' 'J01DD' 'J01DE' 'J01DF' 'J01DH' 'J01EA'\n",
      " 'J01EE' 'J01FA' 'J01FF' 'J01GB' 'J01MA' 'J01XA' 'J01XB' 'J01XC' 'J01XD'\n",
      " 'J01XE' 'J01XX' 'J02AB' 'J02AC' 'J02AX' 'J04AB' 'J04AC' 'J04AK' 'J04BA'\n",
      " 'J05AB' 'J05AD' 'J05AE' 'J05AF' 'J05AG' 'J05AH' 'J05AR' 'J05AX' 'J06AA'\n",
      " 'J06BB' 'J07AE' 'J07AF' 'J07AG' 'J07AH' 'J07AL' 'J07AM' 'J07AP' 'J07AX'\n",
      " 'J07BA' 'J07BB' 'J07BC' 'J07BD' 'J07BF' 'J07BG' 'J07BH' 'J07BJ' 'J07BK'\n",
      " 'J07BM' 'J07CA' 'L01AA' 'L01AB' 'L01AC' 'L01AD' 'L01AX' 'L01BA' 'L01BB'\n",
      " 'L01BC' 'L01CA' 'L01CB' 'L01CD' 'L01DB' 'L01DC' 'L01XA' 'L01XB' 'L01XC'\n",
      " 'L01XE' 'L01XX' 'L02AB' 'L02AE' 'L02BA' 'L02BB' 'L02BG' 'L02BX' 'L03AA'\n",
      " 'L03AB' 'L03AX' 'L04AA' 'L04AB' 'L04AC' 'L04AD' 'L04AX' 'M01AA' 'M01AB'\n",
      " 'M01AC' 'M01AE' 'M01AG' 'M01AH' 'M01AX' 'M01CA' 'M01CB' 'M01CC' 'M02AA'\n",
      " 'M02AB' 'M02AC' 'M03AB' 'M03AC' 'M03AX' 'M03BC' 'M03BX' 'M03CA' 'M04AA'\n",
      " 'M04AB' 'M04AC' 'M05BA' 'M05BB' 'M05BX' 'N01AH' 'N01AX' 'N01BB' 'N02AA'\n",
      " 'N02AB' 'N02AC' 'N02AE' 'N02AX' 'N02BA' 'N02BE' 'N02BG' 'N02CA' 'N02CC'\n",
      " 'N02CX' 'N03AA' 'N03AB' 'N03AD' 'N03AE' 'N03AF' 'N03AG' 'N03AX' 'N04AA'\n",
      " 'N04AC' 'N04BA' 'N04BB' 'N04BC' 'N04BD' 'N04BX' 'N05AA' 'N05AB' 'N05AC'\n",
      " 'N05AD' 'N05AE' 'N05AF' 'N05AG' 'N05AH' 'N05AL' 'N05AN' 'N05AX' 'N05BA'\n",
      " 'N05BB' 'N05BE' 'N05CA' 'N05CC' 'N05CD' 'N05CF' 'N05CH' 'N05CM' 'N06AA'\n",
      " 'N06AB' 'N06AF' 'N06AG' 'N06AX' 'N06BA' 'N06DA' 'N06DX' 'N07AA' 'N07AB'\n",
      " 'N07BA' 'N07BB' 'N07BC' 'N07CA' 'N07XX' nan 'P01AX' 'P01BA' 'P01BB'\n",
      " 'P01BC' 'P01BD' 'P01BF' 'P02BA' 'P02CA' 'P02CB' 'P02CC' 'P02CF' 'P03AC'\n",
      " 'R01AA' 'R01AB' 'R01AC' 'R01AD' 'R01AX' 'R01BA' 'R02AA' 'R02AD' 'R03AC'\n",
      " 'R03AK' 'R03AL' 'R03BA' 'R03BB' 'R03BC' 'R03CC' 'R03DA' 'R03DC' 'R03DX'\n",
      " 'R05CA' 'R05CB' 'R05DA' 'R06AA' 'R06AB' 'R06AD' 'R06AE' 'R06AX' 'R07AX'\n",
      " 'S01AA' 'S01AB' 'S01AD' 'S01AE' 'S01AX' 'S01BA' 'S01BB' 'S01BC' 'S01EA'\n",
      " 'S01EB' 'S01EC' 'S01ED' 'S01EE' 'S01FA' 'S01FB' 'S01GA' 'S01GX' 'S01HA'\n",
      " 'S01JA' 'S01KA' 'S01LA' 'S01XA' 'S02AA' 'S02CA' 'S02DA' 'S02DC' 'V01AA'\n",
      " 'V03AB' 'V03AC' 'V03AE' 'V03AF' 'V03AG' 'V03AX' 'V04CA' 'V04CD' 'V06D'\n",
      " 'V06DB' 'V06DC' 'V06DE' 'V06DF' 'V06DX' 'V07A' 'V07AB' 'V07AY']\n",
      "ATCLevel5Code 1315 ['A01AB03' 'A01AB04' 'A01AB08' ..., 'V07A' 'V07AB' 'V07AY']\n"
     ]
    }
   ],
   "source": [
    "for col in atc_frame.columns:\n",
    "    if (col.find('Code') > 0):\n",
    "        print(col, len(atc_frame[col].unique()), atc_frame[col].unique())"
   ]
  },
  {
   "cell_type": "code",
   "execution_count": null,
   "metadata": {
    "collapsed": true
   },
   "outputs": [],
   "source": []
  }
 ],
 "metadata": {
  "kernelspec": {
   "display_name": "Python 3",
   "language": "python",
   "name": "python3"
  },
  "language_info": {
   "codemirror_mode": {
    "name": "ipython",
    "version": 3
   },
   "file_extension": ".py",
   "mimetype": "text/x-python",
   "name": "python",
   "nbconvert_exporter": "python",
   "pygments_lexer": "ipython3",
   "version": "3.6.1"
  }
 },
 "nbformat": 4,
 "nbformat_minor": 2
}
