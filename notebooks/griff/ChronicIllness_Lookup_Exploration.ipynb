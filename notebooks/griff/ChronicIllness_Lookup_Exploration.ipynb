{
 "cells": [
  {
   "cell_type": "markdown",
   "metadata": {},
   "source": [
    "For Griff's environment, set these variables (NB_DIR for convenience) \n",
    "\n",
    "```\n",
    "set NB_DIR=C:\\cygwin\\home\\Griff\\datathon2017\\melbourne-datathon\\notebooks\n",
    "set DATA_DIR=C:\\cygwin\\home\\Griff\\datathon2017\\MelbDatathon2017\n",
    "```"
   ]
  },
  {
   "cell_type": "markdown",
   "metadata": {},
   "source": [
    "I am running on Windows, so I have based this on the basic.sh in the repository.\n",
    "\n",
    "```\n",
    "conda create -n dthon python=3 python\n",
    "conda config --add channels conda-forge\n",
    "\n",
    "activate dthon\n",
    "conda install -y pandas\n",
    "conda install -y jupyter\n",
    "conda install -y matplotlib\n",
    "\n",
    "cd %NB_DIR%\n",
    "\n",
    "jupyter notebook\n",
    "```\n",
    "\n",
    "As far as I can tell, this should work..."
   ]
  },
  {
   "cell_type": "code",
   "execution_count": 1,
   "metadata": {
    "collapsed": true
   },
   "outputs": [],
   "source": [
    "import os\n",
    "\n",
    "import pandas as pd"
   ]
  },
  {
   "cell_type": "code",
   "execution_count": 2,
   "metadata": {},
   "outputs": [
    {
     "name": "stdout",
     "output_type": "stream",
     "text": [
      "C:\\cygwin\\home\\Griff\\datathon2017\\MelbDatathon2017\n"
     ]
    }
   ],
   "source": [
    "data_dir = os.getenv('DATA_DIR')\n",
    "print (data_dir)"
   ]
  },
  {
   "cell_type": "code",
   "execution_count": 3,
   "metadata": {},
   "outputs": [
    {
     "name": "stdout",
     "output_type": "stream",
     "text": [
      "C:\\cygwin\\home\\Griff\\datathon2017\\MelbDatathon2017\\Lookups\\ChronicIllness_LookUp.txt\n"
     ]
    }
   ],
   "source": [
    "# Path to the data.  Forgive me for renaming everything!\n",
    "\n",
    "fd_ci = os.path.join(data_dir, \"Lookups\", \"ChronicIllness_LookUp.txt\")\n",
    "print(fd_ci)\n"
   ]
  },
  {
   "cell_type": "code",
   "execution_count": 4,
   "metadata": {
    "collapsed": true
   },
   "outputs": [],
   "source": [
    "# Main dataframe, takes a bit of time to load.\n",
    "ci_frame = pd.read_csv(fd_ci, sep = '\\t')"
   ]
  },
  {
   "cell_type": "code",
   "execution_count": 5,
   "metadata": {},
   "outputs": [
    {
     "data": {
      "text/plain": [
       "ChronicIllness           2207\n",
       "MasterProductID          2207\n",
       "MasterProductFullName    2207\n",
       "dtype: int64"
      ]
     },
     "execution_count": 5,
     "metadata": {},
     "output_type": "execute_result"
    }
   ],
   "source": [
    "ci_frame.count()"
   ]
  },
  {
   "cell_type": "code",
   "execution_count": 6,
   "metadata": {},
   "outputs": [
    {
     "data": {
      "text/html": [
       "<div>\n",
       "<table border=\"1\" class=\"dataframe\">\n",
       "  <thead>\n",
       "    <tr style=\"text-align: right;\">\n",
       "      <th></th>\n",
       "      <th>ChronicIllness</th>\n",
       "      <th>MasterProductID</th>\n",
       "      <th>MasterProductFullName</th>\n",
       "    </tr>\n",
       "  </thead>\n",
       "  <tbody>\n",
       "    <tr>\n",
       "      <th>0</th>\n",
       "      <td>Diabetes</td>\n",
       "      <td>141</td>\n",
       "      <td>ACTOS TAB 30MG (AS HCL) 28</td>\n",
       "    </tr>\n",
       "    <tr>\n",
       "      <th>1</th>\n",
       "      <td>Diabetes</td>\n",
       "      <td>142</td>\n",
       "      <td>ACTOS TAB 45MG (AS HCL) 28</td>\n",
       "    </tr>\n",
       "    <tr>\n",
       "      <th>2</th>\n",
       "      <td>Osteoporosis</td>\n",
       "      <td>146</td>\n",
       "      <td>ACTONEL ONCE-A-MONTH TAB 150MG 1</td>\n",
       "    </tr>\n",
       "    <tr>\n",
       "      <th>3</th>\n",
       "      <td>Osteoporosis</td>\n",
       "      <td>267</td>\n",
       "      <td>ALENDROBELL TAB 70MG 4</td>\n",
       "    </tr>\n",
       "    <tr>\n",
       "      <th>4</th>\n",
       "      <td>Osteoporosis</td>\n",
       "      <td>269</td>\n",
       "      <td>ALENDRONATE (GA) TAB 70MG 4</td>\n",
       "    </tr>\n",
       "  </tbody>\n",
       "</table>\n",
       "</div>"
      ],
      "text/plain": [
       "  ChronicIllness  MasterProductID              MasterProductFullName\n",
       "0       Diabetes              141        ACTOS TAB 30MG (AS HCL) 28 \n",
       "1       Diabetes              142        ACTOS TAB 45MG (AS HCL) 28 \n",
       "2   Osteoporosis              146  ACTONEL ONCE-A-MONTH TAB 150MG 1 \n",
       "3   Osteoporosis              267            ALENDROBELL TAB 70MG 4 \n",
       "4   Osteoporosis              269       ALENDRONATE (GA) TAB 70MG 4 "
      ]
     },
     "execution_count": 6,
     "metadata": {},
     "output_type": "execute_result"
    }
   ],
   "source": [
    "ci_frame.head()"
   ]
  },
  {
   "cell_type": "code",
   "execution_count": 7,
   "metadata": {
    "scrolled": true
   },
   "outputs": [
    {
     "name": "stdout",
     "output_type": "stream",
     "text": [
      "ChronicIllness 11\n",
      "MasterProductID 2207\n",
      "MasterProductFullName 2196\n"
     ]
    }
   ],
   "source": [
    "# Looking for the number of unique element in each columns.\n",
    "\n",
    "for col in ci_frame.columns:\n",
    "    print(col, len(ci_frame[col].unique()))"
   ]
  },
  {
   "cell_type": "code",
   "execution_count": 8,
   "metadata": {
    "scrolled": true
   },
   "outputs": [
    {
     "name": "stdout",
     "output_type": "stream",
     "text": [
      "ChronicIllness 11 ['Diabetes' 'Osteoporosis' 'Depression' 'Epilepsy' 'Lipids' 'Hypertension'\n",
      " 'Heart Failure' 'Anti-Coagulant' 'Immunology' 'Urology'\n",
      " 'Chronic Obstructive Pulmonary Disease (COPD)']\n"
     ]
    }
   ],
   "source": [
    "col = 'ChronicIllness'\n",
    "print(col, len(ci_frame[col].unique()), ci_frame[col].unique())"
   ]
  },
  {
   "cell_type": "markdown",
   "metadata": {
    "collapsed": true
   },
   "source": [
    "Noticed that there were a few less `MasterProductFullName` instances to `MasterProductID` instances, so I found this 'look for duplicates' code in the internet (stackoverflow)"
   ]
  },
  {
   "cell_type": "code",
   "execution_count": 9,
   "metadata": {},
   "outputs": [
    {
     "data": {
      "text/html": [
       "<div>\n",
       "<table border=\"1\" class=\"dataframe\">\n",
       "  <thead>\n",
       "    <tr style=\"text-align: right;\">\n",
       "      <th></th>\n",
       "      <th>ChronicIllness</th>\n",
       "      <th>MasterProductID</th>\n",
       "      <th>MasterProductFullName</th>\n",
       "    </tr>\n",
       "  </thead>\n",
       "  <tbody>\n",
       "    <tr>\n",
       "      <th>52</th>\n",
       "      <td>Anti-Coagulant</td>\n",
       "      <td>1830</td>\n",
       "      <td>CLEXANE INJ 40MG/0.4ML 10 10</td>\n",
       "    </tr>\n",
       "    <tr>\n",
       "      <th>1285</th>\n",
       "      <td>Anti-Coagulant</td>\n",
       "      <td>1820</td>\n",
       "      <td>CLEXANE INJ 40MG/0.4ML 10 10</td>\n",
       "    </tr>\n",
       "    <tr>\n",
       "      <th>88</th>\n",
       "      <td>Immunology</td>\n",
       "      <td>3022</td>\n",
       "      <td>ENBREL PFS 50MG/1ML 1 4</td>\n",
       "    </tr>\n",
       "    <tr>\n",
       "      <th>1567</th>\n",
       "      <td>Immunology</td>\n",
       "      <td>3021</td>\n",
       "      <td>ENBREL PFS 50MG/1ML 1 4</td>\n",
       "    </tr>\n",
       "    <tr>\n",
       "      <th>86</th>\n",
       "      <td>Immunology</td>\n",
       "      <td>3018</td>\n",
       "      <td>ENBREL VL 25MG + SOLVENT 1ML 1 4</td>\n",
       "    </tr>\n",
       "    <tr>\n",
       "      <th>87</th>\n",
       "      <td>Immunology</td>\n",
       "      <td>3019</td>\n",
       "      <td>ENBREL VL 25MG + SOLVENT 1ML 1 4</td>\n",
       "    </tr>\n",
       "    <tr>\n",
       "      <th>133</th>\n",
       "      <td>Immunology</td>\n",
       "      <td>4082</td>\n",
       "      <td>HUMIRA PFP 40MG/0.8ML 2 2</td>\n",
       "    </tr>\n",
       "    <tr>\n",
       "      <th>1024</th>\n",
       "      <td>Immunology</td>\n",
       "      <td>9647</td>\n",
       "      <td>HUMIRA PFP 40MG/0.8ML 2 2</td>\n",
       "    </tr>\n",
       "    <tr>\n",
       "      <th>1025</th>\n",
       "      <td>Immunology</td>\n",
       "      <td>9648</td>\n",
       "      <td>HUMIRA PFS 20MG/0.4ML 2 2</td>\n",
       "    </tr>\n",
       "    <tr>\n",
       "      <th>2194</th>\n",
       "      <td>Immunology</td>\n",
       "      <td>13004</td>\n",
       "      <td>HUMIRA PFS 20MG/0.4ML 2 2</td>\n",
       "    </tr>\n",
       "    <tr>\n",
       "      <th>1612</th>\n",
       "      <td>Immunology</td>\n",
       "      <td>4081</td>\n",
       "      <td>HUMIRA PFS 40MG/0.8ML 2 2</td>\n",
       "    </tr>\n",
       "    <tr>\n",
       "      <th>1748</th>\n",
       "      <td>Immunology</td>\n",
       "      <td>9649</td>\n",
       "      <td>HUMIRA PFS 40MG/0.8ML 2 2</td>\n",
       "    </tr>\n",
       "    <tr>\n",
       "      <th>302</th>\n",
       "      <td>Immunology</td>\n",
       "      <td>10287</td>\n",
       "      <td>MABTHERA IV-SOLN 100MG/10ML 2</td>\n",
       "    </tr>\n",
       "    <tr>\n",
       "      <th>1988</th>\n",
       "      <td>Immunology</td>\n",
       "      <td>13170</td>\n",
       "      <td>MABTHERA IV-SOLN 100MG/10ML 2</td>\n",
       "    </tr>\n",
       "    <tr>\n",
       "      <th>2038</th>\n",
       "      <td>Immunology</td>\n",
       "      <td>5069</td>\n",
       "      <td>MABTHERA IV-SOLN 100MG/10ML 2</td>\n",
       "    </tr>\n",
       "    <tr>\n",
       "      <th>1049</th>\n",
       "      <td>Immunology</td>\n",
       "      <td>10286</td>\n",
       "      <td>MABTHERA IV-SOLN 500MG/50ML 1</td>\n",
       "    </tr>\n",
       "    <tr>\n",
       "      <th>1662</th>\n",
       "      <td>Immunology</td>\n",
       "      <td>5070</td>\n",
       "      <td>MABTHERA IV-SOLN 500MG/50ML 1</td>\n",
       "    </tr>\n",
       "    <tr>\n",
       "      <th>1663</th>\n",
       "      <td>Immunology</td>\n",
       "      <td>5071</td>\n",
       "      <td>MABTHERA IV-SOLN 500MG/50ML 1</td>\n",
       "    </tr>\n",
       "    <tr>\n",
       "      <th>246</th>\n",
       "      <td>Heart Failure</td>\n",
       "      <td>8184</td>\n",
       "      <td>SOTACOR TAB 160MG 60</td>\n",
       "    </tr>\n",
       "    <tr>\n",
       "      <th>1001</th>\n",
       "      <td>Heart Failure</td>\n",
       "      <td>8180</td>\n",
       "      <td>SOTACOR TAB 160MG 60</td>\n",
       "    </tr>\n",
       "  </tbody>\n",
       "</table>\n",
       "</div>"
      ],
      "text/plain": [
       "      ChronicIllness  MasterProductID             MasterProductFullName\n",
       "52    Anti-Coagulant             1830      CLEXANE INJ 40MG/0.4ML 10 10\n",
       "1285  Anti-Coagulant             1820      CLEXANE INJ 40MG/0.4ML 10 10\n",
       "88        Immunology             3022           ENBREL PFS 50MG/1ML 1 4\n",
       "1567      Immunology             3021           ENBREL PFS 50MG/1ML 1 4\n",
       "86        Immunology             3018  ENBREL VL 25MG + SOLVENT 1ML 1 4\n",
       "87        Immunology             3019  ENBREL VL 25MG + SOLVENT 1ML 1 4\n",
       "133       Immunology             4082         HUMIRA PFP 40MG/0.8ML 2 2\n",
       "1024      Immunology             9647         HUMIRA PFP 40MG/0.8ML 2 2\n",
       "1025      Immunology             9648         HUMIRA PFS 20MG/0.4ML 2 2\n",
       "2194      Immunology            13004         HUMIRA PFS 20MG/0.4ML 2 2\n",
       "1612      Immunology             4081         HUMIRA PFS 40MG/0.8ML 2 2\n",
       "1748      Immunology             9649         HUMIRA PFS 40MG/0.8ML 2 2\n",
       "302       Immunology            10287    MABTHERA IV-SOLN 100MG/10ML 2 \n",
       "1988      Immunology            13170    MABTHERA IV-SOLN 100MG/10ML 2 \n",
       "2038      Immunology             5069    MABTHERA IV-SOLN 100MG/10ML 2 \n",
       "1049      Immunology            10286    MABTHERA IV-SOLN 500MG/50ML 1 \n",
       "1662      Immunology             5070    MABTHERA IV-SOLN 500MG/50ML 1 \n",
       "1663      Immunology             5071    MABTHERA IV-SOLN 500MG/50ML 1 \n",
       "246    Heart Failure             8184             SOTACOR TAB 160MG 60 \n",
       "1001   Heart Failure             8180             SOTACOR TAB 160MG 60 "
      ]
     },
     "execution_count": 9,
     "metadata": {},
     "output_type": "execute_result"
    }
   ],
   "source": [
    "pd.concat(g for _, g in ci_frame.groupby(\"MasterProductFullName\") if len(g) > 1)    "
   ]
  },
  {
   "cell_type": "code",
   "execution_count": null,
   "metadata": {
    "collapsed": true
   },
   "outputs": [],
   "source": []
  }
 ],
 "metadata": {
  "kernelspec": {
   "display_name": "Python 3",
   "language": "python",
   "name": "python3"
  },
  "language_info": {
   "codemirror_mode": {
    "name": "ipython",
    "version": 3
   },
   "file_extension": ".py",
   "mimetype": "text/x-python",
   "name": "python",
   "nbconvert_exporter": "python",
   "pygments_lexer": "ipython3",
   "version": "3.6.1"
  }
 },
 "nbformat": 4,
 "nbformat_minor": 2
}
