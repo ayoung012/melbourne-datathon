{
 "cells": [
  {
   "cell_type": "markdown",
   "metadata": {},
   "source": [
    "For Griff's environment, set these variables (NB_DIR for convenience) \n",
    "\n",
    "```\n",
    "set NB_DIR=C:\\cygwin\\home\\Griff\\datathon2017\\melbourne-datathon\\notebooks\n",
    "set DATA_DIR=C:\\cygwin\\home\\Griff\\datathon2017\\MelbDatathon2017\n",
    "```"
   ]
  },
  {
   "cell_type": "markdown",
   "metadata": {},
   "source": [
    "I am running on Windows, so I have based this on the basic.sh in the repository.\n",
    "\n",
    "```\n",
    "conda create -n dthon python=3 python\n",
    "conda config --add channels conda-forge\n",
    "\n",
    "activate dthon\n",
    "conda install -y pandas\n",
    "conda install -y jupyter\n",
    "conda install -y matplotlib\n",
    "\n",
    "cd %NB_DIR%\n",
    "\n",
    "jupyter notebook\n",
    "```\n",
    "\n",
    "As far as I can tell, this should work..."
   ]
  },
  {
   "cell_type": "code",
   "execution_count": 1,
   "metadata": {
    "collapsed": true
   },
   "outputs": [],
   "source": [
    "import os\n",
    "\n",
    "import pandas as pd\n",
    "import matplotlib.pyplot as pl"
   ]
  },
  {
   "cell_type": "code",
   "execution_count": 2,
   "metadata": {},
   "outputs": [
    {
     "name": "stdout",
     "output_type": "stream",
     "text": [
      "C:\\cygwin\\home\\Griff\\datathon2017\\MelbDatathon2017\n"
     ]
    }
   ],
   "source": [
    "data_dir = os.getenv('DATA_DIR')\n",
    "print (data_dir)"
   ]
  },
  {
   "cell_type": "code",
   "execution_count": 3,
   "metadata": {},
   "outputs": [
    {
     "name": "stdout",
     "output_type": "stream",
     "text": [
      "C:\\cygwin\\home\\Griff\\datathon2017\\MelbDatathon2017\\Lookups\\patients.txt\n"
     ]
    }
   ],
   "source": [
    "# Path to the data.  Forgive me for renaming everything!\n",
    "\n",
    "fd_pat = os.path.join(data_dir, \"Lookups\", \"patients.txt\")\n",
    "print(fd_pat)"
   ]
  },
  {
   "cell_type": "code",
   "execution_count": 4,
   "metadata": {
    "collapsed": true
   },
   "outputs": [],
   "source": [
    "# Main dataframe, takes a bit of time to load.\n",
    "p_frame = pd.read_csv(fd_pat, sep = '\\t', na_filter = False)\n",
    "\n",
    "# Note: cannot use na_values = 1900 because it loses the Patient_ID = 1990\n",
    "# p_frame = pd.read_csv(fd_pat, sep = '\\t', na_values = 1900)"
   ]
  },
  {
   "cell_type": "code",
   "execution_count": 5,
   "metadata": {},
   "outputs": [
    {
     "data": {
      "text/plain": [
       "Patient_ID       558352\n",
       "gender           558352\n",
       "year_of_birth    558352\n",
       "postcode         558352\n",
       "dtype: int64"
      ]
     },
     "execution_count": 5,
     "metadata": {},
     "output_type": "execute_result"
    }
   ],
   "source": [
    "p_frame.count()"
   ]
  },
  {
   "cell_type": "code",
   "execution_count": 6,
   "metadata": {},
   "outputs": [
    {
     "data": {
      "text/html": [
       "<div>\n",
       "<table border=\"1\" class=\"dataframe\">\n",
       "  <thead>\n",
       "    <tr style=\"text-align: right;\">\n",
       "      <th></th>\n",
       "      <th>Patient_ID</th>\n",
       "      <th>gender</th>\n",
       "      <th>year_of_birth</th>\n",
       "      <th>postcode</th>\n",
       "    </tr>\n",
       "  </thead>\n",
       "  <tbody>\n",
       "    <tr>\n",
       "      <th>0</th>\n",
       "      <td>1</td>\n",
       "      <td>F</td>\n",
       "      <td>1900</td>\n",
       "      <td>2516</td>\n",
       "    </tr>\n",
       "    <tr>\n",
       "      <th>1</th>\n",
       "      <td>2</td>\n",
       "      <td>F</td>\n",
       "      <td>1935</td>\n",
       "      <td>3042</td>\n",
       "    </tr>\n",
       "    <tr>\n",
       "      <th>2</th>\n",
       "      <td>3</td>\n",
       "      <td>M</td>\n",
       "      <td>1900</td>\n",
       "      <td>4750</td>\n",
       "    </tr>\n",
       "    <tr>\n",
       "      <th>3</th>\n",
       "      <td>4</td>\n",
       "      <td>U</td>\n",
       "      <td>1900</td>\n",
       "      <td>2765</td>\n",
       "    </tr>\n",
       "    <tr>\n",
       "      <th>4</th>\n",
       "      <td>5</td>\n",
       "      <td>U</td>\n",
       "      <td>1900</td>\n",
       "      <td>2229</td>\n",
       "    </tr>\n",
       "  </tbody>\n",
       "</table>\n",
       "</div>"
      ],
      "text/plain": [
       "   Patient_ID gender  year_of_birth  postcode\n",
       "0           1      F           1900      2516\n",
       "1           2      F           1935      3042\n",
       "2           3      M           1900      4750\n",
       "3           4      U           1900      2765\n",
       "4           5      U           1900      2229"
      ]
     },
     "execution_count": 6,
     "metadata": {},
     "output_type": "execute_result"
    }
   ],
   "source": [
    "p_frame.head()"
   ]
  },
  {
   "cell_type": "code",
   "execution_count": 7,
   "metadata": {
    "scrolled": true
   },
   "outputs": [
    {
     "name": "stdout",
     "output_type": "stream",
     "text": [
      "Patient_ID 558352\n",
      "gender 3\n",
      "year_of_birth 95\n",
      "postcode 2529\n"
     ]
    }
   ],
   "source": [
    "# Looking for the number of unique element in each columns.\n",
    "\n",
    "for col in p_frame.columns:\n",
    "    print(col, len(p_frame[col].unique()))"
   ]
  },
  {
   "cell_type": "code",
   "execution_count": 8,
   "metadata": {
    "scrolled": true
   },
   "outputs": [
    {
     "name": "stdout",
     "output_type": "stream",
     "text": [
      "gender 3 ['F' 'M' 'U']\n",
      "year_of_birth 95 [1900 1922 1923 1924 1925 1926 1927 1928 1929 1930 1931 1932 1933 1934 1935\n",
      " 1936 1937 1938 1939 1940 1941 1942 1943 1944 1945 1946 1947 1948 1949 1950\n",
      " 1951 1952 1953 1954 1955 1956 1957 1958 1959 1960 1961 1962 1963 1964 1965\n",
      " 1966 1967 1968 1969 1970 1971 1972 1973 1974 1975 1976 1977 1978 1979 1980\n",
      " 1981 1982 1983 1984 1985 1986 1987 1988 1989 1990 1991 1992 1993 1994 1995\n",
      " 1996 1997 1998 1999 2000 2001 2002 2003 2004 2005 2006 2007 2008 2009 2010\n",
      " 2011 2012 2013 2014 2015]\n"
     ]
    }
   ],
   "source": [
    "# variation to order the lists... couldn't work out how to do it on one line...\n",
    "# Looking at the smaller sets to see what they might contain.\n",
    "for col in ('gender', 'year_of_birth'):\n",
    "    u = p_frame[col].unique()\n",
    "    u.sort()\n",
    "    print(col, len(u), u)"
   ]
  },
  {
   "cell_type": "code",
   "execution_count": 9,
   "metadata": {},
   "outputs": [
    {
     "data": {
      "image/png": "[encoded data removed]",
      "text/plain": [
       "<matplotlib.figure.Figure at 0x86ecf60>"
      ]
     },
     "metadata": {},
     "output_type": "display_data"
    }
   ],
   "source": [
    "# p_frame.hist('year_of_birth', bins=95)\n",
    "p_frame.hist('year_of_birth', bins=len(p_frame.year_of_birth.unique())) # Use exactly the right number of bins\n",
    "pl.show()\n",
    "\n",
    "# This has the 93% of 1900 dates dwarfing the rest of the histogram.\n",
    "# A simple solution would be to reset the axis, but I would like to understand\n",
    "# how to select the data subset that has valid data"
   ]
  },
  {
   "cell_type": "markdown",
   "metadata": {},
   "source": [
    "As yet, I do not understand `pandas`.  Apparently,\n",
    "\n",
    "The axis labeling information in pandas objects serves many purposes:\n",
    " * Identifies data (i.e. provides metadata) using known indicators, important for analysis, visualization, and interactive console display\n",
    " * Enables automatic and explicit data alignment\n",
    " * Allows intuitive getting and setting of subsets of the data set\n",
    "\n",
    "http://pandas.pydata.org/pandas-docs/stable/indexing.html\n",
    "\n",
    "I am still to understand the \"Allows _intuitive_ getting and setting of subsets of the data set\""
   ]
  },
  {
   "cell_type": "code",
   "execution_count": 10,
   "metadata": {},
   "outputs": [
    {
     "data": {
      "text/plain": [
       "array([1900, 1935, 1951, 1971, 1969, 1949, 1938, 1957, 1950, 1947, 1927,\n",
       "       1945, 1976, 1993, 1937, 1934, 1931, 1962, 1970, 1930, 1940, 1936,\n",
       "       1944, 1926, 1980, 1959, 1963, 1955, 1953, 1922, 1952, 1960, 1966,\n",
       "       1954, 1946, 1943, 1939, 1956, 1948, 1961, 1941, 1964, 1932, 1958,\n",
       "       1972, 1925, 1983, 1924, 1977, 1942, 1979, 1981, 1982, 1973, 1967,\n",
       "       2001, 1929, 1968, 1928, 1984, 1965, 1988, 1978, 1975, 1985, 2011,\n",
       "       2006, 2000, 1999, 1987, 1933, 1990, 1998, 1974, 2007, 2005, 1923,\n",
       "       1986, 1989, 2008, 2003, 1997, 1991, 1994, 2002, 2012, 1992, 1996,\n",
       "       2010, 1995, 2013, 2004, 2014, 2009, 2015], dtype=int64)"
      ]
     },
     "execution_count": 10,
     "metadata": {},
     "output_type": "execute_result"
    }
   ],
   "source": [
    "p_frame.year_of_birth.unique()"
   ]
  },
  {
   "cell_type": "markdown",
   "metadata": {},
   "source": [
    "I have taken a small subset of the patient dataframe to avoid huge dumps"
   ]
  },
  {
   "cell_type": "code",
   "execution_count": 11,
   "metadata": {
    "collapsed": true
   },
   "outputs": [],
   "source": [
    "x_frame = p_frame[:10]"
   ]
  },
  {
   "cell_type": "code",
   "execution_count": 12,
   "metadata": {},
   "outputs": [
    {
     "data": {
      "text/html": [
       "<div>\n",
       "<table border=\"1\" class=\"dataframe\">\n",
       "  <thead>\n",
       "    <tr style=\"text-align: right;\">\n",
       "      <th></th>\n",
       "      <th>Patient_ID</th>\n",
       "      <th>gender</th>\n",
       "      <th>year_of_birth</th>\n",
       "      <th>postcode</th>\n",
       "    </tr>\n",
       "  </thead>\n",
       "  <tbody>\n",
       "    <tr>\n",
       "      <th>1</th>\n",
       "      <td>2</td>\n",
       "      <td>F</td>\n",
       "      <td>1935</td>\n",
       "      <td>3042</td>\n",
       "    </tr>\n",
       "    <tr>\n",
       "      <th>2</th>\n",
       "      <td>3</td>\n",
       "      <td>M</td>\n",
       "      <td>1900</td>\n",
       "      <td>4750</td>\n",
       "    </tr>\n",
       "    <tr>\n",
       "      <th>3</th>\n",
       "      <td>4</td>\n",
       "      <td>U</td>\n",
       "      <td>1900</td>\n",
       "      <td>2765</td>\n",
       "    </tr>\n",
       "    <tr>\n",
       "      <th>4</th>\n",
       "      <td>5</td>\n",
       "      <td>U</td>\n",
       "      <td>1900</td>\n",
       "      <td>2229</td>\n",
       "    </tr>\n",
       "    <tr>\n",
       "      <th>5</th>\n",
       "      <td>6</td>\n",
       "      <td>U</td>\n",
       "      <td>1900</td>\n",
       "      <td>3162</td>\n",
       "    </tr>\n",
       "    <tr>\n",
       "      <th>6</th>\n",
       "      <td>7</td>\n",
       "      <td>M</td>\n",
       "      <td>1900</td>\n",
       "      <td>6150</td>\n",
       "    </tr>\n",
       "    <tr>\n",
       "      <th>7</th>\n",
       "      <td>8</td>\n",
       "      <td>U</td>\n",
       "      <td>1900</td>\n",
       "      <td>4306</td>\n",
       "    </tr>\n",
       "    <tr>\n",
       "      <th>8</th>\n",
       "      <td>9</td>\n",
       "      <td>F</td>\n",
       "      <td>1900</td>\n",
       "      <td>6020</td>\n",
       "    </tr>\n",
       "    <tr>\n",
       "      <th>9</th>\n",
       "      <td>10</td>\n",
       "      <td>F</td>\n",
       "      <td>1900</td>\n",
       "      <td>4161</td>\n",
       "    </tr>\n",
       "  </tbody>\n",
       "</table>\n",
       "</div>"
      ],
      "text/plain": [
       "   Patient_ID gender  year_of_birth  postcode\n",
       "1           2      F           1935      3042\n",
       "2           3      M           1900      4750\n",
       "3           4      U           1900      2765\n",
       "4           5      U           1900      2229\n",
       "5           6      U           1900      3162\n",
       "6           7      M           1900      6150\n",
       "7           8      U           1900      4306\n",
       "8           9      F           1900      6020\n",
       "9          10      F           1900      4161"
      ]
     },
     "execution_count": 12,
     "metadata": {},
     "output_type": "execute_result"
    }
   ],
   "source": [
    "# I do not understand the difference between the method loc() and iloc()\n",
    "x_frame.loc[1:]"
   ]
  },
  {
   "cell_type": "code",
   "execution_count": 13,
   "metadata": {},
   "outputs": [
    {
     "data": {
      "text/html": [
       "<div>\n",
       "<table border=\"1\" class=\"dataframe\">\n",
       "  <thead>\n",
       "    <tr style=\"text-align: right;\">\n",
       "      <th></th>\n",
       "      <th>Patient_ID</th>\n",
       "      <th>gender</th>\n",
       "      <th>year_of_birth</th>\n",
       "      <th>postcode</th>\n",
       "    </tr>\n",
       "  </thead>\n",
       "  <tbody>\n",
       "    <tr>\n",
       "      <th>1</th>\n",
       "      <td>2</td>\n",
       "      <td>F</td>\n",
       "      <td>1935</td>\n",
       "      <td>3042</td>\n",
       "    </tr>\n",
       "    <tr>\n",
       "      <th>2</th>\n",
       "      <td>3</td>\n",
       "      <td>M</td>\n",
       "      <td>1900</td>\n",
       "      <td>4750</td>\n",
       "    </tr>\n",
       "    <tr>\n",
       "      <th>3</th>\n",
       "      <td>4</td>\n",
       "      <td>U</td>\n",
       "      <td>1900</td>\n",
       "      <td>2765</td>\n",
       "    </tr>\n",
       "    <tr>\n",
       "      <th>4</th>\n",
       "      <td>5</td>\n",
       "      <td>U</td>\n",
       "      <td>1900</td>\n",
       "      <td>2229</td>\n",
       "    </tr>\n",
       "    <tr>\n",
       "      <th>5</th>\n",
       "      <td>6</td>\n",
       "      <td>U</td>\n",
       "      <td>1900</td>\n",
       "      <td>3162</td>\n",
       "    </tr>\n",
       "    <tr>\n",
       "      <th>6</th>\n",
       "      <td>7</td>\n",
       "      <td>M</td>\n",
       "      <td>1900</td>\n",
       "      <td>6150</td>\n",
       "    </tr>\n",
       "    <tr>\n",
       "      <th>7</th>\n",
       "      <td>8</td>\n",
       "      <td>U</td>\n",
       "      <td>1900</td>\n",
       "      <td>4306</td>\n",
       "    </tr>\n",
       "    <tr>\n",
       "      <th>8</th>\n",
       "      <td>9</td>\n",
       "      <td>F</td>\n",
       "      <td>1900</td>\n",
       "      <td>6020</td>\n",
       "    </tr>\n",
       "    <tr>\n",
       "      <th>9</th>\n",
       "      <td>10</td>\n",
       "      <td>F</td>\n",
       "      <td>1900</td>\n",
       "      <td>4161</td>\n",
       "    </tr>\n",
       "  </tbody>\n",
       "</table>\n",
       "</div>"
      ],
      "text/plain": [
       "   Patient_ID gender  year_of_birth  postcode\n",
       "1           2      F           1935      3042\n",
       "2           3      M           1900      4750\n",
       "3           4      U           1900      2765\n",
       "4           5      U           1900      2229\n",
       "5           6      U           1900      3162\n",
       "6           7      M           1900      6150\n",
       "7           8      U           1900      4306\n",
       "8           9      F           1900      6020\n",
       "9          10      F           1900      4161"
      ]
     },
     "execution_count": 13,
     "metadata": {},
     "output_type": "execute_result"
    }
   ],
   "source": [
    "# I do not understand the difference between the method loc() and iloc()\n",
    "x_frame.iloc[1:]"
   ]
  },
  {
   "cell_type": "code",
   "execution_count": 14,
   "metadata": {},
   "outputs": [
    {
     "data": {
      "text/html": [
       "<div>\n",
       "<table border=\"1\" class=\"dataframe\">\n",
       "  <thead>\n",
       "    <tr style=\"text-align: right;\">\n",
       "      <th></th>\n",
       "      <th>Patient_ID</th>\n",
       "      <th>gender</th>\n",
       "      <th>year_of_birth</th>\n",
       "      <th>postcode</th>\n",
       "    </tr>\n",
       "  </thead>\n",
       "  <tbody>\n",
       "    <tr>\n",
       "      <th>1</th>\n",
       "      <td>2</td>\n",
       "      <td>F</td>\n",
       "      <td>1935</td>\n",
       "      <td>3042</td>\n",
       "    </tr>\n",
       "  </tbody>\n",
       "</table>\n",
       "</div>"
      ],
      "text/plain": [
       "   Patient_ID gender  year_of_birth  postcode\n",
       "1           2      F           1935      3042"
      ]
     },
     "execution_count": 14,
     "metadata": {},
     "output_type": "execute_result"
    }
   ],
   "source": [
    "# this does allow me to select the only valid year_of_birth record.\n",
    "x_frame.loc[lambda df: df.year_of_birth > 1900, :]"
   ]
  },
  {
   "cell_type": "markdown",
   "metadata": {},
   "source": [
    "So, given that this selection method gets the valid dates and does not accidentally remove the Patient_ID = 1900\n",
    "I will use this."
   ]
  },
  {
   "cell_type": "code",
   "execution_count": 15,
   "metadata": {
    "collapsed": true
   },
   "outputs": [],
   "source": [
    "pna_frame = p_frame.loc[lambda df: df.year_of_birth > 1900, :]"
   ]
  },
  {
   "cell_type": "code",
   "execution_count": 16,
   "metadata": {},
   "outputs": [
    {
     "data": {
      "image/png": "[encoded data removed]",
      "text/plain": [
       "<matplotlib.figure.Figure at 0x9209b38>"
      ]
     },
     "metadata": {},
     "output_type": "display_data"
    }
   ],
   "source": [
    "# print(len(pna_frame.year_of_birth.unique()))\n",
    "pna_frame.hist('year_of_birth', bins=len(pna_frame.year_of_birth.unique())) # Use exactly the right number of bins\n",
    "pl.show()"
   ]
  },
  {
   "cell_type": "markdown",
   "metadata": {},
   "source": [
    "A note on the method of accessing objects.  The two methods below are effectively equivalent"
   ]
  },
  {
   "cell_type": "code",
   "execution_count": 17,
   "metadata": {},
   "outputs": [
    {
     "data": {
      "text/plain": [
       "pandas.core.series.Series"
      ]
     },
     "execution_count": 17,
     "metadata": {},
     "output_type": "execute_result"
    }
   ],
   "source": [
    "# p_frame['year_of_birth'] == p_frame.year_of_birth\n",
    "\n",
    "type(p_frame.year_of_birth)"
   ]
  },
  {
   "cell_type": "code",
   "execution_count": 18,
   "metadata": {},
   "outputs": [
    {
     "data": {
      "text/plain": [
       "pandas.core.series.Series"
      ]
     },
     "execution_count": 18,
     "metadata": {},
     "output_type": "execute_result"
    }
   ],
   "source": [
    "type(p_frame['year_of_birth'])"
   ]
  }
 ],
 "metadata": {
  "kernelspec": {
   "display_name": "Python 3",
   "language": "python",
   "name": "python3"
  },
  "language_info": {
   "codemirror_mode": {
    "name": "ipython",
    "version": 3
   },
   "file_extension": ".py",
   "mimetype": "text/x-python",
   "name": "python",
   "nbconvert_exporter": "python",
   "pygments_lexer": "ipython3",
   "version": "3.6.1"
  }
 },
 "nbformat": 4,
 "nbformat_minor": 2
}
