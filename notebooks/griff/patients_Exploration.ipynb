{
 "cells": [
  {
   "cell_type": "markdown",
   "metadata": {},
   "source": [
    "For Griff's environment, set these variables (NB_DIR for convenience) \n",
    "\n",
    "```\n",
    "set NB_DIR=C:\\cygwin\\home\\Griff\\datathon2017\\melbourne-datathon\\notebooks\n",
    "set DATA_DIR=C:\\cygwin\\home\\Griff\\datathon2017\\MelbDatathon2017\n",
    "```"
   ]
  },
  {
   "cell_type": "markdown",
   "metadata": {},
   "source": [
    "I am running on Windows, so I have based this on the basic.sh in the repository.\n",
    "\n",
    "```\n",
    "conda create -n dthon python=3 python\n",
    "conda config --add channels conda-forge\n",
    "\n",
    "activate dthon\n",
    "conda install -y pandas\n",
    "conda install -y jupyter\n",
    "conda install -y matplotlib\n",
    "\n",
    "cd %NB_DIR%\n",
    "\n",
    "jupyter notebook\n",
    "```\n",
    "\n",
    "As far as I can tell, this should work..."
   ]
  },
  {
   "cell_type": "code",
   "execution_count": 1,
   "metadata": {
    "collapsed": true
   },
   "outputs": [],
   "source": [
    "import os\n",
    "\n",
    "import pandas as pd\n",
    "import matplotlib.pyplot as pl"
   ]
  },
  {
   "cell_type": "code",
   "execution_count": 2,
   "metadata": {},
   "outputs": [
    {
     "name": "stdout",
     "output_type": "stream",
     "text": [
      "C:\\cygwin\\home\\Griff\\datathon2017\\MelbDatathon2017\n"
     ]
    }
   ],
   "source": [
    "data_dir = os.getenv('DATA_DIR')\n",
    "print (data_dir)"
   ]
  },
  {
   "cell_type": "code",
   "execution_count": 3,
   "metadata": {},
   "outputs": [
    {
     "name": "stdout",
     "output_type": "stream",
     "text": [
      "C:\\cygwin\\home\\Griff\\datathon2017\\MelbDatathon2017\\Lookups\\patients.txt\n"
     ]
    }
   ],
   "source": [
    "# Path to the data.  Forgive me for renaming everything!\n",
    "\n",
    "fd_pat = os.path.join(data_dir, \"Lookups\", \"patients.txt\")\n",
    "print(fd_pat)"
   ]
  },
  {
   "cell_type": "code",
   "execution_count": 4,
   "metadata": {
    "collapsed": true
   },
   "outputs": [],
   "source": [
    "# Main dataframe, takes a bit of time to load.\n",
    "p_frame = pd.read_csv(fd_pat, sep = '\\t', na_filter = False)\n",
    "\n",
    "# Note: cannot use na_values = 1900 because it loses the Patient_ID = 1990\n",
    "# p_frame = pd.read_csv(fd_pat, sep = '\\t', na_values = 1900)"
   ]
  },
  {
   "cell_type": "code",
   "execution_count": 5,
   "metadata": {},
   "outputs": [
    {
     "data": {
      "text/plain": [
       "Patient_ID       558352\n",
       "gender           558352\n",
       "year_of_birth    558352\n",
       "postcode         558352\n",
       "dtype: int64"
      ]
     },
     "execution_count": 5,
     "metadata": {},
     "output_type": "execute_result"
    }
   ],
   "source": [
    "p_frame.count()"
   ]
  },
  {
   "cell_type": "code",
   "execution_count": 6,
   "metadata": {},
   "outputs": [
    {
     "data": {
      "text/html": [
       "<div>\n",
       "<table border=\"1\" class=\"dataframe\">\n",
       "  <thead>\n",
       "    <tr style=\"text-align: right;\">\n",
       "      <th></th>\n",
       "      <th>Patient_ID</th>\n",
       "      <th>gender</th>\n",
       "      <th>year_of_birth</th>\n",
       "      <th>postcode</th>\n",
       "    </tr>\n",
       "  </thead>\n",
       "  <tbody>\n",
       "    <tr>\n",
       "      <th>0</th>\n",
       "      <td>1</td>\n",
       "      <td>F</td>\n",
       "      <td>1900</td>\n",
       "      <td>2516</td>\n",
       "    </tr>\n",
       "    <tr>\n",
       "      <th>1</th>\n",
       "      <td>2</td>\n",
       "      <td>F</td>\n",
       "      <td>1935</td>\n",
       "      <td>3042</td>\n",
       "    </tr>\n",
       "    <tr>\n",
       "      <th>2</th>\n",
       "      <td>3</td>\n",
       "      <td>M</td>\n",
       "      <td>1900</td>\n",
       "      <td>4750</td>\n",
       "    </tr>\n",
       "    <tr>\n",
       "      <th>3</th>\n",
       "      <td>4</td>\n",
       "      <td>U</td>\n",
       "      <td>1900</td>\n",
       "      <td>2765</td>\n",
       "    </tr>\n",
       "    <tr>\n",
       "      <th>4</th>\n",
       "      <td>5</td>\n",
       "      <td>U</td>\n",
       "      <td>1900</td>\n",
       "      <td>2229</td>\n",
       "    </tr>\n",
       "  </tbody>\n",
       "</table>\n",
       "</div>"
      ],
      "text/plain": [
       "   Patient_ID gender  year_of_birth  postcode\n",
       "0           1      F           1900      2516\n",
       "1           2      F           1935      3042\n",
       "2           3      M           1900      4750\n",
       "3           4      U           1900      2765\n",
       "4           5      U           1900      2229"
      ]
     },
     "execution_count": 6,
     "metadata": {},
     "output_type": "execute_result"
    }
   ],
   "source": [
    "p_frame.head()"
   ]
  },
  {
   "cell_type": "code",
   "execution_count": 7,
   "metadata": {
    "scrolled": true
   },
   "outputs": [
    {
     "name": "stdout",
     "output_type": "stream",
     "text": [
      "Patient_ID 558352\n",
      "gender 3\n",
      "year_of_birth 95\n",
      "postcode 2529\n"
     ]
    }
   ],
   "source": [
    "# Looking for the number of unique element in each columns.\n",
    "\n",
    "for col in p_frame.columns:\n",
    "    print(col, len(p_frame[col].unique()))"
   ]
  },
  {
   "cell_type": "code",
   "execution_count": 8,
   "metadata": {
    "scrolled": true
   },
   "outputs": [
    {
     "name": "stdout",
     "output_type": "stream",
     "text": [
      "gender 3 ['F' 'M' 'U']\n",
      "year_of_birth 95 [1900 1922 1923 1924 1925 1926 1927 1928 1929 1930 1931 1932 1933 1934 1935\n",
      " 1936 1937 1938 1939 1940 1941 1942 1943 1944 1945 1946 1947 1948 1949 1950\n",
      " 1951 1952 1953 1954 1955 1956 1957 1958 1959 1960 1961 1962 1963 1964 1965\n",
      " 1966 1967 1968 1969 1970 1971 1972 1973 1974 1975 1976 1977 1978 1979 1980\n",
      " 1981 1982 1983 1984 1985 1986 1987 1988 1989 1990 1991 1992 1993 1994 1995\n",
      " 1996 1997 1998 1999 2000 2001 2002 2003 2004 2005 2006 2007 2008 2009 2010\n",
      " 2011 2012 2013 2014 2015]\n"
     ]
    }
   ],
   "source": [
    "# variation to order the lists... couldn't work out how to do it on one line...\n",
    "# Looking at the smaller sets to see what they might contain.\n",
    "for col in ('gender', 'year_of_birth'):\n",
    "    u = p_frame[col].unique()\n",
    "    u.sort()\n",
    "    print(col, len(u), u)"
   ]
  },
  {
   "cell_type": "code",
   "execution_count": 9,
   "metadata": {},
   "outputs": [
    {
     "data": {
      "image/png": "[encoded data removed]",
      "text/plain": [
       "<matplotlib.figure.Figure at 0x86fe470>"
      ]
     },
     "metadata": {},
     "output_type": "display_data"
    }
   ],
   "source": [
    "p_frame.hist('year_of_birth', bins=95)\n",
    "pl.show()"
   ]
  },
  {
   "cell_type": "code",
   "execution_count": null,
   "metadata": {
    "collapsed": true
   },
   "outputs": [],
   "source": []
  }
 ],
 "metadata": {
  "kernelspec": {
   "display_name": "Python 3",
   "language": "python",
   "name": "python3"
  },
  "language_info": {
   "codemirror_mode": {
    "name": "ipython",
    "version": 3
   },
   "file_extension": ".py",
   "mimetype": "text/x-python",
   "name": "python",
   "nbconvert_exporter": "python",
   "pygments_lexer": "ipython3",
   "version": "3.6.1"
  }
 },
 "nbformat": 4,
 "nbformat_minor": 2
}
