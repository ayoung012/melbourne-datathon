{
 "cells": [
  {
   "cell_type": "code",
   "execution_count": 2,
   "metadata": {
    "collapsed": true
   },
   "outputs": [],
   "source": [
    "import os\n",
    "\n",
    "import sqlite3\n",
    "import pandas as pd"
   ]
  },
  {
   "cell_type": "code",
   "execution_count": 3,
   "metadata": {
    "collapsed": true
   },
   "outputs": [],
   "source": [
    "# Path to the root directory of datasci\n",
    "dthon_path = os.path.join(os.path.expanduser('~'), 'Projects','datasci')\n",
    "dthon_db = os.path.join(dthon_path, \"melbourne-datathon\",\"data\",\"medi.db\")\n",
    "# Run this first to create database connection\n",
    "conn = sqlite3.connect(dthon_db)\n",
    "c = conn.cursor()"
   ]
  },
  {
   "cell_type": "code",
   "execution_count": null,
   "metadata": {
    "collapsed": true
   },
   "outputs": [],
   "source": [
    "# cOUNT total PATIENTS in vic WHO HAVE bought depression meds in 2015\n",
    "sql = \"\"\"\n",
    "SELECT count(*)\n",
    "FROM (\n",
    "    SELECT Patient_ID\n",
    "    FROM transactions\n",
    "    WHERE Dispense_Week >= '2015-01-01'\n",
    "    AND Dispense_Week < '2016-01-01'\n",
    "    AND Drug_ID IN (\n",
    "        SELECT c.MasterProductID AS Drug_ID\n",
    "        FROM ChronicIllness_LookUp c\n",
    "        WHERE c.ChronicIllness = 'Depression'\n",
    "    )\n",
    "    AND Patient_ID IN (\n",
    "        SELECT Patient_ID\n",
    "        FROM patients\n",
    "        WHERE postcode IN (\n",
    "            SELECT postcode FROM postcodes_geo\n",
    "            WHERE state = 'VIC'\n",
    "        )\n",
    "    )\n",
    "    GROUP BY Patient_ID\n",
    ")\n",
    "\n",
    "\"\"\"\n",
    "\n",
    "%time cp = pd.read_sql_query(sql, conn)\n",
    "cp.head()"
   ]
  },
  {
   "cell_type": "code",
   "execution_count": null,
   "metadata": {
    "collapsed": true
   },
   "outputs": [],
   "source": [
    "# cOUNT total PATIENTS WHO bought depression meds AND took tramadol in 2015\n",
    "sql = \"\"\"\n",
    "SELECT COUNT(*)\n",
    "FROM (\n",
    "    SELECT Patient_ID\n",
    "    FROM transactions t1\n",
    "    WHERE Dispense_Week >= '2015-01-01'\n",
    "    AND Dispense_Week < '2016-01-01'\n",
    "    AND Patient_ID IN (\n",
    "            SELECT Patient_ID\n",
    "            FROM transactions\n",
    "            WHERE t1.Dispense_Week = Dispense_Week\n",
    "            AND Drug_ID IN (\n",
    "                SELECT c.MasterProductID AS Drug_ID\n",
    "                FROM ChronicIllness_LookUp c\n",
    "                WHERE c.ChronicIllness = 'Depression'\n",
    "            )\n",
    "            AND Patient_ID IN (\n",
    "                SELECT Patient_ID\n",
    "                FROM patients\n",
    "                WHERE postcode IN (\n",
    "                    SELECT postcode FROM postcodes_geo\n",
    "                    WHERE state = 'VIC'\n",
    "                )\n",
    "            )\n",
    "            GROUP BY Patient_ID\n",
    "    )\n",
    "    AND Drug_ID IN (\n",
    "            SELECT d.MasterProductID\n",
    "            FROM Drug_LookUp d\n",
    "            WHERE d.GenericIngredientName LIKE '%TRAMADOL%'\n",
    "    )\n",
    "    GROUP BY Patient_ID\n",
    ")\n",
    "\"\"\"\n",
    "\n",
    "%time cp = pd.read_sql_query(sql, conn)\n",
    "cp.head()"
   ]
  },
  {
   "cell_type": "code",
   "execution_count": 5,
   "metadata": {},
   "outputs": [
    {
     "name": "stdout",
     "output_type": "stream",
     "text": [
      "CPU times: user 847 ms, sys: 45.8 ms, total: 892 ms\n",
      "Wall time: 906 ms\n"
     ]
    },
    {
     "data": {
      "text/html": [
       "<div>\n",
       "<table border=\"1\" class=\"dataframe\">\n",
       "  <thead>\n",
       "    <tr style=\"text-align: right;\">\n",
       "      <th></th>\n",
       "      <th>COUNT(*)</th>\n",
       "    </tr>\n",
       "  </thead>\n",
       "  <tbody>\n",
       "    <tr>\n",
       "      <th>0</th>\n",
       "      <td>458</td>\n",
       "    </tr>\n",
       "  </tbody>\n",
       "</table>\n",
       "</div>"
      ],
      "text/plain": [
       "   COUNT(*)\n",
       "0       458"
      ]
     },
     "execution_count": 5,
     "metadata": {},
     "output_type": "execute_result"
    }
   ],
   "source": [
    "# cOUNT total PATIENTS WHO bought depression meds AND took tramadol in 2015\n",
    "sql = \"\"\"\n",
    "SELECT COUNT(*)\n",
    "FROM (\n",
    "    SELECT t1.Patient_ID\n",
    "    FROM trans_2015_vic_tram t1\n",
    "    JOIN trans_2015_vic_dep t2 ON t1.Patient_ID = t2.Patient_ID AND t1.Dispense_Week = t2.Dispense_Week\n",
    "    GROUP BY t1.Patient_ID\n",
    ")\n",
    "\"\"\"\n",
    "\n",
    "%time cp = pd.read_sql_query(sql, conn)\n",
    "cp.head()"
   ]
  },
  {
   "cell_type": "code",
   "execution_count": null,
   "metadata": {
    "collapsed": true
   },
   "outputs": [],
   "source": [
    "# cOUNT total PATIENTS WHO bought PHENELZINE AND took tramadol in 2015\n",
    "sql = \"\"\"\n",
    "SELECT COUNT(*)\n",
    "FROM (\n",
    "    SELECT Patient_ID\n",
    "    FROM transactions\n",
    "    WHERE Dispense_Week >= '2015-01-01'\n",
    "    AND Dispense_Week < '2016-01-01'\n",
    "    AND Patient_ID IN (\n",
    "            SELECT Patient_ID\n",
    "            FROM transactions\n",
    "            WHERE Dispense_Week >= '2015-01-01'\n",
    "            AND Dispense_Week < '2016-01-01'\n",
    "            AND Drug_ID IN (\n",
    "                SELECT c.MasterProductID AS Drug_ID\n",
    "                FROM ChronicIllness_LookUp c\n",
    "                WHERE c.ChronicIllness = 'Depression'\n",
    "            )\n",
    "            AND Patient_ID IN (\n",
    "                SELECT Patient_ID\n",
    "                FROM patients\n",
    "                WHERE postcode IN (\n",
    "                    SELECT postcode FROM postcodes_geo\n",
    "                    WHERE state = 'VIC'\n",
    "                )\n",
    "            )\n",
    "            GROUP BY Patient_ID\n",
    "    )\n",
    "    AND Drug_ID IN (\n",
    "            SELECT d.MasterProductID\n",
    "            FROM Drug_LookUp d\n",
    "            WHERE d.GenericIngredientName LIKE '%TRAMADOL%'\n",
    "    )\n",
    "    GROUP BY Patient_ID\n",
    ")\n",
    "\"\"\"\n",
    "\n",
    "%time cp = pd.read_sql_query(sql, conn)\n",
    "cp.head()"
   ]
  },
  {
   "cell_type": "code",
   "execution_count": null,
   "metadata": {
    "collapsed": true
   },
   "outputs": [],
   "source": []
  },
  {
   "cell_type": "code",
   "execution_count": null,
   "metadata": {
    "collapsed": true
   },
   "outputs": [],
   "source": [
    "# This query gets pairs of transactions within two weeks of each other that may cause adverse affects\n",
    "# based on the pairs in Adverse_Interaction table.\n",
    "# Takes 5000 seconds or 83 minutes with one drug pair in adverse affects\n",
    "sql = \"\"\"\n",
    "SELECT t1.Patient_ID,\n",
    "    t1.Store_ID as store_id1, t1.Prescriber_ID as prescriber_id1, t1.Drug_ID as drug_id1, t1.Dispense_Week as dispense_week1,\n",
    "    t2.Store_ID as store_id2, t2.Prescriber_ID as prescriber_id2, t2.Drug_ID as drug_id2, t2.Dispense_Week as dispense_week2\n",
    "FROM tramadol_min_vic t1\n",
    "JOIN  t2 ON t1.Patient_ID = t2.Patient_ID\n",
    "AND t1.Dispense_Week = t2.Dispense_Week\n",
    "AND t1.Drug_ID IN (\n",
    "    SELECT MasterProductID\n",
    "    FROM Drug_LookUp\n",
    "    INNER JOIN Adverse_Interaction ai ON ai.DrugA_ID = GenericIngredientName\n",
    ")\n",
    "AND t2.Drug_ID IN (\n",
    "    SELECT MasterProductID\n",
    "    FROM Drug_LookUp\n",
    "    INNER JOIN Adverse_Interaction ai ON ai.DrugA_ID IN (\n",
    "        SELECT GenericIngredientName\n",
    "        FROM Drug_LookUp\n",
    "        WHERE MasterProductID = t1.Drug_ID\n",
    "    )\n",
    "    WHERE GenericIngredientName = ai.DrugB_ID\n",
    ");\n",
    "\n",
    "\"\"\"\n",
    "\n",
    "%time df = pd.read_sql_query(sql, conn)\n",
    "df.head()"
   ]
  },
  {
   "cell_type": "code",
   "execution_count": null,
   "metadata": {
    "collapsed": true
   },
   "outputs": [],
   "source": []
  }
 ],
 "metadata": {
  "kernelspec": {
   "display_name": "Python [conda env:dthon]",
   "language": "python",
   "name": "conda-env-dthon-py"
  },
  "language_info": {
   "codemirror_mode": {
    "name": "ipython",
    "version": 2
   },
   "file_extension": ".py",
   "mimetype": "text/x-python",
   "name": "python",
   "nbconvert_exporter": "python",
   "pygments_lexer": "ipython2",
   "version": "2.7.11"
  }
 },
 "nbformat": 4,
 "nbformat_minor": 2
}
