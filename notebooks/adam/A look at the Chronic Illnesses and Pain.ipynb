{
 "cells": [
  {
   "cell_type": "code",
   "execution_count": 1,
   "metadata": {
    "collapsed": true
   },
   "outputs": [],
   "source": [
    "import os\n",
    "\n",
    "import numpy as np\n",
    "import sqlite3\n",
    "import pandas as pd\n",
    "import matplotlib.pyplot as pl\n",
    "from matplotlib.font_manager import FontProperties\n"
   ]
  },
  {
   "cell_type": "code",
   "execution_count": 2,
   "metadata": {
    "collapsed": true
   },
   "outputs": [],
   "source": [
    "# Path to the root directory of datasci\n",
    "dthon_path = os.path.join(os.path.expanduser('~'), 'Projects','datasci')\n",
    "dthon_db = os.path.join(dthon_path, \"melbourne-datathon\",\"data\",\"medi.db\")\n",
    "# Run this first to create database connection\n",
    "conn = sqlite3.connect(dthon_db)"
   ]
  },
  {
   "cell_type": "code",
   "execution_count": null,
   "metadata": {
    "collapsed": true
   },
   "outputs": [],
   "source": [
    "# How many pain killers are Listed under ChronicIllness_LookUp\n",
    "# Opoids ATCLevel3Code: N02A\n",
    "sql = \"\"\"\n",
    "    SELECT * FROM Drug_LookUp\n",
    "    WHERE ATCLevel3Code = 'N02A'\n",
    "    AND MasterProductID IN (\n",
    "        SELECT MasterProductID\n",
    "        FROM ChronicIllness_Lookup\n",
    "    )\n",
    "\"\"\"\n",
    "\n",
    "df = pd.read_sql_query(sql, conn)\n",
    "df.head()"
   ]
  },
  {
   "cell_type": "code",
   "execution_count": null,
   "metadata": {
    "collapsed": true
   },
   "outputs": [],
   "source": [
    "# What type of pain killers do chronic sufferrers get\n",
    "sql = \"\"\"\n",
    "    SELECT t.Drug_ID, MasterProductFullName, ChronicIllness, count(*) AS 'transactions'\n",
    "    FROM transactions t\n",
    "    JOIN Drug_LookUp d on d.MasterProductID = t.Drug_ID\n",
    "    JOIN implied_condition ic ON ic.Patient_ID = t.Patient_ID\n",
    "    WHERE t.Patient_ID IN ( -- Only want patients with a chronic illness\n",
    "        SELECT Patient_ID\n",
    "        FROM implied_condition\n",
    "        GROUP BY Patient_ID\n",
    "    )\n",
    "    AND Drug_ID IN (\n",
    "        SELECT MasterProductID\n",
    "        FROM Drug_LookUp\n",
    "        WHERE ATCLevel3Code = 'N02A'\n",
    "    )\n",
    "    GROUP BY t.Drug_ID, ChronicIllness\n",
    "    ORDER BY transactions\n",
    "--    GROUP BY t.Patient_ID, t.Drug_ID, ChronicIllness\n",
    "\"\"\"\n",
    "df = pd.read_sql_query(sql, conn)\n",
    "df.tail()"
   ]
  },
  {
   "cell_type": "code",
   "execution_count": null,
   "metadata": {
    "collapsed": true
   },
   "outputs": [],
   "source": [
    "# Volume of transactions of pain killers for each illness\n",
    "sql = \"\"\"\n",
    "    SELECT ic.ChronicIllness, count(*) AS 'transactions',\n",
    "    (\n",
    "        SELECT count(*) FROM implied_condition WHERE ChronicIllness = ic.ChronicIllness\n",
    "    ) AS patients\n",
    "    FROM transactions t\n",
    "    JOIN Drug_LookUp d on d.MasterProductID = t.Drug_ID\n",
    "    JOIN implied_condition ic ON ic.Patient_ID = t.Patient_ID\n",
    "    WHERE t.Patient_ID IN ( -- Only want patients with a chronic illness\n",
    "        SELECT Patient_ID\n",
    "        FROM implied_condition\n",
    "        GROUP BY Patient_ID\n",
    "    )\n",
    "    AND Drug_ID IN (\n",
    "        SELECT MasterProductID\n",
    "        FROM Drug_LookUp\n",
    "        WHERE ATCLevel3Code = 'N02A'\n",
    "    )\n",
    "    GROUP BY ChronicIllness\n",
    "    ORDER BY transactions\n",
    "--    GROUP BY t.Patient_ID, t.Drug_ID, ChronicIllness\n",
    "\"\"\"\n",
    "df = pd.read_sql_query(sql, conn)\n",
    "df.tail()"
   ]
  },
  {
   "cell_type": "code",
   "execution_count": null,
   "metadata": {
    "collapsed": true
   },
   "outputs": [],
   "source": [
    "groups = df.groupby('ChronicIllness')\n",
    "# Plot\n",
    "fig, ax = pl.subplots(figsize=(8,8))\n",
    "ax.margins(0.05) # Optional, just adds 5% padding to the autoscaling\n",
    "ax.spines[\"top\"].set_visible(False)  \n",
    "ax.spines[\"right\"].set_visible(False)\n",
    "\n",
    "pl.xlabel(\"Number of Patients\", fontsize=16)  \n",
    "pl.ylabel(\"Number of Transactions\", fontsize=16)  \n",
    "for name, group in groups:\n",
    "    ax.plot(group.patients, group.transactions, marker='o', linestyle='', ms=12, label=name)\n",
    "\n",
    "ax.legend()\n",
    "\n",
    "pl.show()"
   ]
  },
  {
   "cell_type": "code",
   "execution_count": null,
   "metadata": {
    "collapsed": true
   },
   "outputs": [],
   "source": [
    "# Now the same in pandas\n",
    "sql =\"\"\"\n",
    "    SELECT Patient_ID, ChronicIllness, Drug_ID, MasterProductFullName, Prescription_Week\n",
    "    FROM transactions t\n",
    "    INNER JOIN Drug_LookUp d on d.MasterProductID = t.Drug_ID\n",
    "    NATURAL JOIN implied_condition ic -- Only want patients with chronic illness\n",
    "    WHERE ATCLevel3Code = 'N02A' -- Only want pain killers\n",
    "\"\"\"\n",
    "%time dfp2 = pd.read_sql_query(sql, conn)"
   ]
  },
  {
   "cell_type": "code",
   "execution_count": null,
   "metadata": {
    "collapsed": true,
    "scrolled": true
   },
   "outputs": [],
   "source": [
    "dfp2.groupby(['ChronicIllness','Patient_ID'])['Drug_ID'].count().mean()\n",
    "# Note that we cannot destinguish which painkillers apply for which Illness"
   ]
  },
  {
   "cell_type": "code",
   "execution_count": null,
   "metadata": {
    "collapsed": true
   },
   "outputs": [],
   "source": []
  },
  {
   "cell_type": "code",
   "execution_count": null,
   "metadata": {
    "collapsed": true
   },
   "outputs": [],
   "source": [
    "mask = (dfp['Prescription_Week'] > '2015-01-01') & (dfp['Prescription_Week'] < '2016-01-01' )"
   ]
  },
  {
   "cell_type": "code",
   "execution_count": null,
   "metadata": {
    "collapsed": true,
    "scrolled": true
   },
   "outputs": [],
   "source": [
    "groups = dfp.loc[mask].groupby('ChronicIllness')\n",
    "\n",
    "\n",
    "# Plot\n",
    "fig, ax = pl.subplots(figsize=(8,8))\n",
    "ax.spines[\"top\"].set_visible(False)  \n",
    "ax.spines[\"right\"].set_visible(False)\n",
    "\n",
    "pl.title(\"Painkillers\", fontsize=20)\n",
    "pl.xlabel(\"Number of Patients\", fontsize=16)  \n",
    "pl.ylabel(\"Number of Painkiller Transactions\", fontsize=16)  \n",
    "ax.margins(0.05) # Optional, just adds 5% padding to the autoscaling\n",
    "for name, group in groups:\n",
    "    x_pos = group.Patient_ID.unique().size\n",
    "    y_pos = group.Drug_ID.count()\n",
    "    \n",
    "    x_os = 100*5\n",
    "    y_os = 100*-2\n",
    "    # Exceptions overlapping labels\n",
    "    if name == \"Anti-Coagulant\":\n",
    "        y_os += 500\n",
    "    elif name == \"Osteoporosis\":\n",
    "        y_os -= 400\n",
    "    \n",
    "    ax.plot(x_pos, y_pos, marker='o', linestyle='', ms=12, label=name)\n",
    "    pl.text(x_pos+x_os, y_pos+y_os, name, fontsize=14)\n",
    "\n",
    "\n",
    "pl.show()"
   ]
  },
  {
   "cell_type": "code",
   "execution_count": null,
   "metadata": {
    "collapsed": true
   },
   "outputs": [],
   "source": [
    "import numpy as np\n",
    "\n",
    "N = 5\n",
    "\n",
    "ind = np.arange(N)  # the x locations for the groups\n",
    "width = 0.35       # the width of the bars\n",
    "\n",
    "# Bar graph\n",
    "groups = dfp.loc[mask].groupby(['ChronicIllness','Patient_ID'])['Drug_ID'].count()\n",
    "\n",
    "groups.unstack().plot(kind='bar',stacked=True)\n",
    "\n",
    "pl.show()\n"
   ]
  },
  {
   "cell_type": "code",
   "execution_count": null,
   "metadata": {
    "collapsed": true
   },
   "outputs": [],
   "source": [
    "dfp['Drug_ID'].head()"
   ]
  },
  {
   "cell_type": "code",
   "execution_count": null,
   "metadata": {
    "collapsed": true
   },
   "outputs": [],
   "source": [
    "arr = dfp.loc[mask].groupby(['ChronicIllness','Patient_ID'])['Drug_ID'].count()\n",
    "arr.unstack().head()\n",
    "# Number of transactions per patient per illness"
   ]
  },
  {
   "cell_type": "code",
   "execution_count": 4,
   "metadata": {},
   "outputs": [
    {
     "name": "stdout",
     "output_type": "stream",
     "text": [
      "CPU times: user 15min 32s, sys: 7min 32s, total: 23min 5s\n",
      "Wall time: 23min 18s\n"
     ]
    }
   ],
   "source": [
    "# Now the same in pandas\n",
    "sql =\"\"\"\n",
    "    SELECT Patient_ID, ChronicIllness, COUNT(Drug_ID)\n",
    "    FROM transactions t\n",
    "    INNER JOIN Drug_LookUp d on d.MasterProductID = t.Drug_ID\n",
    "    NATURAL JOIN implied_condition ic -- Only want patients with chronic illness\n",
    "    WHERE Patient_ID IN (\n",
    "        SELECT Patient_ID\n",
    "        FROM implied_condition\n",
    "        GROUP BY Patient_ID\n",
    "        HAVING count(Patient_ID) = 1\n",
    "        ORDER BY RANDOM()\n",
    "        LIMIT 1000\n",
    "    )\n",
    "    AND ATCLevel3Code = 'N02A' -- Only want pain killers\n",
    "    AND Prescription_Week >= '2016-01-01'\n",
    "    AND Prescription_Week < '2017-01-01'\n",
    "    GROUP BY Patient_ID, ChronicIllness\n",
    "\"\"\"\n",
    "%time dfp = pd.read_sql_query(sql, conn)"
   ]
  },
  {
   "cell_type": "code",
   "execution_count": null,
   "metadata": {
    "collapsed": true
   },
   "outputs": [],
   "source": [
    "dfp.head()"
   ]
  },
  {
   "cell_type": "code",
   "execution_count": null,
   "metadata": {
    "collapsed": true
   },
   "outputs": [],
   "source": [
    "dfp['Patient_ID'].groupby(['ChronicIllness'])['COUNT(Drug_ID)'].mean().unstack()\n",
    "# Hopefully an average painkillers per customer per chronic illness?"
   ]
  },
  {
   "cell_type": "code",
   "execution_count": null,
   "metadata": {
    "collapsed": true
   },
   "outputs": [],
   "source": [
    "ax = avg.plot(kind='bar')\n",
    "\n",
    "ax.spines[\"top\"].set_visible(False)  \n",
    "ax.spines[\"right\"].set_visible(False)\n",
    "\n",
    "pl.title(\"Average Painkillers taken per chronic disease\", fontsize=20)\n",
    "pl.xlabel(\"\", fontsize=16)\n",
    "pl.ylabel(\"Avg painkillers per patient\", fontsize=16)  \n",
    "\n",
    "\n",
    "pl.show()"
   ]
  },
  {
   "cell_type": "code",
   "execution_count": null,
   "metadata": {
    "collapsed": true
   },
   "outputs": [],
   "source": [
    "ax = avg.plot(kind='bar')\n",
    "\n",
    "ax.spines[\"top\"].set_visible(False)  \n",
    "ax.spines[\"right\"].set_visible(False)\n",
    "\n",
    "pl.title(\"Average Painkillers taken per chronic disease\", fontsize=20)\n",
    "pl.xlabel(\"\", fontsize=16)\n",
    "pl.ylabel(\"Avg painkillers per patient\", fontsize=16)  \n",
    "\n",
    "\n",
    "pl.show()"
   ]
  },
  {
   "cell_type": "code",
   "execution_count": null,
   "metadata": {
    "collapsed": true
   },
   "outputs": [],
   "source": [
    "\n",
    "N = 5\n",
    "\n",
    "ind = np.arange(N)  # the x locations for the groups\n",
    "width = 0.35       # the width of the bars\n",
    "\n",
    "# Plot\n",
    "fig, ax = pl.subplots(figsize=(8,8))\n",
    "ax.spines[\"top\"].set_visible(False)  \n",
    "ax.spines[\"right\"].set_visible(False)\n",
    "\n",
    "pl.title(\"Painkillers\", fontsize=20)\n",
    "pl.xlabel(\"Chronic Illness\", fontsize=16)  \n",
    "pl.ylabel(\"Number of Painkiller Transactions\", fontsize=16)\n",
    "ax.bar(ind, avg, width)"
   ]
  },
  {
   "cell_type": "code",
   "execution_count": null,
   "metadata": {
    "collapsed": true
   },
   "outputs": [],
   "source": []
  }
 ],
 "metadata": {
  "kernelspec": {
   "display_name": "Python [conda env:dthon]",
   "language": "python",
   "name": "conda-env-dthon-py"
  },
  "language_info": {
   "codemirror_mode": {
    "name": "ipython",
    "version": 2
   },
   "file_extension": ".py",
   "mimetype": "text/x-python",
   "name": "python",
   "nbconvert_exporter": "python",
   "pygments_lexer": "ipython2",
   "version": "2.7.11"
  }
 },
 "nbformat": 4,
 "nbformat_minor": 2
}
