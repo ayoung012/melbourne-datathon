{
 "cells": [
  {
   "cell_type": "code",
   "execution_count": 1,
   "metadata": {},
   "outputs": [
    {
     "ename": "ModuleNotFoundError",
     "evalue": "No module named 'matplotlib'",
     "output_type": "error",
     "traceback": [
      "\u001b[0;31m---------------------------------------------------------------------------\u001b[0m",
      "\u001b[0;31mModuleNotFoundError\u001b[0m                       Traceback (most recent call last)",
      "\u001b[0;32m<ipython-input-1-b01cdf5e592c>\u001b[0m in \u001b[0;36m<module>\u001b[0;34m()\u001b[0m\n\u001b[1;32m      6\u001b[0m \u001b[0;32mimport\u001b[0m \u001b[0msqlite3\u001b[0m\u001b[0;34m\u001b[0m\u001b[0m\n\u001b[1;32m      7\u001b[0m \u001b[0;32mimport\u001b[0m \u001b[0mpandas\u001b[0m \u001b[0;32mas\u001b[0m \u001b[0mpd\u001b[0m\u001b[0;34m\u001b[0m\u001b[0m\n\u001b[0;32m----> 8\u001b[0;31m \u001b[0;32mimport\u001b[0m \u001b[0mmatplotlib\u001b[0m\u001b[0;34m.\u001b[0m\u001b[0mpyplot\u001b[0m \u001b[0;32mas\u001b[0m \u001b[0mplt\u001b[0m\u001b[0;34m\u001b[0m\u001b[0m\n\u001b[0m\u001b[1;32m      9\u001b[0m \u001b[0;32mimport\u001b[0m \u001b[0mmatplotlib\u001b[0m\u001b[0;34m.\u001b[0m\u001b[0mdates\u001b[0m \u001b[0;32mas\u001b[0m \u001b[0mmdates\u001b[0m\u001b[0;34m\u001b[0m\u001b[0m\n\u001b[1;32m     10\u001b[0m \u001b[0;32mfrom\u001b[0m \u001b[0mmatplotlib\u001b[0m\u001b[0;34m.\u001b[0m\u001b[0mfont_manager\u001b[0m \u001b[0;32mimport\u001b[0m \u001b[0mFontProperties\u001b[0m\u001b[0;34m\u001b[0m\u001b[0m\n",
      "\u001b[0;31mModuleNotFoundError\u001b[0m: No module named 'matplotlib'"
     ]
    }
   ],
   "source": [
    "import os\n",
    "\n",
    "import numpy as np\n",
    "import calendar\n",
    "import datetime\n",
    "import sqlite3\n",
    "import pandas as pd\n",
    "import matplotlib.pyplot as plt\n",
    "import matplotlib.dates as mdates\n",
    "from matplotlib.font_manager import FontProperties\n"
   ]
  },
  {
   "cell_type": "code",
   "execution_count": 2,
   "metadata": {
    "collapsed": true
   },
   "outputs": [],
   "source": [
    "# Path to the root directory of datasci\n",
    "dthon_path = os.path.join(os.path.expanduser('~'), 'Projects','datasci')\n",
    "dthon_db = os.path.join(dthon_path, \"melbourne-datathon\",\"data\",\"medi.db\")\n",
    "# Run this first to create database connection\n",
    "conn = sqlite3.connect(dthon_db)"
   ]
  },
  {
   "cell_type": "code",
   "execution_count": 3,
   "metadata": {},
   "outputs": [
    {
     "data": {
      "text/html": [
       "<div>\n",
       "<table border=\"1\" class=\"dataframe\">\n",
       "  <thead>\n",
       "    <tr style=\"text-align: right;\">\n",
       "      <th></th>\n",
       "      <th>timestamp</th>\n",
       "      <th>Drug_ID</th>\n",
       "      <th>category</th>\n",
       "    </tr>\n",
       "  </thead>\n",
       "  <tbody>\n",
       "    <tr>\n",
       "      <th>0</th>\n",
       "      <td>1300579200</td>\n",
       "      <td>2</td>\n",
       "      <td>1234</td>\n",
       "    </tr>\n",
       "    <tr>\n",
       "      <th>1</th>\n",
       "      <td>1315699200</td>\n",
       "      <td>1</td>\n",
       "      <td>1234</td>\n",
       "    </tr>\n",
       "    <tr>\n",
       "      <th>2</th>\n",
       "      <td>1316304000</td>\n",
       "      <td>2</td>\n",
       "      <td>1234</td>\n",
       "    </tr>\n",
       "    <tr>\n",
       "      <th>3</th>\n",
       "      <td>1321142400</td>\n",
       "      <td>2</td>\n",
       "      <td>1234</td>\n",
       "    </tr>\n",
       "    <tr>\n",
       "      <th>4</th>\n",
       "      <td>1322956800</td>\n",
       "      <td>1</td>\n",
       "      <td>1234</td>\n",
       "    </tr>\n",
       "  </tbody>\n",
       "</table>\n",
       "</div>"
      ],
      "text/plain": [
       "    timestamp  Drug_ID category\n",
       "0  1300579200        2     1234\n",
       "1  1315699200        1     1234\n",
       "2  1316304000        2     1234\n",
       "3  1321142400        2     1234\n",
       "4  1322956800        1     1234"
      ]
     },
     "execution_count": 3,
     "metadata": {},
     "output_type": "execute_result"
    }
   ],
   "source": [
    "sql = \"\"\"\n",
    "    SELECT CAST(strftime('%s', Dispense_Week) AS INT) as timestamp, Drug_ID, 'red' as category\n",
    "    FROM transactions\n",
    "    WHERE Patient_ID = 71043;\n",
    "\"\"\"\n",
    "sql = \"\"\"\n",
    "SELECT CAST(strftime('%s', Dispense_Week) AS INT) as timestamp,\n",
    "CASE WHEN (Drug_ID IN(\n",
    "            SELECT MasterProductID\n",
    "            FROM Drug_LookUp\n",
    "            WHERE GenericIngredientName LIKE '%TRAMADOL%')) THEN 1 \n",
    "    WHEN (Drug_ID IN(\n",
    "            SELECT MasterProductID\n",
    "            FROM Drug_LookUp\n",
    "            WHERE GenericIngredientName LIKE '%MOCLOBEMIDE%')) THEN 2\n",
    "    WHEN (Drug_ID IN(\n",
    "            SELECT c.MasterProductID AS Drug_ID\n",
    "            FROM ChronicIllness_LookUp c\n",
    "            WHERE c.ChronicIllness = 'Depression')) THEN 3\n",
    "    ELSE 4 END AS Drug_ID, \n",
    "'1234' as category\n",
    "    FROM transactions\n",
    "    WHERE Patient_ID = 71043\n",
    "    AND (\n",
    "        Drug_ID IN(\n",
    "            SELECT d.MasterProductID\n",
    "            FROM Drug_LookUp d\n",
    "            WHERE d.GenericIngredientName LIKE '%TRAMADOL%'\n",
    "            OR d.GenericIngredientName LIKE '%MOCLOBEMIDE%'\n",
    "        )\n",
    "    OR Drug_ID IN (\n",
    "        SELECT c.MasterProductID AS Drug_ID\n",
    "        FROM ChronicIllness_LookUp c\n",
    "        WHERE c.ChronicIllness = 'Depression'\n",
    "        )\n",
    "    )\n",
    ";\"\"\"\n",
    "df = pd.read_sql_query(sql, conn)\n",
    "df.head()"
   ]
  },
  {
   "cell_type": "code",
   "execution_count": null,
   "metadata": {
    "collapsed": true
   },
   "outputs": [],
   "source": [
    "from operator import itemgetter\n",
    "from collections import defaultdict\n",
    "\n",
    "\n",
    "def plot_timeline(dataset, **kwargs):\n",
    "    \"\"\"\n",
    "    Plots a timeline of events from different sources to visualize a relative\n",
    "    sequence or density of events. Expects data in the form of:\n",
    "        (timestamp, source, category)\n",
    "    Though this can be easily modified if needed. Expects sorted input.\n",
    "    \"\"\"\n",
    "    outpath = kwargs.pop('savefig', None)  # Save the figure as an SVG\n",
    "    colors  = kwargs.pop('colors', {})     # Plot the colors for the series.\n",
    "    series  = set([])                      # Figure out the unique series\n",
    "\n",
    "    # Bring the data into memory and sort\n",
    "    dataset = sorted(list(dataset), key=itemgetter(0))\n",
    "\n",
    "    # Make a first pass over the data to determine number of series, etc.\n",
    "    for _, source, category in dataset:\n",
    "        series.add(source)\n",
    "        if category not in colors:\n",
    "            colors[category] = 'k'\n",
    "\n",
    "    # Sort and index the series\n",
    "    series  = sorted(list(series))\n",
    "\n",
    "    # Create the visualization\n",
    "    x = []  # Scatterplot X values\n",
    "    y = []  # Scatterplot Y Values\n",
    "    c = []  # Scatterplot color values\n",
    "\n",
    "    # Loop over the data a second time\n",
    "    for timestamp, source, category in dataset:\n",
    "        x.append(timestamp)\n",
    "        y.append(series.index(source))\n",
    "        c.append(colors[category])\n",
    "\n",
    "    fig, axes = plt.subplots(1, 1, figsize=(14,4))\n",
    "    plt.figure(figsize=(14,4))\n",
    "    plt.title(kwargs.get('title', \"Timeline Plot\"))\n",
    "    plt.ylim((-1,len(series)))\n",
    "    plt.xlim((1.3*pow(10,9), dataset[-1][0]+1000))\n",
    "    xfmt = mdates.DateFormatter('%Y-%m-%d')\n",
    "    axes.xaxis.set_major_formatter(xfmt)\n",
    "    axes.set_xticks(dates)\n",
    "    plt.yticks(range(len(series)), series)\n",
    "    plt.scatter(x, y, color=c, alpha=0.85, s=10)\n",
    "\n",
    "    if outpath:\n",
    "        return plt.savefig(outpath, format='svg', dpi=1200)\n",
    "\n",
    "    return plt\n",
    "\n",
    "if __name__ == '__main__':\n",
    "    colors = {'red': 'r', 'blue': 'b', 'green': 'g'}\n",
    "    dates = [datetime.datetime.fromtimestamp(row[0]).strftime('%Y%m%d') for index, row in df.iterrows()]\n",
    "    plt = plot_timeline([\n",
    "        (float(row[0]), row[1], row[2])\n",
    "        for index, row in df.iterrows()\n",
    "    ], colors=colors)\n",
    "plt.show()"
   ]
  },
  {
   "cell_type": "code",
   "execution_count": 4,
   "metadata": {},
   "outputs": [
    {
     "ename": "NameError",
     "evalue": "name 'plt' is not defined",
     "output_type": "error",
     "traceback": [
      "\u001b[0;31m---------------------------------------------------------------------------\u001b[0m",
      "\u001b[0;31mNameError\u001b[0m                                 Traceback (most recent call last)",
      "\u001b[0;32m<ipython-input-4-8ada0ef2719b>\u001b[0m in \u001b[0;36m<module>\u001b[0;34m()\u001b[0m\n\u001b[1;32m     62\u001b[0m         \u001b[0;34m(\u001b[0m\u001b[0mfloat\u001b[0m\u001b[0;34m(\u001b[0m\u001b[0mrow\u001b[0m\u001b[0;34m[\u001b[0m\u001b[0;36m0\u001b[0m\u001b[0;34m]\u001b[0m\u001b[0;34m)\u001b[0m\u001b[0;34m,\u001b[0m \u001b[0mrow\u001b[0m\u001b[0;34m[\u001b[0m\u001b[0;36m1\u001b[0m\u001b[0;34m]\u001b[0m\u001b[0;34m,\u001b[0m \u001b[0mrow\u001b[0m\u001b[0;34m[\u001b[0m\u001b[0;36m2\u001b[0m\u001b[0;34m]\u001b[0m\u001b[0;34m)\u001b[0m\u001b[0;34m\u001b[0m\u001b[0m\n\u001b[1;32m     63\u001b[0m         \u001b[0;32mfor\u001b[0m \u001b[0mindex\u001b[0m\u001b[0;34m,\u001b[0m \u001b[0mrow\u001b[0m \u001b[0;32min\u001b[0m \u001b[0mdf\u001b[0m\u001b[0;34m.\u001b[0m\u001b[0miterrows\u001b[0m\u001b[0;34m(\u001b[0m\u001b[0;34m)\u001b[0m\u001b[0;34m\u001b[0m\u001b[0m\n\u001b[0;32m---> 64\u001b[0;31m     ], colors=colors)\n\u001b[0m\u001b[1;32m     65\u001b[0m \u001b[0mplt\u001b[0m\u001b[0;34m.\u001b[0m\u001b[0mshow\u001b[0m\u001b[0;34m(\u001b[0m\u001b[0;34m)\u001b[0m\u001b[0;34m\u001b[0m\u001b[0m\n",
      "\u001b[0;32m<ipython-input-4-8ada0ef2719b>\u001b[0m in \u001b[0;36mplot_timeline\u001b[0;34m(dataset, **kwargs)\u001b[0m\n\u001b[1;32m     41\u001b[0m         \u001b[0mc\u001b[0m\u001b[0;34m.\u001b[0m\u001b[0mappend\u001b[0m\u001b[0;34m(\u001b[0m\u001b[0mcolors\u001b[0m\u001b[0;34m[\u001b[0m\u001b[0mcategory\u001b[0m\u001b[0;34m]\u001b[0m\u001b[0;34m)\u001b[0m\u001b[0;34m\u001b[0m\u001b[0m\n\u001b[1;32m     42\u001b[0m \u001b[0;34m\u001b[0m\u001b[0m\n\u001b[0;32m---> 43\u001b[0;31m     \u001b[0mfig\u001b[0m\u001b[0;34m,\u001b[0m \u001b[0maxes\u001b[0m \u001b[0;34m=\u001b[0m \u001b[0mplt\u001b[0m\u001b[0;34m.\u001b[0m\u001b[0msubplots\u001b[0m\u001b[0;34m(\u001b[0m\u001b[0;36m1\u001b[0m\u001b[0;34m,\u001b[0m \u001b[0;36m1\u001b[0m\u001b[0;34m,\u001b[0m \u001b[0mfigsize\u001b[0m\u001b[0;34m=\u001b[0m\u001b[0;34m(\u001b[0m\u001b[0;36m14\u001b[0m\u001b[0;34m,\u001b[0m\u001b[0;36m4\u001b[0m\u001b[0;34m)\u001b[0m\u001b[0;34m)\u001b[0m\u001b[0;34m\u001b[0m\u001b[0m\n\u001b[0m\u001b[1;32m     44\u001b[0m     \u001b[0maxes\u001b[0m\u001b[0;34m.\u001b[0m\u001b[0mscatter\u001b[0m\u001b[0;34m(\u001b[0m\u001b[0mx\u001b[0m\u001b[0;34m,\u001b[0m \u001b[0my\u001b[0m\u001b[0;34m,\u001b[0m \u001b[0mcolor\u001b[0m\u001b[0;34m=\u001b[0m\u001b[0mc\u001b[0m\u001b[0;34m,\u001b[0m \u001b[0malpha\u001b[0m\u001b[0;34m=\u001b[0m\u001b[0;36m0.85\u001b[0m\u001b[0;34m,\u001b[0m \u001b[0ms\u001b[0m\u001b[0;34m=\u001b[0m\u001b[0;36m10\u001b[0m\u001b[0;34m)\u001b[0m\u001b[0;34m\u001b[0m\u001b[0m\n\u001b[1;32m     45\u001b[0m     \u001b[0maxes\u001b[0m\u001b[0;34m.\u001b[0m\u001b[0mgrid\u001b[0m\u001b[0;34m(\u001b[0m\u001b[0;34m)\u001b[0m\u001b[0;34m\u001b[0m\u001b[0m\n",
      "\u001b[0;31mNameError\u001b[0m: name 'plt' is not defined"
     ]
    }
   ],
   "source": [
    "from operator import itemgetter\n",
    "from collections import defaultdict\n",
    "\n",
    "\n",
    "def plot_timeline(dataset, **kwargs):\n",
    "    \"\"\"\n",
    "    Plots a timeline of events from different sources to visualize a relative\n",
    "    sequence or density of events. Expects data in the form of:\n",
    "        (timestamp, source, category)\n",
    "    Though this can be easily modified if needed. Expects sorted input.\n",
    "    \"\"\"\n",
    "    outpath = kwargs.pop('savefig', None)  # Save the figure as an SVG\n",
    "    colors  = kwargs.pop('colors', {})     # Plot the colors for the series.\n",
    "    series  = set([])                      # Figure out the unique series\n",
    "\n",
    "    # Bring the data into memory and sort\n",
    "    dataset = sorted(list(dataset), key=itemgetter(0))\n",
    "\n",
    "    # Make a first pass over the data to determine number of series, etc.\n",
    "    for _, source, category in dataset:\n",
    "        series.add(source)\n",
    "        if category not in colors:\n",
    "            colors[category] = 'k'\n",
    "\n",
    "    # Sort and index the series\n",
    "    series  = sorted(list(series))\n",
    "\n",
    "    # Setup xticks\n",
    "    year = [20100101,20100601,20110101,20110601,20120101,20120601,20130101,20130601,20140101,20140601,20150101,20150601,20160101,20160601,20170101,20170601]\n",
    "    dates = [datetime.datetime.strptime(str(int(date)),'%Y%m%d') for date in year]\n",
    "    \n",
    "    # Create the visualization\n",
    "    x = []  # Scatterplot X values\n",
    "    y = []  # Scatterplot Y Values\n",
    "    c = []  # Scatterplot color values\n",
    "\n",
    "    # Loop over the data a second time\n",
    "    for timestamp, source, category in dataset:\n",
    "        x.append(datetime.datetime.fromtimestamp(timestamp))\n",
    "        y.append(series.index(source))\n",
    "        c.append(colors[category])\n",
    "\n",
    "    fig, axes = plt.subplots(1, 1, figsize=(14,4))\n",
    "    axes.scatter(x, y, color=c, alpha=0.85, s=10)\n",
    "    axes.grid()\n",
    "    axes.set_xlabel('YEAR')\n",
    "    axes.set_ylabel('VALUES')\n",
    "    xfmt = mdates.DateFormatter('%Y-%m-%d')\n",
    "    axes.xaxis.set_major_formatter(xfmt)\n",
    "    axes.set_xticks(dates)\n",
    "    axes.set_yticks(range(len(series)), series)\n",
    "    plt.xticks(rotation=25)\n",
    "\n",
    "    if outpath:\n",
    "        return plt.savefig(outpath, format='svg', dpi=1200)\n",
    "\n",
    "    return plt\n",
    "\n",
    "if __name__ == '__main__':\n",
    "    colors = {'red': 'r', '1234': 'b', 'green': 'g'}\n",
    "    plt = plot_timeline([\n",
    "        (float(row[0]), row[1], row[2])\n",
    "        for index, row in df.iterrows()\n",
    "    ], colors=colors)\n",
    "plt.show()"
   ]
  },
  {
   "cell_type": "code",
   "execution_count": null,
   "metadata": {
    "collapsed": true
   },
   "outputs": [],
   "source": [
    "# What type of pain killers do chronic sufferrers get\n",
    "sql = \"\"\"\n",
    "    SELECT t.Drug_ID, MasterProductFullName, ChronicIllness, count(*) AS 'transactions'\n",
    "    FROM transactions t\n",
    "    JOIN Drug_LookUp d on d.MasterProductID = t.Drug_ID\n",
    "    JOIN implied_condition ic ON ic.Patient_ID = t.Patient_ID\n",
    "    WHERE t.Patient_ID IN ( -- Only want patients with a chronic illness\n",
    "        SELECT Patient_ID\n",
    "        FROM implied_condition\n",
    "        GROUP BY Patient_ID\n",
    "    )\n",
    "    AND Drug_ID IN (\n",
    "        SELECT MasterProductID\n",
    "        FROM Drug_LookUp\n",
    "        WHERE ATCLevel3Code = 'N02A'\n",
    "    )\n",
    "    GROUP BY t.Drug_ID, ChronicIllness\n",
    "    ORDER BY transactions\n",
    "--    GROUP BY t.Patient_ID, t.Drug_ID, ChronicIllness\n",
    "\"\"\"\n",
    "df = pd.read_sql_query(sql, conn)\n",
    "df.tail()"
   ]
  },
  {
   "cell_type": "code",
   "execution_count": null,
   "metadata": {
    "collapsed": true
   },
   "outputs": [],
   "source": [
    "# Volume of transactions of pain killers for each illness\n",
    "sql = \"\"\"\n",
    "    SELECT ic.ChronicIllness, count(*) AS 'transactions',\n",
    "    (\n",
    "        SELECT count(*) FROM implied_condition WHERE ChronicIllness = ic.ChronicIllness\n",
    "    ) AS patients\n",
    "    FROM transactions t\n",
    "    JOIN Drug_LookUp d on d.MasterProductID = t.Drug_ID\n",
    "    JOIN implied_condition ic ON ic.Patient_ID = t.Patient_ID\n",
    "    WHERE t.Patient_ID IN ( -- Only want patients with a chronic illness\n",
    "        SELECT Patient_ID\n",
    "        FROM implied_condition\n",
    "        GROUP BY Patient_ID\n",
    "    )\n",
    "    AND Drug_ID IN (\n",
    "        SELECT MasterProductID\n",
    "        FROM Drug_LookUp\n",
    "        WHERE ATCLevel3Code = 'N02A'\n",
    "    )\n",
    "    GROUP BY ChronicIllness\n",
    "    ORDER BY transactions\n",
    "--    GROUP BY t.Patient_ID, t.Drug_ID, ChronicIllness\n",
    "\"\"\"\n",
    "df = pd.read_sql_query(sql, conn)\n",
    "df.tail()"
   ]
  },
  {
   "cell_type": "code",
   "execution_count": null,
   "metadata": {
    "collapsed": true
   },
   "outputs": [],
   "source": [
    "groups = df.groupby('ChronicIllness')\n",
    "# Plot\n",
    "fig, ax = pl.subplots(figsize=(8,8))\n",
    "ax.margins(0.05) # Optional, just adds 5% padding to the autoscaling\n",
    "ax.spines[\"top\"].set_visible(False)  \n",
    "ax.spines[\"right\"].set_visible(False)\n",
    "\n",
    "pl.xlabel(\"Number of Patients\", fontsize=16)  \n",
    "pl.ylabel(\"Number of Transactions\", fontsize=16)  \n",
    "for name, group in groups:\n",
    "    ax.plot(group.patients, group.transactions, marker='o', linestyle='', ms=12, label=name)\n",
    "\n",
    "ax.legend()\n",
    "\n",
    "pl.show()"
   ]
  },
  {
   "cell_type": "code",
   "execution_count": null,
   "metadata": {
    "collapsed": true
   },
   "outputs": [],
   "source": [
    "# Now the same in pandas\n",
    "sql =\"\"\"\n",
    "    SELECT Patient_ID, ChronicIllness, Drug_ID, MasterProductFullName, Prescription_Week\n",
    "    FROM transactions t\n",
    "    INNER JOIN Drug_LookUp d on d.MasterProductID = t.Drug_ID\n",
    "    NATURAL JOIN implied_condition ic -- Only want patients with chronic illness\n",
    "    WHERE ATCLevel3Code = 'N02A' -- Only want pain killers\n",
    "\"\"\"\n",
    "%time dfp2 = pd.read_sql_query(sql, conn)"
   ]
  },
  {
   "cell_type": "code",
   "execution_count": null,
   "metadata": {
    "collapsed": true,
    "scrolled": true
   },
   "outputs": [],
   "source": [
    "dfp2.groupby(['ChronicIllness','Patient_ID'])['Drug_ID'].count().mean()\n",
    "# Note that we cannot destinguish which painkillers apply for which Illness"
   ]
  },
  {
   "cell_type": "code",
   "execution_count": null,
   "metadata": {
    "collapsed": true
   },
   "outputs": [],
   "source": []
  },
  {
   "cell_type": "code",
   "execution_count": null,
   "metadata": {
    "collapsed": true
   },
   "outputs": [],
   "source": [
    "mask = (dfp['Prescription_Week'] > '2015-01-01') & (dfp['Prescription_Week'] < '2016-01-01' )"
   ]
  },
  {
   "cell_type": "code",
   "execution_count": null,
   "metadata": {
    "collapsed": true,
    "scrolled": true
   },
   "outputs": [],
   "source": [
    "groups = dfp.loc[mask].groupby('ChronicIllness')\n",
    "\n",
    "\n",
    "# Plot\n",
    "fig, ax = pl.subplots(figsize=(8,8))\n",
    "ax.spines[\"top\"].set_visible(False)  \n",
    "ax.spines[\"right\"].set_visible(False)\n",
    "\n",
    "pl.title(\"Painkillers\", fontsize=20)\n",
    "pl.xlabel(\"Number of Patients\", fontsize=16)  \n",
    "pl.ylabel(\"Number of Painkiller Transactions\", fontsize=16)  \n",
    "ax.margins(0.05) # Optional, just adds 5% padding to the autoscaling\n",
    "for name, group in groups:\n",
    "    x_pos = group.Patient_ID.unique().size\n",
    "    y_pos = group.Drug_ID.count()\n",
    "    \n",
    "    x_os = 100*5\n",
    "    y_os = 100*-2\n",
    "    # Exceptions overlapping labels\n",
    "    if name == \"Anti-Coagulant\":\n",
    "        y_os += 500\n",
    "    elif name == \"Osteoporosis\":\n",
    "        y_os -= 400\n",
    "    \n",
    "    ax.plot(x_pos, y_pos, marker='o', linestyle='', ms=12, label=name)\n",
    "    pl.text(x_pos+x_os, y_pos+y_os, name, fontsize=14)\n",
    "\n",
    "\n",
    "pl.show()"
   ]
  },
  {
   "cell_type": "code",
   "execution_count": null,
   "metadata": {
    "collapsed": true
   },
   "outputs": [],
   "source": [
    "import numpy as np\n",
    "\n",
    "N = 5\n",
    "\n",
    "ind = np.arange(N)  # the x locations for the groups\n",
    "width = 0.35       # the width of the bars\n",
    "\n",
    "# Bar graph\n",
    "groups = dfp.loc[mask].groupby(['ChronicIllness','Patient_ID'])['Drug_ID'].count()\n",
    "\n",
    "groups.unstack().plot(kind='bar',stacked=True)\n",
    "\n",
    "pl.show()\n"
   ]
  },
  {
   "cell_type": "code",
   "execution_count": null,
   "metadata": {
    "collapsed": true
   },
   "outputs": [],
   "source": [
    "dfp['Drug_ID'].head()"
   ]
  },
  {
   "cell_type": "code",
   "execution_count": null,
   "metadata": {
    "collapsed": true
   },
   "outputs": [],
   "source": [
    "arr = dfp.loc[mask].groupby(['ChronicIllness','Patient_ID'])['Drug_ID'].count()\n",
    "arr.unstack().head()\n",
    "# Number of transactions per patient per illness"
   ]
  },
  {
   "cell_type": "code",
   "execution_count": null,
   "metadata": {
    "collapsed": true
   },
   "outputs": [],
   "source": [
    "# Now the same in pandas\n",
    "sql =\"\"\"\n",
    "    SELECT Patient_ID, ChronicIllness, COUNT(Drug_ID)\n",
    "    FROM transactions t\n",
    "    INNER JOIN Drug_LookUp d on d.MasterProductID = t.Drug_ID\n",
    "    NATURAL JOIN implied_condition ic -- Only want patients with chronic illness\n",
    "    WHERE Patient_ID IN (\n",
    "        SELECT Patient_ID\n",
    "        FROM implied_condition\n",
    "        GROUP BY Patient_ID\n",
    "        HAVING count(Patient_ID) = 1\n",
    "        ORDER BY RANDOM()\n",
    "        LIMIT 1000\n",
    "    )\n",
    "    AND ATCLevel3Code = 'N02A' -- Only want pain killers\n",
    "    AND Prescription_Week >= '2016-01-01'\n",
    "    AND Prescription_Week < '2017-01-01'\n",
    "    GROUP BY Patient_ID, ChronicIllness\n",
    "\"\"\"\n",
    "%time dfp = pd.read_sql_query(sql, conn)"
   ]
  },
  {
   "cell_type": "code",
   "execution_count": null,
   "metadata": {
    "collapsed": true
   },
   "outputs": [],
   "source": [
    "dfp.head()"
   ]
  },
  {
   "cell_type": "code",
   "execution_count": null,
   "metadata": {
    "collapsed": true
   },
   "outputs": [],
   "source": [
    "dfp['Patient_ID'].groupby(['ChronicIllness'])['COUNT(Drug_ID)'].mean().unstack()\n",
    "# Hopefully an average painkillers per customer per chronic illness?"
   ]
  },
  {
   "cell_type": "code",
   "execution_count": null,
   "metadata": {
    "collapsed": true
   },
   "outputs": [],
   "source": [
    "ax = avg.plot(kind='bar')\n",
    "\n",
    "ax.spines[\"top\"].set_visible(False)  \n",
    "ax.spines[\"right\"].set_visible(False)\n",
    "\n",
    "pl.title(\"Average Painkillers taken per chronic disease\", fontsize=20)\n",
    "pl.xlabel(\"\", fontsize=16)\n",
    "pl.ylabel(\"Avg painkillers per patient\", fontsize=16)  \n",
    "\n",
    "\n",
    "pl.show()"
   ]
  },
  {
   "cell_type": "code",
   "execution_count": null,
   "metadata": {
    "collapsed": true
   },
   "outputs": [],
   "source": [
    "ax = avg.plot(kind='bar')\n",
    "\n",
    "ax.spines[\"top\"].set_visible(False)  \n",
    "ax.spines[\"right\"].set_visible(False)\n",
    "\n",
    "pl.title(\"Average Painkillers taken per chronic disease\", fontsize=20)\n",
    "pl.xlabel(\"\", fontsize=16)\n",
    "pl.ylabel(\"Avg painkillers per patient\", fontsize=16)  \n",
    "\n",
    "\n",
    "pl.show()"
   ]
  },
  {
   "cell_type": "code",
   "execution_count": null,
   "metadata": {
    "collapsed": true
   },
   "outputs": [],
   "source": [
    "\n",
    "N = 5\n",
    "\n",
    "ind = np.arange(N)  # the x locations for the groups\n",
    "width = 0.35       # the width of the bars\n",
    "\n",
    "# Plot\n",
    "fig, ax = pl.subplots(figsize=(8,8))\n",
    "ax.spines[\"top\"].set_visible(False)  \n",
    "ax.spines[\"right\"].set_visible(False)\n",
    "\n",
    "pl.title(\"Painkillers\", fontsize=20)\n",
    "pl.xlabel(\"Chronic Illness\", fontsize=16)  \n",
    "pl.ylabel(\"Number of Painkiller Transactions\", fontsize=16)\n",
    "ax.bar(ind, avg, width)"
   ]
  },
  {
   "cell_type": "code",
   "execution_count": null,
   "metadata": {
    "collapsed": true
   },
   "outputs": [],
   "source": []
  }
 ],
 "metadata": {
  "kernelspec": {
   "display_name": "Python [conda env:dthon]",
   "language": "python",
   "name": "conda-env-dthon-py"
  },
  "language_info": {
   "codemirror_mode": {
    "name": "ipython",
    "version": 2
   },
   "file_extension": ".py",
   "mimetype": "text/x-python",
   "name": "python",
   "nbconvert_exporter": "python",
   "pygments_lexer": "ipython2",
   "version": "2.7.11"
  }
 },
 "nbformat": 4,
 "nbformat_minor": 2
}
