{
 "cells": [
  {
   "cell_type": "code",
   "execution_count": null,
   "metadata": {
    "collapsed": true
   },
   "outputs": [],
   "source": [
    "import os\n",
    "\n",
    "import sqlite3\n",
    "import pandas as pd"
   ]
  },
  {
   "cell_type": "code",
   "execution_count": null,
   "metadata": {
    "collapsed": true
   },
   "outputs": [],
   "source": [
    "# Path to the root directory of datasci\n",
    "dthon_path = os.path.join(os.path.expanduser('~'), 'Projects','datasci')\n",
    "dthon_db = os.path.join(dthon_path, \"melbourne-datathon\",\"data\",\"medi.db\")\n",
    "# Run this first to create database connection\n",
    "conn = sqlite3.connect(dthon_db)\n",
    "c = conn.cursor()"
   ]
  },
  {
   "cell_type": "code",
   "execution_count": null,
   "metadata": {
    "collapsed": true
   },
   "outputs": [],
   "source": [
    "# Create temp table transactions depression with only transactions including and after 2016\n",
    "# Takes a bout 5 minutes to create\n",
    "sql = \"\"\"\n",
    "CREATE TEMP TABLE transactions_depression\n",
    "AS\n",
    "SELECT * FROM transactions t\n",
    "WHERE Dispense_Week >= '2016-01-01'\n",
    "AND t.Drug_ID IN (\n",
    "    SELECT c.MasterProductID\n",
    "    FROM ChronicIllness_LookUp c\n",
    "    WHERE c.ChronicIllness = 'Depression'\n",
    ")\n",
    "\"\"\"\n",
    "\n",
    "%time c.execute(sql)"
   ]
  },
  {
   "cell_type": "code",
   "execution_count": null,
   "metadata": {},
   "outputs": [],
   "source": [
    "# Creates table based on previous table with only victorian results. takes a second\n",
    "sql = \"\"\"\n",
    "CREATE TABLE transactions_depression_vic\n",
    "AS\n",
    "SELECT * FROM transactions_depression t\n",
    "WHERE t.Patient_ID IN (\n",
    "    SELECT Patient_ID\n",
    "    FROM patients p\n",
    "    WHERE p.postcode IN (\n",
    "        SELECT postcode FROM postcodes_geo\n",
    "        WHERE state = 'VIC'\n",
    "    )\n",
    ")\n",
    "\"\"\"\n",
    "%time c.execute(sql)"
   ]
  },
  {
   "cell_type": "code",
   "execution_count": null,
   "metadata": {
    "collapsed": true
   },
   "outputs": [],
   "source": [
    "# Creates Create indexes on this table\n",
    "sql = \"CREATE INDEX PatientID_VIC_Index ON transactions_depression_vic(Patient_ID);\"\n",
    "c.execute(sql)\n",
    "sql = \"CREATE INDEX Dispense_Week_VIC_Index ON transactions_depression_vic(Dispense_Week);\"\n",
    "c.execute(sql)\n",
    "sql = \"CREATE INDEX DrugID_VIC_Index ON transactions_depression_vic(Drug_ID);\"\n",
    "c.execute(sql)\n"
   ]
  },
  {
   "cell_type": "code",
   "execution_count": null,
   "metadata": {
    "collapsed": true
   },
   "outputs": [],
   "source": [
    "# This query gets pairs of transactions within two weeks of each other that may cause adverse affects\n",
    "# based on the pairs in Adverse_Interaction table.\n",
    "# Takes 5000 seconds or 83 minutes with one drug pair in adverse affects\n",
    "sql = \"\"\"\n",
    "SELECT t1.Patient_ID,\n",
    "    t1.Store_ID as store_id1, t1.Prescriber_ID as prescriber_id1, t1.Drug_ID as drug_id1, t1.Dispense_Week as dispense_week1, \n",
    "    t2.Store_ID as store_id2, t2.Prescriber_ID as prescriber_id2, t2.Drug_ID as drug_id2, t2.Dispense_Week as dispense_week2\n",
    "FROM transactions_depression_vic t1\n",
    "JOIN transactions_depression_vic t2 ON t1.Patient_ID = t2.Patient_ID\n",
    "AND t2.Dispense_Week BETWEEN date(t1.Dispense_Week, '-14 days') AND date(t1.Dispense_Week, '+14 days')\n",
    "AND t1.Drug_ID IN (\n",
    "    SELECT MasterProductID\n",
    "    FROM Drug_LookUp\n",
    "    INNER JOIN Adverse_Interaction ai ON ai.DrugA_ID = GenericIngredientName\n",
    ")\n",
    "AND t2.Drug_ID IN (\n",
    "    SELECT MasterProductID\n",
    "    FROM Drug_LookUp\n",
    "    INNER JOIN Adverse_Interaction ai ON ai.DrugA_ID IN (\n",
    "        SELECT GenericIngredientName\n",
    "        FROM Drug_LookUp\n",
    "        WHERE MasterProductID = t1.Drug_ID\n",
    "    )\n",
    "    WHERE GenericIngredientName = ai.DrugB_ID\n",
    ")\n",
    "\"\"\"\n",
    "\n",
    "%time df = pd.read_sql_query(sql, conn)\n",
    "df.head()"
   ]
  }
 ],
 "metadata": {
  "kernelspec": {
   "display_name": "Python [conda env:dthon]",
   "language": "python",
   "name": "conda-env-dthon-py"
  },
  "language_info": {
   "codemirror_mode": {
    "name": "ipython",
    "version": 2
   },
   "file_extension": ".py",
   "mimetype": "text/x-python",
   "name": "python",
   "nbconvert_exporter": "python",
   "pygments_lexer": "ipython2",
   "version": "2.7.11"
  }
 },
 "nbformat": 4,
 "nbformat_minor": 2
}
