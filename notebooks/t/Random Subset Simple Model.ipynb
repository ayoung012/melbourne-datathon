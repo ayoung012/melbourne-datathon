{
 "cells": [
  {
   "cell_type": "code",
   "execution_count": 1,
   "metadata": {
    "collapsed": true
   },
   "outputs": [],
   "source": [
    "import os\n",
    "import pandas as pd\n",
    "\n",
    "import dask.dataframe as dd"
   ]
  },
  {
   "cell_type": "code",
   "execution_count": 2,
   "metadata": {
    "collapsed": true
   },
   "outputs": [],
   "source": [
    "DATA_DIR = '../../data/raw'\n",
    "LOOKUPS = DATA_DIR + \"/Lookups\"\n",
    "TRANSACT = DATA_DIR + \"/Transactions\""
   ]
  },
  {
   "cell_type": "code",
   "execution_count": 3,
   "metadata": {
    "collapsed": true
   },
   "outputs": [],
   "source": [
    "files = os.listdir(TRANSACT)"
   ]
  },
  {
   "cell_type": "code",
   "execution_count": 9,
   "metadata": {
    "collapsed": true
   },
   "outputs": [],
   "source": [
    "stores = pd.read_csv(LOOKUPS + '/stores.txt', sep='\\t')\n",
    "drugs = pd.read_csv(LOOKUPS + '/Drug_LookUp.txt', sep='\\t')\n",
    "illness = pd.read_csv(LOOKUPS + '/ChronicIllness_LookUp.txt', sep='\\t')\n",
    "patients = pd.read_csv(LOOKUPS + '/patients.txt', sep='\\t')\n",
    "atc = pd.read_csv(LOOKUPS + '/ATC_LookUp.txt', sep='\\t')"
   ]
  },
  {
   "cell_type": "code",
   "execution_count": 10,
   "metadata": {
    "collapsed": true
   },
   "outputs": [],
   "source": [
    "t1 = illness.merge(drugs, on='MasterProductID', how='outer')"
   ]
  },
  {
   "cell_type": "code",
   "execution_count": 5,
   "metadata": {
    "collapsed": true
   },
   "outputs": [],
   "source": [
    "def get_subset():\n",
    "\n",
    "    samples = []\n",
    "    for file in files:\n",
    "        df = pd.read_csv(TRANSACT + '/' + file, sep='\\t')\n",
    "        sample = df.sample(frac=.1)\n",
    "        samples.append(sample)\n",
    "\n",
    "    return pd.concat(samples)\n",
    "    \n",
    "    "
   ]
  },
  {
   "cell_type": "code",
   "execution_count": 6,
   "metadata": {
    "collapsed": true
   },
   "outputs": [],
   "source": [
    "subset = get_subset()"
   ]
  },
  {
   "cell_type": "code",
   "execution_count": 11,
   "metadata": {},
   "outputs": [],
   "source": [
    "subset = subset.merge(t1, left_on='Drug_ID', right_on='MasterProductID', suffixes=('_illness', '_drug'), how='outer')"
   ]
  },
  {
   "cell_type": "code",
   "execution_count": 13,
   "metadata": {
    "collapsed": true
   },
   "outputs": [],
   "source": [
    "subset = subset.merge(patients, on='Patient_ID', how='outer')"
   ]
  },
  {
   "cell_type": "code",
   "execution_count": 14,
   "metadata": {
    "collapsed": true
   },
   "outputs": [],
   "source": [
    "subset['target'] = subset['ChronicIllness'] == 'Diabetes'"
   ]
  },
  {
   "cell_type": "code",
   "execution_count": 15,
   "metadata": {},
   "outputs": [
    {
     "data": {
      "text/html": [
       "<div>\n",
       "<table border=\"1\" class=\"dataframe\">\n",
       "  <thead>\n",
       "    <tr style=\"text-align: right;\">\n",
       "      <th></th>\n",
       "      <th>Patient_ID</th>\n",
       "      <th>Store_ID</th>\n",
       "      <th>Prescriber_ID</th>\n",
       "      <th>Drug_ID</th>\n",
       "      <th>SourceSystem_Code</th>\n",
       "      <th>Prescription_Week</th>\n",
       "      <th>Dispense_Week</th>\n",
       "      <th>Drug_Code</th>\n",
       "      <th>NHS_Code</th>\n",
       "      <th>IsDeferredScript</th>\n",
       "      <th>...</th>\n",
       "      <th>ChemistListPrice</th>\n",
       "      <th>ATCLevel5Code</th>\n",
       "      <th>ATCLevel4Code</th>\n",
       "      <th>ATCLevel3Code</th>\n",
       "      <th>ATCLevel2Code</th>\n",
       "      <th>ATCLevel1Code</th>\n",
       "      <th>gender</th>\n",
       "      <th>year_of_birth</th>\n",
       "      <th>postcode</th>\n",
       "      <th>target</th>\n",
       "    </tr>\n",
       "  </thead>\n",
       "  <tbody>\n",
       "    <tr>\n",
       "      <th>0</th>\n",
       "      <td>7716.0</td>\n",
       "      <td>2636.0</td>\n",
       "      <td>6951.0</td>\n",
       "      <td>6470.0</td>\n",
       "      <td>F</td>\n",
       "      <td>2012-09-09</td>\n",
       "      <td>2013-02-17</td>\n",
       "      <td>PANA8</td>\n",
       "      <td>8814X</td>\n",
       "      <td>0.0</td>\n",
       "      <td>...</td>\n",
       "      <td>4.44</td>\n",
       "      <td>N02BE01</td>\n",
       "      <td>N02BE</td>\n",
       "      <td>N02B</td>\n",
       "      <td>N02</td>\n",
       "      <td>N</td>\n",
       "      <td>M</td>\n",
       "      <td>1900.0</td>\n",
       "      <td>2648.0</td>\n",
       "      <td>False</td>\n",
       "    </tr>\n",
       "    <tr>\n",
       "      <th>1</th>\n",
       "      <td>7716.0</td>\n",
       "      <td>2636.0</td>\n",
       "      <td>6951.0</td>\n",
       "      <td>6470.0</td>\n",
       "      <td>F</td>\n",
       "      <td>2013-06-23</td>\n",
       "      <td>2013-07-21</td>\n",
       "      <td>PANA8</td>\n",
       "      <td>8814X</td>\n",
       "      <td>0.0</td>\n",
       "      <td>...</td>\n",
       "      <td>4.44</td>\n",
       "      <td>N02BE01</td>\n",
       "      <td>N02BE</td>\n",
       "      <td>N02B</td>\n",
       "      <td>N02</td>\n",
       "      <td>N</td>\n",
       "      <td>M</td>\n",
       "      <td>1900.0</td>\n",
       "      <td>2648.0</td>\n",
       "      <td>False</td>\n",
       "    </tr>\n",
       "    <tr>\n",
       "      <th>2</th>\n",
       "      <td>7716.0</td>\n",
       "      <td>2636.0</td>\n",
       "      <td>6951.0</td>\n",
       "      <td>6470.0</td>\n",
       "      <td>F</td>\n",
       "      <td>2011-06-19</td>\n",
       "      <td>2011-07-24</td>\n",
       "      <td>PANA8</td>\n",
       "      <td>8814X</td>\n",
       "      <td>0.0</td>\n",
       "      <td>...</td>\n",
       "      <td>4.44</td>\n",
       "      <td>N02BE01</td>\n",
       "      <td>N02BE</td>\n",
       "      <td>N02B</td>\n",
       "      <td>N02</td>\n",
       "      <td>N</td>\n",
       "      <td>M</td>\n",
       "      <td>1900.0</td>\n",
       "      <td>2648.0</td>\n",
       "      <td>False</td>\n",
       "    </tr>\n",
       "    <tr>\n",
       "      <th>3</th>\n",
       "      <td>7716.0</td>\n",
       "      <td>2636.0</td>\n",
       "      <td>6951.0</td>\n",
       "      <td>2444.0</td>\n",
       "      <td>F</td>\n",
       "      <td>2013-08-25</td>\n",
       "      <td>2013-10-27</td>\n",
       "      <td>DIAM2</td>\n",
       "      <td>9302N</td>\n",
       "      <td>0.0</td>\n",
       "      <td>...</td>\n",
       "      <td>9.19</td>\n",
       "      <td>A10BB09</td>\n",
       "      <td>A10BB</td>\n",
       "      <td>A10B</td>\n",
       "      <td>A10</td>\n",
       "      <td>A</td>\n",
       "      <td>M</td>\n",
       "      <td>1900.0</td>\n",
       "      <td>2648.0</td>\n",
       "      <td>True</td>\n",
       "    </tr>\n",
       "    <tr>\n",
       "      <th>4</th>\n",
       "      <td>7716.0</td>\n",
       "      <td>2636.0</td>\n",
       "      <td>6951.0</td>\n",
       "      <td>9008.0</td>\n",
       "      <td>F</td>\n",
       "      <td>2013-03-03</td>\n",
       "      <td>2013-05-26</td>\n",
       "      <td>VENT3</td>\n",
       "      <td>8288F</td>\n",
       "      <td>0.0</td>\n",
       "      <td>...</td>\n",
       "      <td>4.97</td>\n",
       "      <td>R03AC02</td>\n",
       "      <td>R03AC</td>\n",
       "      <td>R03A</td>\n",
       "      <td>R03</td>\n",
       "      <td>R</td>\n",
       "      <td>M</td>\n",
       "      <td>1900.0</td>\n",
       "      <td>2648.0</td>\n",
       "      <td>False</td>\n",
       "    </tr>\n",
       "  </tbody>\n",
       "</table>\n",
       "<p>5 rows × 45 columns</p>\n",
       "</div>"
      ],
      "text/plain": [
       "   Patient_ID  Store_ID  Prescriber_ID  Drug_ID SourceSystem_Code  \\\n",
       "0      7716.0    2636.0         6951.0   6470.0                 F   \n",
       "1      7716.0    2636.0         6951.0   6470.0                 F   \n",
       "2      7716.0    2636.0         6951.0   6470.0                 F   \n",
       "3      7716.0    2636.0         6951.0   2444.0                 F   \n",
       "4      7716.0    2636.0         6951.0   9008.0                 F   \n",
       "\n",
       "  Prescription_Week Dispense_Week Drug_Code NHS_Code  IsDeferredScript  ...    \\\n",
       "0        2012-09-09    2013-02-17     PANA8    8814X               0.0  ...     \n",
       "1        2013-06-23    2013-07-21     PANA8    8814X               0.0  ...     \n",
       "2        2011-06-19    2011-07-24     PANA8    8814X               0.0  ...     \n",
       "3        2013-08-25    2013-10-27     DIAM2    9302N               0.0  ...     \n",
       "4        2013-03-03    2013-05-26     VENT3    8288F               0.0  ...     \n",
       "\n",
       "   ChemistListPrice  ATCLevel5Code  ATCLevel4Code  ATCLevel3Code  \\\n",
       "0              4.44        N02BE01          N02BE           N02B   \n",
       "1              4.44        N02BE01          N02BE           N02B   \n",
       "2              4.44        N02BE01          N02BE           N02B   \n",
       "3              9.19        A10BB09          A10BB           A10B   \n",
       "4              4.97        R03AC02          R03AC           R03A   \n",
       "\n",
       "   ATCLevel2Code  ATCLevel1Code  gender  year_of_birth  postcode target  \n",
       "0            N02              N       M         1900.0    2648.0  False  \n",
       "1            N02              N       M         1900.0    2648.0  False  \n",
       "2            N02              N       M         1900.0    2648.0  False  \n",
       "3            A10              A       M         1900.0    2648.0   True  \n",
       "4            R03              R       M         1900.0    2648.0  False  \n",
       "\n",
       "[5 rows x 45 columns]"
      ]
     },
     "execution_count": 15,
     "metadata": {},
     "output_type": "execute_result"
    }
   ],
   "source": [
    "subset.head()"
   ]
  },
  {
   "cell_type": "code",
   "execution_count": null,
   "metadata": {
    "collapsed": true
   },
   "outputs": [],
   "source": []
  }
 ],
 "metadata": {
  "kernelspec": {
   "display_name": "Python 3",
   "language": "python",
   "name": "python3"
  },
  "language_info": {
   "codemirror_mode": {
    "name": "ipython",
    "version": 3
   },
   "file_extension": ".py",
   "mimetype": "text/x-python",
   "name": "python",
   "nbconvert_exporter": "python",
   "pygments_lexer": "ipython3",
   "version": "3.6.1"
  }
 },
 "nbformat": 4,
 "nbformat_minor": 2
}
