{
 "cells": [
  {
   "cell_type": "code",
   "execution_count": 1,
   "metadata": {
    "collapsed": true
   },
   "outputs": [],
   "source": [
    "import os\n",
    "import pandas as pd\n",
    "\n",
    "import dask.dataframe as dd"
   ]
  },
  {
   "cell_type": "code",
   "execution_count": 2,
   "metadata": {
    "collapsed": true
   },
   "outputs": [],
   "source": [
    "DATA_DIR = '../../data/raw'\n",
    "LOOKUPS = DATA_DIR + \"/Lookups\"\n",
    "TRANSACT = DATA_DIR + \"/Transactions\""
   ]
  },
  {
   "cell_type": "code",
   "execution_count": 3,
   "metadata": {
    "collapsed": true
   },
   "outputs": [],
   "source": [
    "files = os.listdir(TRANSACT)"
   ]
  },
  {
   "cell_type": "code",
   "execution_count": 9,
   "metadata": {
    "collapsed": true
   },
   "outputs": [],
   "source": [
    "stores = pd.read_csv(LOOKUPS + '/stores.txt', sep='\\t')\n",
    "drugs = pd.read_csv(LOOKUPS + '/Drug_LookUp.txt', sep='\\t')\n",
    "illness = pd.read_csv(LOOKUPS + '/ChronicIllness_LookUp.txt', sep='\\t')\n",
    "patients = pd.read_csv(LOOKUPS + '/patients.txt', sep='\\t')\n",
    "atc = pd.read_csv(LOOKUPS + '/ATC_LookUp.txt', sep='\\t')"
   ]
  },
  {
   "cell_type": "code",
   "execution_count": 10,
   "metadata": {
    "collapsed": true
   },
   "outputs": [],
   "source": [
    "t1 = illness.merge(drugs, on='MasterProductID', how='outer')"
   ]
  },
  {
   "cell_type": "code",
   "execution_count": 5,
   "metadata": {
    "collapsed": true
   },
   "outputs": [],
   "source": [
    "def get_subset():\n",
    "\n",
    "    samples = []\n",
    "    for file in files:\n",
    "        df = pd.read_csv(TRANSACT + '/' + file, sep='\\t')\n",
    "        sample = df.sample(frac=.1)\n",
    "        samples.append(sample)\n",
    "\n",
    "    return pd.concat(samples)\n",
    "    \n",
    "    "
   ]
  },
  {
   "cell_type": "code",
   "execution_count": 6,
   "metadata": {
    "collapsed": true
   },
   "outputs": [],
   "source": [
    "subset = get_subset()"
   ]
  },
  {
   "cell_type": "code",
   "execution_count": 11,
   "metadata": {},
   "outputs": [],
   "source": [
    "subset = subset.merge(t1, left_on='Drug_ID', right_on='MasterProductID', suffixes=('_illness', '_drug'), how='outer')"
   ]
  },
  {
   "cell_type": "code",
   "execution_count": 12,
   "metadata": {},
   "outputs": [
    {
     "data": {
      "text/html": [
       "<div>\n",
       "<table border=\"1\" class=\"dataframe\">\n",
       "  <thead>\n",
       "    <tr style=\"text-align: right;\">\n",
       "      <th></th>\n",
       "      <th>Patient_ID</th>\n",
       "      <th>Store_ID</th>\n",
       "      <th>Prescriber_ID</th>\n",
       "      <th>Drug_ID</th>\n",
       "      <th>SourceSystem_Code</th>\n",
       "      <th>Prescription_Week</th>\n",
       "      <th>Dispense_Week</th>\n",
       "      <th>Drug_Code</th>\n",
       "      <th>NHS_Code</th>\n",
       "      <th>IsDeferredScript</th>\n",
       "      <th>...</th>\n",
       "      <th>ManufacturerCode</th>\n",
       "      <th>ManufacturerName</th>\n",
       "      <th>ManufacturerGroupID</th>\n",
       "      <th>ManufacturerGroupCode</th>\n",
       "      <th>ChemistListPrice</th>\n",
       "      <th>ATCLevel5Code</th>\n",
       "      <th>ATCLevel4Code</th>\n",
       "      <th>ATCLevel3Code</th>\n",
       "      <th>ATCLevel2Code</th>\n",
       "      <th>ATCLevel1Code</th>\n",
       "    </tr>\n",
       "  </thead>\n",
       "  <tbody>\n",
       "    <tr>\n",
       "      <th>0</th>\n",
       "      <td>7716.0</td>\n",
       "      <td>2636.0</td>\n",
       "      <td>6951.0</td>\n",
       "      <td>6470.0</td>\n",
       "      <td>F</td>\n",
       "      <td>2012-09-09</td>\n",
       "      <td>2013-02-17</td>\n",
       "      <td>PANA8</td>\n",
       "      <td>8814X</td>\n",
       "      <td>0.0</td>\n",
       "      <td>...</td>\n",
       "      <td>GC</td>\n",
       "      <td>GLAXOSMITHKLINE AUSTRALIA</td>\n",
       "      <td>105</td>\n",
       "      <td>GLAXOSMITHKLINE CONSUMER</td>\n",
       "      <td>4.44</td>\n",
       "      <td>N02BE01</td>\n",
       "      <td>N02BE</td>\n",
       "      <td>N02B</td>\n",
       "      <td>N02</td>\n",
       "      <td>N</td>\n",
       "    </tr>\n",
       "    <tr>\n",
       "      <th>1</th>\n",
       "      <td>9513.0</td>\n",
       "      <td>1038.0</td>\n",
       "      <td>55907.0</td>\n",
       "      <td>6470.0</td>\n",
       "      <td>F</td>\n",
       "      <td>2011-07-17</td>\n",
       "      <td>2012-03-04</td>\n",
       "      <td>PANA8</td>\n",
       "      <td>8814X</td>\n",
       "      <td>0.0</td>\n",
       "      <td>...</td>\n",
       "      <td>GC</td>\n",
       "      <td>GLAXOSMITHKLINE AUSTRALIA</td>\n",
       "      <td>105</td>\n",
       "      <td>GLAXOSMITHKLINE CONSUMER</td>\n",
       "      <td>4.44</td>\n",
       "      <td>N02BE01</td>\n",
       "      <td>N02BE</td>\n",
       "      <td>N02B</td>\n",
       "      <td>N02</td>\n",
       "      <td>N</td>\n",
       "    </tr>\n",
       "    <tr>\n",
       "      <th>2</th>\n",
       "      <td>9407.0</td>\n",
       "      <td>2539.0</td>\n",
       "      <td>7279.0</td>\n",
       "      <td>6470.0</td>\n",
       "      <td>F</td>\n",
       "      <td>2011-11-06</td>\n",
       "      <td>2012-03-04</td>\n",
       "      <td>PANA8</td>\n",
       "      <td>8814X</td>\n",
       "      <td>0.0</td>\n",
       "      <td>...</td>\n",
       "      <td>GC</td>\n",
       "      <td>GLAXOSMITHKLINE AUSTRALIA</td>\n",
       "      <td>105</td>\n",
       "      <td>GLAXOSMITHKLINE CONSUMER</td>\n",
       "      <td>4.44</td>\n",
       "      <td>N02BE01</td>\n",
       "      <td>N02BE</td>\n",
       "      <td>N02B</td>\n",
       "      <td>N02</td>\n",
       "      <td>N</td>\n",
       "    </tr>\n",
       "    <tr>\n",
       "      <th>3</th>\n",
       "      <td>6534.0</td>\n",
       "      <td>2275.0</td>\n",
       "      <td>24225.0</td>\n",
       "      <td>6470.0</td>\n",
       "      <td>F</td>\n",
       "      <td>2014-05-04</td>\n",
       "      <td>2014-11-23</td>\n",
       "      <td>PANA8</td>\n",
       "      <td>8814X</td>\n",
       "      <td>0.0</td>\n",
       "      <td>...</td>\n",
       "      <td>GC</td>\n",
       "      <td>GLAXOSMITHKLINE AUSTRALIA</td>\n",
       "      <td>105</td>\n",
       "      <td>GLAXOSMITHKLINE CONSUMER</td>\n",
       "      <td>4.44</td>\n",
       "      <td>N02BE01</td>\n",
       "      <td>N02BE</td>\n",
       "      <td>N02B</td>\n",
       "      <td>N02</td>\n",
       "      <td>N</td>\n",
       "    </tr>\n",
       "    <tr>\n",
       "      <th>4</th>\n",
       "      <td>6238.0</td>\n",
       "      <td>994.0</td>\n",
       "      <td>59754.0</td>\n",
       "      <td>6470.0</td>\n",
       "      <td>F</td>\n",
       "      <td>2015-07-26</td>\n",
       "      <td>2015-12-20</td>\n",
       "      <td>PANA8</td>\n",
       "      <td>8814X</td>\n",
       "      <td>0.0</td>\n",
       "      <td>...</td>\n",
       "      <td>GC</td>\n",
       "      <td>GLAXOSMITHKLINE AUSTRALIA</td>\n",
       "      <td>105</td>\n",
       "      <td>GLAXOSMITHKLINE CONSUMER</td>\n",
       "      <td>4.44</td>\n",
       "      <td>N02BE01</td>\n",
       "      <td>N02BE</td>\n",
       "      <td>N02B</td>\n",
       "      <td>N02</td>\n",
       "      <td>N</td>\n",
       "    </tr>\n",
       "  </tbody>\n",
       "</table>\n",
       "<p>5 rows × 41 columns</p>\n",
       "</div>"
      ],
      "text/plain": [
       "   Patient_ID  Store_ID  Prescriber_ID  Drug_ID SourceSystem_Code  \\\n",
       "0      7716.0    2636.0         6951.0   6470.0                 F   \n",
       "1      9513.0    1038.0        55907.0   6470.0                 F   \n",
       "2      9407.0    2539.0         7279.0   6470.0                 F   \n",
       "3      6534.0    2275.0        24225.0   6470.0                 F   \n",
       "4      6238.0     994.0        59754.0   6470.0                 F   \n",
       "\n",
       "  Prescription_Week Dispense_Week Drug_Code NHS_Code  IsDeferredScript  \\\n",
       "0        2012-09-09    2013-02-17     PANA8    8814X               0.0   \n",
       "1        2011-07-17    2012-03-04     PANA8    8814X               0.0   \n",
       "2        2011-11-06    2012-03-04     PANA8    8814X               0.0   \n",
       "3        2014-05-04    2014-11-23     PANA8    8814X               0.0   \n",
       "4        2015-07-26    2015-12-20     PANA8    8814X               0.0   \n",
       "\n",
       "       ...       ManufacturerCode           ManufacturerName  \\\n",
       "0      ...                     GC  GLAXOSMITHKLINE AUSTRALIA   \n",
       "1      ...                     GC  GLAXOSMITHKLINE AUSTRALIA   \n",
       "2      ...                     GC  GLAXOSMITHKLINE AUSTRALIA   \n",
       "3      ...                     GC  GLAXOSMITHKLINE AUSTRALIA   \n",
       "4      ...                     GC  GLAXOSMITHKLINE AUSTRALIA   \n",
       "\n",
       "   ManufacturerGroupID     ManufacturerGroupCode  ChemistListPrice  \\\n",
       "0                  105  GLAXOSMITHKLINE CONSUMER              4.44   \n",
       "1                  105  GLAXOSMITHKLINE CONSUMER              4.44   \n",
       "2                  105  GLAXOSMITHKLINE CONSUMER              4.44   \n",
       "3                  105  GLAXOSMITHKLINE CONSUMER              4.44   \n",
       "4                  105  GLAXOSMITHKLINE CONSUMER              4.44   \n",
       "\n",
       "   ATCLevel5Code  ATCLevel4Code  ATCLevel3Code  ATCLevel2Code ATCLevel1Code  \n",
       "0        N02BE01          N02BE           N02B            N02             N  \n",
       "1        N02BE01          N02BE           N02B            N02             N  \n",
       "2        N02BE01          N02BE           N02B            N02             N  \n",
       "3        N02BE01          N02BE           N02B            N02             N  \n",
       "4        N02BE01          N02BE           N02B            N02             N  \n",
       "\n",
       "[5 rows x 41 columns]"
      ]
     },
     "execution_count": 12,
     "metadata": {},
     "output_type": "execute_result"
    }
   ],
   "source": [
    "subset.head()"
   ]
  },
  {
   "cell_type": "code",
   "execution_count": null,
   "metadata": {
    "collapsed": true
   },
   "outputs": [],
   "source": []
  }
 ],
 "metadata": {
  "kernelspec": {
   "display_name": "Python 3",
   "language": "python",
   "name": "python3"
  },
  "language_info": {
   "codemirror_mode": {
    "name": "ipython",
    "version": 3
   },
   "file_extension": ".py",
   "mimetype": "text/x-python",
   "name": "python",
   "nbconvert_exporter": "python",
   "pygments_lexer": "ipython3",
   "version": "3.6.1"
  }
 },
 "nbformat": 4,
 "nbformat_minor": 2
}
