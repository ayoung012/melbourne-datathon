{
 "cells": [
  {
   "cell_type": "code",
   "execution_count": 8,
   "metadata": {
    "collapsed": true,
    "deletable": true,
    "editable": true
   },
   "outputs": [],
   "source": [
    "import os\n",
    "import pandas as pd"
   ]
  },
  {
   "cell_type": "code",
   "execution_count": 1,
   "metadata": {
    "collapsed": true,
    "deletable": true,
    "editable": true
   },
   "outputs": [],
   "source": [
    "DATA_DIR = '../../data/raw'"
   ]
  },
  {
   "cell_type": "code",
   "execution_count": 9,
   "metadata": {
    "collapsed": false,
    "deletable": true,
    "editable": true
   },
   "outputs": [
    {
     "data": {
      "text/plain": [
       "['Code', 'Lookups', 'READ ME - Melbourne Datathon 2017.pdf', 'Transactions']"
      ]
     },
     "execution_count": 9,
     "metadata": {},
     "output_type": "execute_result"
    }
   ],
   "source": [
    "os.listdir(DATA_DIR)"
   ]
  },
  {
   "cell_type": "code",
   "execution_count": 10,
   "metadata": {
    "collapsed": true,
    "deletable": true,
    "editable": true
   },
   "outputs": [],
   "source": [
    "LOOKUPS = DATA_DIR + \"/Lookups\"\n",
    "TRANSACT = DATA_DIR + \"/Transactions\""
   ]
  },
  {
   "cell_type": "code",
   "execution_count": 11,
   "metadata": {
    "collapsed": true,
    "deletable": true,
    "editable": true
   },
   "outputs": [],
   "source": [
    "files = os.listdir(TRANSACT)"
   ]
  },
  {
   "cell_type": "code",
   "execution_count": 28,
   "metadata": {
    "collapsed": true,
    "deletable": true,
    "editable": true
   },
   "outputs": [],
   "source": [
    "df = pd.read_csv(TRANSACT + '/' + files[0], sep='\\t')"
   ]
  },
  {
   "cell_type": "code",
   "execution_count": 1,
   "metadata": {
    "collapsed": false,
    "deletable": true,
    "editable": true
   },
   "outputs": [
    {
     "ename": "NameError",
     "evalue": "name 'df' is not defined",
     "output_type": "error",
     "traceback": [
      "\u001b[1;31m---------------------------------------------------------------------------\u001b[0m",
      "\u001b[1;31mNameError\u001b[0m                                 Traceback (most recent call last)",
      "\u001b[1;32m<ipython-input-1-2569c44faf66>\u001b[0m in \u001b[0;36m<module>\u001b[1;34m()\u001b[0m\n\u001b[1;32m----> 1\u001b[1;33m \u001b[0mdf\u001b[0m\u001b[1;33m.\u001b[0m\u001b[0mhead\u001b[0m\u001b[1;33m(\u001b[0m\u001b[1;33m)\u001b[0m\u001b[1;33m\u001b[0m\u001b[0m\n\u001b[0m",
      "\u001b[1;31mNameError\u001b[0m: name 'df' is not defined"
     ]
    }
   ],
   "source": [
    "df.head()"
   ]
  },
  {
   "cell_type": "code",
   "execution_count": 19,
   "metadata": {
    "collapsed": false,
    "deletable": true,
    "editable": true
   },
   "outputs": [
    {
     "data": {
      "text/plain": [
       "['ATC_LookUp.txt',\n",
       " 'ChronicIllness_LookUp.txt',\n",
       " 'Drug_LookUp.txt',\n",
       " 'patients.txt',\n",
       " 'stores.txt']"
      ]
     },
     "execution_count": 19,
     "metadata": {},
     "output_type": "execute_result"
    }
   ],
   "source": [
    "os.listdir(LOOKUPS)"
   ]
  },
  {
   "cell_type": "code",
   "execution_count": 25,
   "metadata": {
    "collapsed": false,
    "deletable": true,
    "editable": true
   },
   "outputs": [
    {
     "data": {
      "text/html": [
       "<div>\n",
       "<table border=\"1\" class=\"dataframe\">\n",
       "  <thead>\n",
       "    <tr style=\"text-align: right;\">\n",
       "      <th></th>\n",
       "      <th>Store_ID</th>\n",
       "      <th>StateCode</th>\n",
       "      <th>postcode</th>\n",
       "      <th>IsBannerGroup</th>\n",
       "    </tr>\n",
       "  </thead>\n",
       "  <tbody>\n",
       "    <tr>\n",
       "      <th>0</th>\n",
       "      <td>1</td>\n",
       "      <td>VIC</td>\n",
       "      <td>3558.0</td>\n",
       "      <td>0</td>\n",
       "    </tr>\n",
       "    <tr>\n",
       "      <th>1</th>\n",
       "      <td>2</td>\n",
       "      <td>VIC</td>\n",
       "      <td>3124.0</td>\n",
       "      <td>0</td>\n",
       "    </tr>\n",
       "    <tr>\n",
       "      <th>2</th>\n",
       "      <td>3</td>\n",
       "      <td>WA</td>\n",
       "      <td>6107.0</td>\n",
       "      <td>1</td>\n",
       "    </tr>\n",
       "    <tr>\n",
       "      <th>3</th>\n",
       "      <td>4</td>\n",
       "      <td>VIC</td>\n",
       "      <td>3214.0</td>\n",
       "      <td>0</td>\n",
       "    </tr>\n",
       "    <tr>\n",
       "      <th>4</th>\n",
       "      <td>5</td>\n",
       "      <td>VIC</td>\n",
       "      <td>3172.0</td>\n",
       "      <td>0</td>\n",
       "    </tr>\n",
       "  </tbody>\n",
       "</table>\n",
       "</div>"
      ],
      "text/plain": [
       "   Store_ID StateCode  postcode  IsBannerGroup\n",
       "0         1       VIC    3558.0              0\n",
       "1         2       VIC    3124.0              0\n",
       "2         3        WA    6107.0              1\n",
       "3         4       VIC    3214.0              0\n",
       "4         5       VIC    3172.0              0"
      ]
     },
     "execution_count": 25,
     "metadata": {},
     "output_type": "execute_result"
    }
   ],
   "source": [
    "stores = pd.read_csv(LOOKUPS + '/stores.txt', sep='\\t')\n",
    "stores.head()"
   ]
  },
  {
   "cell_type": "code",
   "execution_count": 27,
   "metadata": {
    "collapsed": false,
    "deletable": true,
    "editable": true
   },
   "outputs": [
    {
     "data": {
      "text/html": [
       "<div>\n",
       "<table border=\"1\" class=\"dataframe\">\n",
       "  <thead>\n",
       "    <tr style=\"text-align: right;\">\n",
       "      <th></th>\n",
       "      <th>MasterProductID</th>\n",
       "      <th>MasterProductCode</th>\n",
       "      <th>MasterProductFullName</th>\n",
       "      <th>BrandName</th>\n",
       "      <th>FormCode</th>\n",
       "      <th>StrengthCode</th>\n",
       "      <th>PackSizeNumber</th>\n",
       "      <th>GenericIngredientName</th>\n",
       "      <th>EthicalSubCategoryName</th>\n",
       "      <th>EthicalCategoryName</th>\n",
       "      <th>ManufacturerCode</th>\n",
       "      <th>ManufacturerName</th>\n",
       "      <th>ManufacturerGroupID</th>\n",
       "      <th>ManufacturerGroupCode</th>\n",
       "      <th>ChemistListPrice</th>\n",
       "      <th>ATCLevel5Code</th>\n",
       "      <th>ATCLevel4Code</th>\n",
       "      <th>ATCLevel3Code</th>\n",
       "      <th>ATCLevel2Code</th>\n",
       "      <th>ATCLevel1Code</th>\n",
       "    </tr>\n",
       "  </thead>\n",
       "  <tbody>\n",
       "    <tr>\n",
       "      <th>0</th>\n",
       "      <td>7777</td>\n",
       "      <td>SCH4</td>\n",
       "      <td>SQUIBB HC OINT 1% 50G 1</td>\n",
       "      <td>SQUIBB HC</td>\n",
       "      <td>OINT</td>\n",
       "      <td>1% 50G</td>\n",
       "      <td>1.0</td>\n",
       "      <td>HYDROCORTISONE ACETATE</td>\n",
       "      <td>NON PBS Substitutable</td>\n",
       "      <td>ETHICAL NON PBS</td>\n",
       "      <td>BQ</td>\n",
       "      <td>BRISTOL-MYERS SQUIBB AUST</td>\n",
       "      <td>43</td>\n",
       "      <td>BMS</td>\n",
       "      <td>1.8609</td>\n",
       "      <td>A07EA</td>\n",
       "      <td>A07EA</td>\n",
       "      <td>A07E</td>\n",
       "      <td>A07</td>\n",
       "      <td>A</td>\n",
       "    </tr>\n",
       "    <tr>\n",
       "      <th>1</th>\n",
       "      <td>9276</td>\n",
       "      <td>ZA13</td>\n",
       "      <td>ZANTAC TAB 300MG 30</td>\n",
       "      <td>ZANTAC</td>\n",
       "      <td>TAB</td>\n",
       "      <td>300MG</td>\n",
       "      <td>30.0</td>\n",
       "      <td>RANITIDINE</td>\n",
       "      <td>PBS Substitutable</td>\n",
       "      <td>ETHICAL PBS</td>\n",
       "      <td>AS</td>\n",
       "      <td>ASPEN PHARMACARE AUSTRALI</td>\n",
       "      <td>23</td>\n",
       "      <td>ASPEN</td>\n",
       "      <td>6.1300</td>\n",
       "      <td>A02BA02</td>\n",
       "      <td>A02BA</td>\n",
       "      <td>A02B</td>\n",
       "      <td>A02</td>\n",
       "      <td>A</td>\n",
       "    </tr>\n",
       "    <tr>\n",
       "      <th>2</th>\n",
       "      <td>5465</td>\n",
       "      <td>MIXT1</td>\n",
       "      <td>THE MIXTURE   200</td>\n",
       "      <td>THE MIXTURE</td>\n",
       "      <td>NaN</td>\n",
       "      <td>NaN</td>\n",
       "      <td>200.0</td>\n",
       "      <td>Not Applicable</td>\n",
       "      <td>Unknown Sub-Category</td>\n",
       "      <td>ETHICAL NON PBS</td>\n",
       "      <td>NaN</td>\n",
       "      <td>Not Applicable</td>\n",
       "      <td>-1</td>\n",
       "      <td>Not Applicable</td>\n",
       "      <td>8.6174</td>\n",
       "      <td>NaN</td>\n",
       "      <td>NaN</td>\n",
       "      <td>NaN</td>\n",
       "      <td>NaN</td>\n",
       "      <td>NaN</td>\n",
       "    </tr>\n",
       "    <tr>\n",
       "      <th>3</th>\n",
       "      <td>12555</td>\n",
       "      <td>METO45</td>\n",
       "      <td>METOPROLOL (AN) TAB 100MG 60</td>\n",
       "      <td>METOPROLOL (AN)</td>\n",
       "      <td>TAB</td>\n",
       "      <td>100MG</td>\n",
       "      <td>60.0</td>\n",
       "      <td>METOPROLOL TARTRATE</td>\n",
       "      <td>PBS Generic</td>\n",
       "      <td>ETHICAL PBS</td>\n",
       "      <td>EA</td>\n",
       "      <td>AMNEAL PHARMACEUTICALS PT</td>\n",
       "      <td>268</td>\n",
       "      <td>AMNEAL PHARMACEUTICALS PT</td>\n",
       "      <td>2.4200</td>\n",
       "      <td>C07AB02</td>\n",
       "      <td>C07AB</td>\n",
       "      <td>C07A</td>\n",
       "      <td>C07</td>\n",
       "      <td>C</td>\n",
       "    </tr>\n",
       "    <tr>\n",
       "      <th>4</th>\n",
       "      <td>7671</td>\n",
       "      <td>S/P2</td>\n",
       "      <td>S/P COLD &amp; FLU TAB  24 24</td>\n",
       "      <td>S/P COLD &amp; FLU</td>\n",
       "      <td>TAB</td>\n",
       "      <td>NaN</td>\n",
       "      <td>24.0</td>\n",
       "      <td>PSEUDOEPHEDRINE + OTHER</td>\n",
       "      <td>Unknown Sub-Category</td>\n",
       "      <td>ETHICAL NON PBS</td>\n",
       "      <td>NaN</td>\n",
       "      <td>Not Applicable</td>\n",
       "      <td>-1</td>\n",
       "      <td>Not Applicable</td>\n",
       "      <td>0.0000</td>\n",
       "      <td>NaN</td>\n",
       "      <td>NaN</td>\n",
       "      <td>NaN</td>\n",
       "      <td>NaN</td>\n",
       "      <td>NaN</td>\n",
       "    </tr>\n",
       "  </tbody>\n",
       "</table>\n",
       "</div>"
      ],
      "text/plain": [
       "   MasterProductID MasterProductCode          MasterProductFullName  \\\n",
       "0             7777              SCH4       SQUIBB HC OINT 1% 50G 1    \n",
       "1             9276              ZA13           ZANTAC TAB 300MG 30    \n",
       "2             5465             MIXT1             THE MIXTURE   200    \n",
       "3            12555            METO45  METOPROLOL (AN) TAB 100MG 60    \n",
       "4             7671              S/P2      S/P COLD & FLU TAB  24 24   \n",
       "\n",
       "         BrandName FormCode StrengthCode  PackSizeNumber  \\\n",
       "0        SQUIBB HC     OINT       1% 50G             1.0   \n",
       "1           ZANTAC      TAB        300MG            30.0   \n",
       "2      THE MIXTURE      NaN          NaN           200.0   \n",
       "3  METOPROLOL (AN)      TAB        100MG            60.0   \n",
       "4   S/P COLD & FLU      TAB          NaN            24.0   \n",
       "\n",
       "     GenericIngredientName EthicalSubCategoryName EthicalCategoryName  \\\n",
       "0   HYDROCORTISONE ACETATE  NON PBS Substitutable     ETHICAL NON PBS   \n",
       "1               RANITIDINE      PBS Substitutable         ETHICAL PBS   \n",
       "2           Not Applicable   Unknown Sub-Category     ETHICAL NON PBS   \n",
       "3      METOPROLOL TARTRATE            PBS Generic         ETHICAL PBS   \n",
       "4  PSEUDOEPHEDRINE + OTHER   Unknown Sub-Category     ETHICAL NON PBS   \n",
       "\n",
       "  ManufacturerCode           ManufacturerName  ManufacturerGroupID  \\\n",
       "0               BQ  BRISTOL-MYERS SQUIBB AUST                   43   \n",
       "1               AS  ASPEN PHARMACARE AUSTRALI                   23   \n",
       "2              NaN             Not Applicable                   -1   \n",
       "3               EA  AMNEAL PHARMACEUTICALS PT                  268   \n",
       "4              NaN             Not Applicable                   -1   \n",
       "\n",
       "       ManufacturerGroupCode  ChemistListPrice ATCLevel5Code ATCLevel4Code  \\\n",
       "0                        BMS            1.8609         A07EA         A07EA   \n",
       "1                      ASPEN            6.1300       A02BA02         A02BA   \n",
       "2             Not Applicable            8.6174           NaN           NaN   \n",
       "3  AMNEAL PHARMACEUTICALS PT            2.4200       C07AB02         C07AB   \n",
       "4             Not Applicable            0.0000           NaN           NaN   \n",
       "\n",
       "  ATCLevel3Code ATCLevel2Code ATCLevel1Code  \n",
       "0          A07E           A07             A  \n",
       "1          A02B           A02             A  \n",
       "2           NaN           NaN           NaN  \n",
       "3          C07A           C07             C  \n",
       "4           NaN           NaN           NaN  "
      ]
     },
     "execution_count": 27,
     "metadata": {},
     "output_type": "execute_result"
    }
   ],
   "source": [
    "drugs = pd.read_csv(LOOKUPS + '/Drug_LookUp.txt', sep='\\t')\n",
    "drugs.head()"
   ]
  },
  {
   "cell_type": "code",
   "execution_count": 30,
   "metadata": {
    "collapsed": false,
    "deletable": true,
    "editable": true
   },
   "outputs": [
    {
     "data": {
      "text/html": [
       "<div>\n",
       "<table border=\"1\" class=\"dataframe\">\n",
       "  <thead>\n",
       "    <tr style=\"text-align: right;\">\n",
       "      <th></th>\n",
       "      <th>ChronicIllness</th>\n",
       "      <th>MasterProductID</th>\n",
       "      <th>MasterProductFullName</th>\n",
       "    </tr>\n",
       "  </thead>\n",
       "  <tbody>\n",
       "    <tr>\n",
       "      <th>0</th>\n",
       "      <td>Diabetes</td>\n",
       "      <td>141</td>\n",
       "      <td>ACTOS TAB 30MG (AS HCL) 28</td>\n",
       "    </tr>\n",
       "    <tr>\n",
       "      <th>1</th>\n",
       "      <td>Diabetes</td>\n",
       "      <td>142</td>\n",
       "      <td>ACTOS TAB 45MG (AS HCL) 28</td>\n",
       "    </tr>\n",
       "    <tr>\n",
       "      <th>2</th>\n",
       "      <td>Osteoporosis</td>\n",
       "      <td>146</td>\n",
       "      <td>ACTONEL ONCE-A-MONTH TAB 150MG 1</td>\n",
       "    </tr>\n",
       "    <tr>\n",
       "      <th>3</th>\n",
       "      <td>Osteoporosis</td>\n",
       "      <td>267</td>\n",
       "      <td>ALENDROBELL TAB 70MG 4</td>\n",
       "    </tr>\n",
       "    <tr>\n",
       "      <th>4</th>\n",
       "      <td>Osteoporosis</td>\n",
       "      <td>269</td>\n",
       "      <td>ALENDRONATE (GA) TAB 70MG 4</td>\n",
       "    </tr>\n",
       "  </tbody>\n",
       "</table>\n",
       "</div>"
      ],
      "text/plain": [
       "  ChronicIllness  MasterProductID              MasterProductFullName\n",
       "0       Diabetes              141        ACTOS TAB 30MG (AS HCL) 28 \n",
       "1       Diabetes              142        ACTOS TAB 45MG (AS HCL) 28 \n",
       "2   Osteoporosis              146  ACTONEL ONCE-A-MONTH TAB 150MG 1 \n",
       "3   Osteoporosis              267            ALENDROBELL TAB 70MG 4 \n",
       "4   Osteoporosis              269       ALENDRONATE (GA) TAB 70MG 4 "
      ]
     },
     "execution_count": 30,
     "metadata": {},
     "output_type": "execute_result"
    }
   ],
   "source": [
    "illness = pd.read_csv(LOOKUPS + '/ChronicIllness_LookUp.txt', sep='\\t')\n",
    "illness.head()"
   ]
  },
  {
   "cell_type": "code",
   "execution_count": 31,
   "metadata": {
    "collapsed": false,
    "deletable": true,
    "editable": true
   },
   "outputs": [
    {
     "data": {
      "text/html": [
       "<div>\n",
       "<table border=\"1\" class=\"dataframe\">\n",
       "  <thead>\n",
       "    <tr style=\"text-align: right;\">\n",
       "      <th></th>\n",
       "      <th>ATCLevel1Code</th>\n",
       "      <th>ATCLevel1Name</th>\n",
       "      <th>ATCLevel2Code</th>\n",
       "      <th>ATCLevel2Name</th>\n",
       "      <th>ATCLevel3Code</th>\n",
       "      <th>ATCLevel3Name</th>\n",
       "      <th>ATCLevel4Code</th>\n",
       "      <th>ATCLevel4Name</th>\n",
       "      <th>ATCLevel5Code</th>\n",
       "      <th>ATCLevel5Name</th>\n",
       "    </tr>\n",
       "  </thead>\n",
       "  <tbody>\n",
       "    <tr>\n",
       "      <th>0</th>\n",
       "      <td>A</td>\n",
       "      <td>ALIMENTARY TRACT AND METABOLISM</td>\n",
       "      <td>A01</td>\n",
       "      <td>STOMATOLOGICAL PREPARATIONS</td>\n",
       "      <td>A01A</td>\n",
       "      <td>STOMATOLOGICAL PREPARATIONS</td>\n",
       "      <td>A01AB</td>\n",
       "      <td>ANTIINFECTIVES AND ANTISEPTICS FOR LOCAL ORAL ...</td>\n",
       "      <td>A01AB03</td>\n",
       "      <td>CHLORHEXIDINE</td>\n",
       "    </tr>\n",
       "    <tr>\n",
       "      <th>1</th>\n",
       "      <td>A</td>\n",
       "      <td>ALIMENTARY TRACT AND METABOLISM</td>\n",
       "      <td>A01</td>\n",
       "      <td>STOMATOLOGICAL PREPARATIONS</td>\n",
       "      <td>A01A</td>\n",
       "      <td>STOMATOLOGICAL PREPARATIONS</td>\n",
       "      <td>A01AB</td>\n",
       "      <td>ANTIINFECTIVES AND ANTISEPTICS FOR LOCAL ORAL ...</td>\n",
       "      <td>A01AB04</td>\n",
       "      <td>AMPHOTERICIN B</td>\n",
       "    </tr>\n",
       "    <tr>\n",
       "      <th>2</th>\n",
       "      <td>A</td>\n",
       "      <td>ALIMENTARY TRACT AND METABOLISM</td>\n",
       "      <td>A01</td>\n",
       "      <td>STOMATOLOGICAL PREPARATIONS</td>\n",
       "      <td>A01A</td>\n",
       "      <td>STOMATOLOGICAL PREPARATIONS</td>\n",
       "      <td>A01AB</td>\n",
       "      <td>ANTIINFECTIVES AND ANTISEPTICS FOR LOCAL ORAL ...</td>\n",
       "      <td>A01AB08</td>\n",
       "      <td>NEOMYCIN</td>\n",
       "    </tr>\n",
       "    <tr>\n",
       "      <th>3</th>\n",
       "      <td>A</td>\n",
       "      <td>ALIMENTARY TRACT AND METABOLISM</td>\n",
       "      <td>A01</td>\n",
       "      <td>STOMATOLOGICAL PREPARATIONS</td>\n",
       "      <td>A01A</td>\n",
       "      <td>STOMATOLOGICAL PREPARATIONS</td>\n",
       "      <td>A01AB</td>\n",
       "      <td>ANTIINFECTIVES AND ANTISEPTICS FOR LOCAL ORAL ...</td>\n",
       "      <td>A01AB11</td>\n",
       "      <td>VARIOUS</td>\n",
       "    </tr>\n",
       "    <tr>\n",
       "      <th>4</th>\n",
       "      <td>A</td>\n",
       "      <td>ALIMENTARY TRACT AND METABOLISM</td>\n",
       "      <td>A01</td>\n",
       "      <td>STOMATOLOGICAL PREPARATIONS</td>\n",
       "      <td>A01A</td>\n",
       "      <td>STOMATOLOGICAL PREPARATIONS</td>\n",
       "      <td>A01AC</td>\n",
       "      <td>CORTICOSTEROIDS FOR LOCAL ORAL TREATMENT</td>\n",
       "      <td>A01AC03</td>\n",
       "      <td>HYDROCORTISONE</td>\n",
       "    </tr>\n",
       "  </tbody>\n",
       "</table>\n",
       "</div>"
      ],
      "text/plain": [
       "  ATCLevel1Code                    ATCLevel1Name ATCLevel2Code  \\\n",
       "0             A  ALIMENTARY TRACT AND METABOLISM           A01   \n",
       "1             A  ALIMENTARY TRACT AND METABOLISM           A01   \n",
       "2             A  ALIMENTARY TRACT AND METABOLISM           A01   \n",
       "3             A  ALIMENTARY TRACT AND METABOLISM           A01   \n",
       "4             A  ALIMENTARY TRACT AND METABOLISM           A01   \n",
       "\n",
       "                 ATCLevel2Name ATCLevel3Code                ATCLevel3Name  \\\n",
       "0  STOMATOLOGICAL PREPARATIONS          A01A  STOMATOLOGICAL PREPARATIONS   \n",
       "1  STOMATOLOGICAL PREPARATIONS          A01A  STOMATOLOGICAL PREPARATIONS   \n",
       "2  STOMATOLOGICAL PREPARATIONS          A01A  STOMATOLOGICAL PREPARATIONS   \n",
       "3  STOMATOLOGICAL PREPARATIONS          A01A  STOMATOLOGICAL PREPARATIONS   \n",
       "4  STOMATOLOGICAL PREPARATIONS          A01A  STOMATOLOGICAL PREPARATIONS   \n",
       "\n",
       "  ATCLevel4Code                                      ATCLevel4Name  \\\n",
       "0         A01AB  ANTIINFECTIVES AND ANTISEPTICS FOR LOCAL ORAL ...   \n",
       "1         A01AB  ANTIINFECTIVES AND ANTISEPTICS FOR LOCAL ORAL ...   \n",
       "2         A01AB  ANTIINFECTIVES AND ANTISEPTICS FOR LOCAL ORAL ...   \n",
       "3         A01AB  ANTIINFECTIVES AND ANTISEPTICS FOR LOCAL ORAL ...   \n",
       "4         A01AC           CORTICOSTEROIDS FOR LOCAL ORAL TREATMENT   \n",
       "\n",
       "  ATCLevel5Code   ATCLevel5Name  \n",
       "0       A01AB03   CHLORHEXIDINE  \n",
       "1       A01AB04  AMPHOTERICIN B  \n",
       "2       A01AB08        NEOMYCIN  \n",
       "3       A01AB11         VARIOUS  \n",
       "4       A01AC03  HYDROCORTISONE  "
      ]
     },
     "execution_count": 31,
     "metadata": {},
     "output_type": "execute_result"
    }
   ],
   "source": [
    "atc = pd.read_csv(LOOKUPS + '/ATC_LookUp.txt', sep='\\t')\n",
    "atc.head()"
   ]
  },
  {
   "cell_type": "code",
   "execution_count": null,
   "metadata": {
    "collapsed": true,
    "deletable": true,
    "editable": true
   },
   "outputs": [],
   "source": []
  }
 ],
 "metadata": {
  "hide_input": false,
  "kernelspec": {
   "display_name": "Python 3",
   "language": "python",
   "name": "python3"
  },
  "language_info": {
   "codemirror_mode": {
    "name": "ipython",
    "version": 3
   },
   "file_extension": ".py",
   "mimetype": "text/x-python",
   "name": "python",
   "nbconvert_exporter": "python",
   "pygments_lexer": "ipython3",
   "version": "3.6.0"
  },
  "nav_menu": {},
  "toc": {
   "navigate_menu": true,
   "number_sections": true,
   "sideBar": true,
   "threshold": 6,
   "toc_cell": false,
   "toc_section_display": "block",
   "toc_window_display": false
  }
 },
 "nbformat": 4,
 "nbformat_minor": 2
}
