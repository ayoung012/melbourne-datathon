{
 "cells": [
  {
   "cell_type": "code",
   "execution_count": 1,
   "metadata": {
    "collapsed": true
   },
   "outputs": [],
   "source": [
    "import numpy\n",
    "import os\n",
    "import pandas as pd\n",
    "import tables  # This will fail if you don't have 'pytables' installed to read the cache file\n",
    "\n",
    "import dask.dataframe as dd\n",
    "\n",
    "import sklearn.ensemble"
   ]
  },
  {
   "cell_type": "code",
   "execution_count": 2,
   "metadata": {
    "collapsed": true
   },
   "outputs": [],
   "source": [
    "DATA_DIR = '../../data'\n",
    "RAW_DATA_DIR = DATA_DIR + '/raw'\n",
    "LOOKUPS = RAW_DATA_DIR + \"/Lookups\"\n",
    "TRANSACT = RAW_DATA_DIR + \"/Transactions\"\n",
    "\n",
    "SUBSET_FILE = DATA_DIR + '/' + 'subset.hdf'\n",
    "THINNED_FILE = DATA_DIR + '/' + 'thinned.hdf'"
   ]
  },
  {
   "cell_type": "code",
   "execution_count": 3,
   "metadata": {
    "collapsed": true
   },
   "outputs": [],
   "source": [
    "files = os.listdir(TRANSACT)"
   ]
  },
  {
   "cell_type": "code",
   "execution_count": 4,
   "metadata": {
    "collapsed": true
   },
   "outputs": [],
   "source": [
    "stores = pd.read_csv(LOOKUPS + '/stores.txt', sep='\\t')\n",
    "drugs = pd.read_csv(LOOKUPS + '/Drug_LookUp.txt', sep='\\t')\n",
    "illness = pd.read_csv(LOOKUPS + '/ChronicIllness_LookUp.txt', sep='\\t')\n",
    "patients = pd.read_csv(LOOKUPS + '/patients.txt', sep='\\t')\n",
    "atc = pd.read_csv(LOOKUPS + '/ATC_LookUp.txt', sep='\\t')"
   ]
  },
  {
   "cell_type": "code",
   "execution_count": 5,
   "metadata": {
    "collapsed": true
   },
   "outputs": [],
   "source": [
    "t1 = illness.merge(drugs, on='MasterProductID', how='outer')"
   ]
  },
  {
   "cell_type": "code",
   "execution_count": 6,
   "metadata": {
    "collapsed": true
   },
   "outputs": [],
   "source": [
    "def get_subset(frac=0.1):\n",
    "    samples = []\n",
    "    for file in files:\n",
    "        df = pd.read_csv(TRANSACT + '/' + file, sep='\\t')\n",
    "        sample = df.sample(frac=frac)\n",
    "        samples.append(sample)\n",
    "\n",
    "    return pd.concat(samples)"
   ]
  },
  {
   "cell_type": "code",
   "execution_count": 7,
   "metadata": {
    "collapsed": true
   },
   "outputs": [],
   "source": [
    "def expand_subset(subset):\n",
    "    subset = subset.merge(t1, left_on='Drug_ID', right_on='MasterProductID', suffixes=('_illness', '_drug'), how='outer')    \n",
    "    subset = subset.merge(patients, on='Patient_ID', how='outer')\n",
    "    subset['target'] = subset['ChronicIllness'] == 'Diabetes'\n",
    "    \n",
    "    return subset"
   ]
  },
  {
   "cell_type": "code",
   "execution_count": 8,
   "metadata": {
    "collapsed": true
   },
   "outputs": [],
   "source": [
    "def get_subset_cached():\n",
    "    \n",
    "    if os.path.exists(SUBSET_FILE):\n",
    "        print(\"Using cached file\")\n",
    "        return pd.read_hdf(SUBSET_FILE, '/data')\n",
    "    \n",
    "    subset = get_subset()\n",
    "    subset = expand_subset(subset)\n",
    "    \n",
    "    subset.to_hdf(SUBSET_FILE, '/data')\n",
    "    return subset"
   ]
  },
  {
   "cell_type": "code",
   "execution_count": 9,
   "metadata": {
    "collapsed": true
   },
   "outputs": [],
   "source": [
    "def get_thinned_cached(subset=None):\n",
    "    \n",
    "    if os.path.exists(THINNED_FILE):\n",
    "        return pd.read_hdf(THINNED_FILE, '/data')\n",
    "    \n",
    "    if subset is None:\n",
    "        subset = get_subset_cached()\n",
    "        \n",
    "    relevant = [\n",
    "        'Patient_ID',\n",
    "        'Store_ID',\n",
    "        'Prescriber_ID',\n",
    "        'Drug_ID',\n",
    "        'Prescription_Week',\n",
    "        'Dispense_Week',\n",
    "        'Drug_Code',\n",
    "        'NHS_Code',\n",
    "        'PatientPrice_Amt', \n",
    "        'WholeSalePrice_Amt',\n",
    "        'GovernmentReclaim_Amt', \n",
    "        'StreamlinedApproval_Code', \n",
    "        'ChemistListPrice',\n",
    "        'gender', \n",
    "        'year_of_birth', \n",
    "        'postcode', \n",
    "        'target'                \n",
    "    ]\n",
    "    \n",
    "    thinned = subset[relevant]\n",
    "    \n",
    "    thinned.to_hdf(THINNED_FILE, '/data')\n",
    "    return thinned"
   ]
  },
  {
   "cell_type": "code",
   "execution_count": 10,
   "metadata": {
    "collapsed": true
   },
   "outputs": [],
   "source": [
    "#subset = get_subset_cached()"
   ]
  },
  {
   "cell_type": "code",
   "execution_count": 11,
   "metadata": {
    "collapsed": true
   },
   "outputs": [],
   "source": [
    "#subset.head()"
   ]
  },
  {
   "cell_type": "code",
   "execution_count": 12,
   "metadata": {
    "collapsed": true
   },
   "outputs": [],
   "source": [
    "thinned = get_thinned_cached()\n",
    "train_fields = ['year_of_birth', 'postcode', 'Store_ID', 'gender', 'PatientPrice_Amt', 'target']\n",
    "train = thinned[train_fields].copy()\n",
    "train['gender'] = train['gender'] == 'M'"
   ]
  },
  {
   "cell_type": "code",
   "execution_count": 13,
   "metadata": {},
   "outputs": [
    {
     "name": "stdout",
     "output_type": "stream",
     "text": [
      "0.9947759782137479\n"
     ]
    }
   ],
   "source": [
    "valid_ratio = len(train.dropna()) / len(train)\n",
    "print(str(valid_ratio))\n",
    "\n",
    "if valid_ratio > .95:\n",
    "    train = train.dropna()"
   ]
  },
  {
   "cell_type": "code",
   "execution_count": 14,
   "metadata": {
    "collapsed": true
   },
   "outputs": [],
   "source": [
    "def fixify(df):\n",
    "    \n",
    "    for col in df.columns:\n",
    "        df[col] = df[col].astype(numpy.float32)\n",
    "        \n",
    "    for col in df.columns:\n",
    "        try:\n",
    "            sklearn.utils.assert_all_finite(df[col])\n",
    "        except:\n",
    "            print(\"Problem is in %s\" % str(col))\n",
    "            raise"
   ]
  },
  {
   "cell_type": "code",
   "execution_count": 15,
   "metadata": {
    "collapsed": true
   },
   "outputs": [],
   "source": [
    "fixify(train)"
   ]
  },
  {
   "cell_type": "code",
   "execution_count": 16,
   "metadata": {
    "collapsed": true
   },
   "outputs": [],
   "source": [
    "rf = sklearn.ensemble.RandomForestRegressor(30)"
   ]
  },
  {
   "cell_type": "code",
   "execution_count": 17,
   "metadata": {},
   "outputs": [
    {
     "data": {
      "text/plain": [
       "RandomForestRegressor(bootstrap=True, criterion='mse', max_depth=None,\n",
       "           max_features='auto', max_leaf_nodes=None,\n",
       "           min_impurity_split=1e-07, min_samples_leaf=1,\n",
       "           min_samples_split=2, min_weight_fraction_leaf=0.0,\n",
       "           n_estimators=30, n_jobs=1, oob_score=False, random_state=None,\n",
       "           verbose=0, warm_start=False)"
      ]
     },
     "execution_count": 17,
     "metadata": {},
     "output_type": "execute_result"
    }
   ],
   "source": [
    "rf.fit(train[train_fields], train['target'])"
   ]
  },
  {
   "cell_type": "code",
   "execution_count": 35,
   "metadata": {},
   "outputs": [
    {
     "data": {
      "text/plain": [
       "1.0"
      ]
     },
     "execution_count": 35,
     "metadata": {},
     "output_type": "execute_result"
    }
   ],
   "source": [
    "rf.score(train[train_fields], train['target'])  # 1 is perfect"
   ]
  },
  {
   "cell_type": "code",
   "execution_count": 19,
   "metadata": {},
   "outputs": [
    {
     "name": "stdout",
     "output_type": "stream",
     "text": [
      "0.0606390320907\n"
     ]
    }
   ],
   "source": [
    "base_rate = sum(train['target']) / len(train)\n",
    "print(str(base_rate))"
   ]
  },
  {
   "cell_type": "code",
   "execution_count": 20,
   "metadata": {
    "collapsed": true
   },
   "outputs": [],
   "source": [
    "prediction = rf.predict(train[train_fields])\n",
    "truth = train['target']"
   ]
  },
  {
   "cell_type": "code",
   "execution_count": 21,
   "metadata": {
    "collapsed": true
   },
   "outputs": [],
   "source": [
    "indexes = list(train.index)"
   ]
  },
  {
   "cell_type": "code",
   "execution_count": 23,
   "metadata": {},
   "outputs": [
    {
     "name": "stderr",
     "output_type": "stream",
     "text": [
      "/Users/tjl/anaconda/envs/dthon/lib/python3.6/site-packages/matplotlib/font_manager.py:280: UserWarning: Matplotlib is building the font cache using fc-list. This may take a moment.\n",
      "  'Matplotlib is building the font cache using fc-list. '\n"
     ]
    }
   ],
   "source": [
    "import matplotlib.pyplot as plt\n",
    "%matplotlib inline"
   ]
  },
  {
   "cell_type": "code",
   "execution_count": 31,
   "metadata": {},
   "outputs": [
    {
     "data": {
      "image/png": "[encoded data removed]",
      "text/plain": [
       "<matplotlib.figure.Figure at 0x1455f9160>"
      ]
     },
     "metadata": {},
     "output_type": "display_data"
    }
   ],
   "source": [
    "plt.scatter(indexes[:1000], prediction[:1000], marker='^')\n",
    "plt.scatter(indexes[:1000], truth[:1000], marker='o')\n",
    "plt.show()"
   ]
  },
  {
   "cell_type": "code",
   "execution_count": 32,
   "metadata": {
    "collapsed": true
   },
   "outputs": [],
   "source": [
    "deltas = truth - prediction"
   ]
  },
  {
   "cell_type": "code",
   "execution_count": null,
   "metadata": {
    "collapsed": true
   },
   "outputs": [],
   "source": []
  }
 ],
 "metadata": {
  "kernelspec": {
   "display_name": "Python 3",
   "language": "python",
   "name": "python3"
  },
  "language_info": {
   "codemirror_mode": {
    "name": "ipython",
    "version": 3
   },
   "file_extension": ".py",
   "mimetype": "text/x-python",
   "name": "python",
   "nbconvert_exporter": "python",
   "pygments_lexer": "ipython3",
   "version": "3.6.1"
  }
 },
 "nbformat": 4,
 "nbformat_minor": 2
}
