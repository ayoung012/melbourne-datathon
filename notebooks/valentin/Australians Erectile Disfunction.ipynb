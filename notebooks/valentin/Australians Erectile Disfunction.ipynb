{
 "cells": [
  {
   "cell_type": "code",
   "execution_count": 1,
   "metadata": {
    "collapsed": true
   },
   "outputs": [],
   "source": [
    "%matplotlib inline\n",
    "import os\n",
    "import imp\n",
    "import warnings\n",
    "from multiprocessing import Pool\n",
    "\n",
    "import numpy as np\n",
    "import pandas as pd\n",
    "import matplotlib.pyplot as pl\n",
    "from mpl_toolkits.basemap import Basemap\n",
    "\n",
    "warnings.simplefilter('ignore')"
   ]
  },
  {
   "cell_type": "code",
   "execution_count": 3,
   "metadata": {
    "collapsed": true
   },
   "outputs": [],
   "source": [
    "# Path to the root directory of MelbDatathon2017. \n",
    "data_dir = os.path.join(os.path.expanduser('~'), 'MelbDatathon2017')"
   ]
  },
  {
   "cell_type": "code",
   "execution_count": 4,
   "metadata": {},
   "outputs": [
    {
     "name": "stdout",
     "output_type": "stream",
     "text": [
      "/Users/lvalenti/MelbDatathon2017/Transactions.h5\n",
      "/Users/lvalenti/MelbDatathon2017/Lookups/ATC_LookUp.txt\n",
      "/Users/lvalenti/MelbDatathon2017/Lookups/ChronicIllness_LookUp.txt\n",
      "/Users/lvalenti/MelbDatathon2017/Lookups/Drug_LookUp.txt\n",
      "/Users/lvalenti/MelbDatathon2017/Lookups/patients.txt\n",
      "/Users/lvalenti/MelbDatathon2017/Lookups/stores.txt\n"
     ]
    }
   ],
   "source": [
    "fd_trans = os.path.join(data_dir, \"Transactions.h5\")\n",
    "print(fd_trans)\n",
    "\n",
    "fd_atc = os.path.join(data_dir, \"Lookups\", \"ATC_LookUp.txt\")\n",
    "print(fd_atc)\n",
    "\n",
    "fd_ci = os.path.join(data_dir, \"Lookups\", \"ChronicIllness_LookUp.txt\")\n",
    "print(fd_ci)\n",
    "\n",
    "fd_drugs = os.path.join(data_dir, \"Lookups\", \"Drug_LookUp.txt\")\n",
    "print(fd_drugs)\n",
    "\n",
    "fd_patients = os.path.join(data_dir, \"Lookups\", \"patients.txt\")\n",
    "print(fd_patients)\n",
    "\n",
    "fd_stores = os.path.join(data_dir, \"Lookups\", \"stores.txt\")\n",
    "print(fd_stores)"
   ]
  },
  {
   "cell_type": "code",
   "execution_count": 5,
   "metadata": {},
   "outputs": [],
   "source": [
    "postcode_lookup = pd.read_csv(os.path.join(data_dir, 'Extra', \"Australian_Post_Codes_Lat_Lon.csv\"), index_col=0)\n",
    "\n",
    "def get_latlon(postcode):\n",
    "    \"\"\"\n",
    "    The same postcode can be used for multiple localities, so we need to check.\n",
    "    \"\"\"\n",
    "    try:\n",
    "        rslt = postcode_lookup.xs(postcode)\n",
    "    except KeyError:\n",
    "        print(\"Postcode {} not found\".format(postcode))\n",
    "        return None, None\n",
    "    \n",
    "    if np.isscalar(rslt.lat):\n",
    "        lat = rslt.lat\n",
    "        lon = rslt.lon\n",
    "    else:\n",
    "        lat = rslt.lat.iloc[0]\n",
    "        lon = rslt.lon.iloc[0]\n",
    "        \n",
    "    return lat, lon"
   ]
  },
  {
   "cell_type": "code",
   "execution_count": 6,
   "metadata": {
    "collapsed": true
   },
   "outputs": [],
   "source": [
    "# Main dataframe, takes a bit of time to load.\n",
    "# I have merged all patients file into a single hdf file.\n",
    "datafr = pd.read_hdf(fd_trans)"
   ]
  },
  {
   "cell_type": "code",
   "execution_count": 7,
   "metadata": {
    "collapsed": true
   },
   "outputs": [],
   "source": [
    "# All the lookup tables.\n",
    "stores_frame = pd.read_csv(fd_stores, sep=\"\\t\", index_col=0)\n",
    "patient_frame = pd.read_csv(fd_patients, sep=\"\\t\", na_values=1900, index_col=0, dtype={'Patient_id':int, 'gender':str, 'postcode':int})\n",
    "drug_frame = pd.read_csv(fd_drugs, sep=\"\\t\", index_col=0)"
   ]
  },
  {
   "cell_type": "code",
   "execution_count": 8,
   "metadata": {},
   "outputs": [
    {
     "data": {
      "text/html": [
       "<div>\n",
       "<table border=\"1\" class=\"dataframe\">\n",
       "  <thead>\n",
       "    <tr style=\"text-align: right;\">\n",
       "      <th></th>\n",
       "      <th>MasterProductCode</th>\n",
       "      <th>MasterProductFullName</th>\n",
       "      <th>BrandName</th>\n",
       "      <th>FormCode</th>\n",
       "      <th>StrengthCode</th>\n",
       "      <th>PackSizeNumber</th>\n",
       "      <th>GenericIngredientName</th>\n",
       "      <th>EthicalSubCategoryName</th>\n",
       "      <th>EthicalCategoryName</th>\n",
       "      <th>ManufacturerCode</th>\n",
       "      <th>ManufacturerName</th>\n",
       "      <th>ManufacturerGroupID</th>\n",
       "      <th>ManufacturerGroupCode</th>\n",
       "      <th>ChemistListPrice</th>\n",
       "      <th>ATCLevel5Code</th>\n",
       "      <th>ATCLevel4Code</th>\n",
       "      <th>ATCLevel3Code</th>\n",
       "      <th>ATCLevel2Code</th>\n",
       "      <th>ATCLevel1Code</th>\n",
       "    </tr>\n",
       "    <tr>\n",
       "      <th>MasterProductID</th>\n",
       "      <th></th>\n",
       "      <th></th>\n",
       "      <th></th>\n",
       "      <th></th>\n",
       "      <th></th>\n",
       "      <th></th>\n",
       "      <th></th>\n",
       "      <th></th>\n",
       "      <th></th>\n",
       "      <th></th>\n",
       "      <th></th>\n",
       "      <th></th>\n",
       "      <th></th>\n",
       "      <th></th>\n",
       "      <th></th>\n",
       "      <th></th>\n",
       "      <th></th>\n",
       "      <th></th>\n",
       "      <th></th>\n",
       "    </tr>\n",
       "  </thead>\n",
       "  <tbody>\n",
       "    <tr>\n",
       "      <th>9039</th>\n",
       "      <td>VIAG2</td>\n",
       "      <td>VIAGRA TAB 50MG 4</td>\n",
       "      <td>VIAGRA</td>\n",
       "      <td>TAB</td>\n",
       "      <td>50MG</td>\n",
       "      <td>4.0</td>\n",
       "      <td>SILDENAFIL</td>\n",
       "      <td>NON PBS Substitutable</td>\n",
       "      <td>ETHICAL NON PBS</td>\n",
       "      <td>PF</td>\n",
       "      <td>PFIZER AUSTRALIA PTY LTD</td>\n",
       "      <td>192</td>\n",
       "      <td>PFIZER</td>\n",
       "      <td>66.60</td>\n",
       "      <td>G04BE03</td>\n",
       "      <td>G04BE</td>\n",
       "      <td>G04B</td>\n",
       "      <td>G04</td>\n",
       "      <td>G</td>\n",
       "    </tr>\n",
       "    <tr>\n",
       "      <th>9038</th>\n",
       "      <td>VIAG1</td>\n",
       "      <td>VIAGRA TAB 25MG 4</td>\n",
       "      <td>VIAGRA</td>\n",
       "      <td>TAB</td>\n",
       "      <td>25MG</td>\n",
       "      <td>4.0</td>\n",
       "      <td>SILDENAFIL</td>\n",
       "      <td>NON PBS Substitutable</td>\n",
       "      <td>ETHICAL NON PBS</td>\n",
       "      <td>PF</td>\n",
       "      <td>PFIZER AUSTRALIA PTY LTD</td>\n",
       "      <td>192</td>\n",
       "      <td>PFIZER</td>\n",
       "      <td>52.32</td>\n",
       "      <td>G04BE03</td>\n",
       "      <td>G04BE</td>\n",
       "      <td>G04B</td>\n",
       "      <td>G04</td>\n",
       "      <td>G</td>\n",
       "    </tr>\n",
       "    <tr>\n",
       "      <th>9040</th>\n",
       "      <td>VIAG3</td>\n",
       "      <td>VIAGRA TAB 100MG 4 4</td>\n",
       "      <td>VIAGRA</td>\n",
       "      <td>TAB</td>\n",
       "      <td>100MG</td>\n",
       "      <td>4.0</td>\n",
       "      <td>SILDENAFIL</td>\n",
       "      <td>NON PBS Substitutable</td>\n",
       "      <td>ETHICAL NON PBS</td>\n",
       "      <td>PF</td>\n",
       "      <td>PFIZER AUSTRALIA PTY LTD</td>\n",
       "      <td>192</td>\n",
       "      <td>PFIZER</td>\n",
       "      <td>72.04</td>\n",
       "      <td>G04BE03</td>\n",
       "      <td>G04BE</td>\n",
       "      <td>G04B</td>\n",
       "      <td>G04</td>\n",
       "      <td>G</td>\n",
       "    </tr>\n",
       "    <tr>\n",
       "      <th>9041</th>\n",
       "      <td>VIAG4</td>\n",
       "      <td>VIAGRA TAB 100MG 12 12</td>\n",
       "      <td>VIAGRA</td>\n",
       "      <td>TAB</td>\n",
       "      <td>100MG</td>\n",
       "      <td>12.0</td>\n",
       "      <td>SILDENAFIL</td>\n",
       "      <td>NON PBS Substitutable</td>\n",
       "      <td>ETHICAL NON PBS</td>\n",
       "      <td>PF</td>\n",
       "      <td>PFIZER AUSTRALIA PTY LTD</td>\n",
       "      <td>192</td>\n",
       "      <td>PFIZER</td>\n",
       "      <td>160.00</td>\n",
       "      <td>G04BE03</td>\n",
       "      <td>G04BE</td>\n",
       "      <td>G04B</td>\n",
       "      <td>G04</td>\n",
       "      <td>G</td>\n",
       "    </tr>\n",
       "  </tbody>\n",
       "</table>\n",
       "</div>"
      ],
      "text/plain": [
       "                MasterProductCode   MasterProductFullName BrandName FormCode  \\\n",
       "MasterProductID                                                                \n",
       "9039                        VIAG2      VIAGRA TAB 50MG 4     VIAGRA      TAB   \n",
       "9038                        VIAG1      VIAGRA TAB 25MG 4     VIAGRA      TAB   \n",
       "9040                        VIAG3    VIAGRA TAB 100MG 4 4    VIAGRA      TAB   \n",
       "9041                        VIAG4  VIAGRA TAB 100MG 12 12    VIAGRA      TAB   \n",
       "\n",
       "                StrengthCode  PackSizeNumber GenericIngredientName  \\\n",
       "MasterProductID                                                      \n",
       "9039                    50MG             4.0            SILDENAFIL   \n",
       "9038                    25MG             4.0            SILDENAFIL   \n",
       "9040                   100MG             4.0            SILDENAFIL   \n",
       "9041                   100MG            12.0            SILDENAFIL   \n",
       "\n",
       "                EthicalSubCategoryName EthicalCategoryName ManufacturerCode  \\\n",
       "MasterProductID                                                               \n",
       "9039             NON PBS Substitutable     ETHICAL NON PBS               PF   \n",
       "9038             NON PBS Substitutable     ETHICAL NON PBS               PF   \n",
       "9040             NON PBS Substitutable     ETHICAL NON PBS               PF   \n",
       "9041             NON PBS Substitutable     ETHICAL NON PBS               PF   \n",
       "\n",
       "                         ManufacturerName  ManufacturerGroupID  \\\n",
       "MasterProductID                                                  \n",
       "9039             PFIZER AUSTRALIA PTY LTD                  192   \n",
       "9038             PFIZER AUSTRALIA PTY LTD                  192   \n",
       "9040             PFIZER AUSTRALIA PTY LTD                  192   \n",
       "9041             PFIZER AUSTRALIA PTY LTD                  192   \n",
       "\n",
       "                ManufacturerGroupCode  ChemistListPrice ATCLevel5Code  \\\n",
       "MasterProductID                                                         \n",
       "9039                           PFIZER             66.60       G04BE03   \n",
       "9038                           PFIZER             52.32       G04BE03   \n",
       "9040                           PFIZER             72.04       G04BE03   \n",
       "9041                           PFIZER            160.00       G04BE03   \n",
       "\n",
       "                ATCLevel4Code ATCLevel3Code ATCLevel2Code ATCLevel1Code  \n",
       "MasterProductID                                                          \n",
       "9039                    G04BE          G04B           G04             G  \n",
       "9038                    G04BE          G04B           G04             G  \n",
       "9040                    G04BE          G04B           G04             G  \n",
       "9041                    G04BE          G04B           G04             G  "
      ]
     },
     "execution_count": 8,
     "metadata": {},
     "output_type": "execute_result"
    }
   ],
   "source": [
    "# This one is gonna be fun!\n",
    "drug_frame[drug_frame.BrandName == 'VIAGRA']"
   ]
  },
  {
   "cell_type": "code",
   "execution_count": 9,
   "metadata": {
    "collapsed": true
   },
   "outputs": [],
   "source": [
    "# The Generic name and the brand name gives the same results.\n",
    "# viagra_index = drug_frame[drug_frame.GenericIngredientName == 'SILDENAFIL'].index\n",
    "viagra_index = drug_frame[drug_frame.BrandName == 'VIAGRA'].index"
   ]
  },
  {
   "cell_type": "code",
   "execution_count": 10,
   "metadata": {},
   "outputs": [],
   "source": [
    "viagra_patients = datafr.xs(viagra_index[0], level='Drug_ID')\n",
    "for viagra_slice in viagra_index[1:]:\n",
    "    try:\n",
    "        viagra_patients.append(datafr.xs(viagra_slice, level='Drug_ID'))\n",
    "    except KeyError:\n",
    "        print('Drug ID not found in database: ', viagra_slice)"
   ]
  },
  {
   "cell_type": "code",
   "execution_count": 11,
   "metadata": {},
   "outputs": [],
   "source": [
    "# Adding info from the patients lookup table into the main db.\n",
    "viagra = viagra_patients.combine_first(patient_frame)"
   ]
  },
  {
   "cell_type": "code",
   "execution_count": 13,
   "metadata": {},
   "outputs": [],
   "source": [
    "# freq = viagra.postcode.value_counts()\n",
    "# freq_postcode = np.array(freq.index.astype(int))\n",
    "# freq_cnt = np.array(freq)"
   ]
  },
  {
   "cell_type": "code",
   "execution_count": 146,
   "metadata": {},
   "outputs": [
    {
     "data": {
      "text/plain": [
       "MasterProductID\n",
       "9039    VIAG2\n",
       "9038    VIAG1\n",
       "9040    VIAG3\n",
       "9041    VIAG4\n",
       "Name: MasterProductCode, dtype: object"
      ]
     },
     "execution_count": 146,
     "metadata": {},
     "output_type": "execute_result"
    }
   ],
   "source": [
    "drug_frame[drug_frame.MasterProductCode.str.contains('VIAG')].MasterProductCode"
   ]
  },
  {
   "cell_type": "code",
   "execution_count": 29,
   "metadata": {},
   "outputs": [
    {
     "data": {
      "text/plain": [
       "MasterProductID\n",
       "9039     4.0\n",
       "9038     4.0\n",
       "9040     4.0\n",
       "9041    12.0\n",
       "Name: PackSizeNumber, dtype: float64"
      ]
     },
     "execution_count": 29,
     "metadata": {},
     "output_type": "execute_result"
    }
   ],
   "source": [
    "# I want to determine the average price for one pill.\n",
    "drug_frame[drug_frame.MasterProductCode.str.contains('VIAG')].PackSizeNumber"
   ]
  },
  {
   "cell_type": "code",
   "execution_count": 30,
   "metadata": {},
   "outputs": [
    {
     "data": {
      "text/plain": [
       "MasterProductID\n",
       "9039     50MG\n",
       "9038     25MG\n",
       "9040    100MG\n",
       "9041    100MG\n",
       "Name: StrengthCode, dtype: object"
      ]
     },
     "execution_count": 30,
     "metadata": {},
     "output_type": "execute_result"
    }
   ],
   "source": [
    "# For a further study, the average price by grams.\n",
    "drug_frame[drug_frame.MasterProductCode.str.contains('VIAG')].StrengthCode"
   ]
  },
  {
   "cell_type": "code",
   "execution_count": 147,
   "metadata": {},
   "outputs": [],
   "source": [
    "# Lets create a new lookup table containting the nb of pills for each different viagra box.\n",
    "nw_lt = pd.DataFrame({'Drug_Code':['VIAG1', 'VIAG2', 'VIAG3', 'VIAG4'], 'qtt': [4, 8, 16, 120]}).set_index('Drug_Code')"
   ]
  },
  {
   "cell_type": "code",
   "execution_count": 148,
   "metadata": {},
   "outputs": [],
   "source": [
    "# Lets combine this new lookup table with the actual viagra transaction frame.\n",
    "new_viagra = viagra.reset_index().set_index(['Drug_Code']).combine_first(nw_lt).set_index('Patient_ID')"
   ]
  },
  {
   "cell_type": "code",
   "execution_count": 149,
   "metadata": {},
   "outputs": [],
   "source": [
    "# Getting rid of all annoying values\n",
    "new_viagra.PatientPrice_Amt[new_viagra.PatientPrice_Amt == 0] = np.NaN  # Ain't gonna get it for free!!!\n",
    "new_viagra = new_viagra[~np.isnan(new_viagra.qtt) & ~np.isnan(new_viagra.PatientPrice_Amt)]"
   ]
  },
  {
   "cell_type": "code",
   "execution_count": 150,
   "metadata": {
    "scrolled": true
   },
   "outputs": [],
   "source": [
    "# Creating a new column for the price of one unit, i.e. one pill.\n",
    "new_viagra['unit_price'] = new_viagra.PatientPrice_Amt / new_viagra.qtt"
   ]
  },
  {
   "cell_type": "code",
   "execution_count": 151,
   "metadata": {},
   "outputs": [],
   "source": [
    "# Grouping the info by post codes.\n",
    "viagra_price = new_viagra.groupby('postcode').mean().unit_price"
   ]
  },
  {
   "cell_type": "code",
   "execution_count": 152,
   "metadata": {},
   "outputs": [
    {
     "name": "stdout",
     "output_type": "stream",
     "text": [
      "Viagra pill maximum price: 30.1315340909\n",
      "Viagra pill minimum price: 0.65\n",
      "Viagra pill average price: 6.15196410589\n"
     ]
    }
   ],
   "source": [
    "# Extracting the postcode and the price.\n",
    "vg_pt_code = np.array(viagra_price.index.astype(int))\n",
    "vg_pt_price = np.array(viagra_price)\n",
    "\n",
    "print('Viagra pill maximum price:', vg_pt_price.max())\n",
    "print('Viagra pill minimum price:', vg_pt_price.min())\n",
    "print('Viagra pill average price:', vg_pt_price.mean())"
   ]
  },
  {
   "cell_type": "code",
   "execution_count": 153,
   "metadata": {
    "collapsed": true
   },
   "outputs": [],
   "source": [
    "# GObtaining the lat lon information of each patients.\n",
    "postcode_viagra = new_viagra.postcode.unique().astype(int)\n",
    "viagra_latlon = [get_latlon(ps) for ps in postcode_viagra]\n",
    "\n",
    "lat, lon = zip(*viagra_latlon)\n",
    "lat = np.array(lat, dtype=float)\n",
    "lon = np.array(lon, dtype=float)"
   ]
  },
  {
   "cell_type": "markdown",
   "metadata": {},
   "source": [
    "# Viagra price around the country"
   ]
  },
  {
   "cell_type": "code",
   "execution_count": 156,
   "metadata": {},
   "outputs": [
    {
     "data": {
      "image/png": "[encoded data removed]",
      "text/plain": [
       "<matplotlib.figure.Figure at 0x13ffd3e80>"
      ]
     },
     "metadata": {},
     "output_type": "display_data"
    }
   ],
   "source": [
    "m = Basemap(llcrnrlon=110, llcrnrlat=-45, urcrnrlon=155, urcrnrlat=-5, projection='merc', resolution='l')\n",
    "x, y = m(lon, lat)\n",
    "fig, ax0 = pl.subplots(1, 1, figsize=(15, 6))\n",
    "h0 = m.scatter(x, y, vg_pt_price, vg_pt_price, ax=ax0, cmap='jet', vmin=0, vmax=20, alpha=0.5)\n",
    "m.drawcoastlines()\n",
    "ax0.set_title('Average price of viagra around the country')\n",
    "pl.colorbar(h0, ax=ax0)\n",
    "pl.show()"
   ]
  },
  {
   "cell_type": "code",
   "execution_count": 157,
   "metadata": {},
   "outputs": [
    {
     "data": {
      "image/png": "[encoded data removed]",
      "text/plain": [
       "<matplotlib.figure.Figure at 0x1401e3588>"
      ]
     },
     "metadata": {},
     "output_type": "display_data"
    }
   ],
   "source": [
    "m = Basemap(llcrnrlon=144, llcrnrlat=-39, urcrnrlon=146, urcrnrlat=-37, projection='merc', resolution='l')\n",
    "x, y = m(lon, lat)\n",
    "fig, ax0 = pl.subplots(1, 1, figsize=(15, 6))\n",
    "h0 = m.scatter(x, y, s=5*vg_pt_price, c=vg_pt_price, ax=ax0, cmap='jet', vmin=0, vmax=20, alpha=0.5, edgecolor='k')\n",
    "m.drawcoastlines()\n",
    "ax0.set_title('Average price of viagra around Melbourne')\n",
    "pl.colorbar(h0, ax=ax0)\n",
    "pl.show()"
   ]
  },
  {
   "cell_type": "markdown",
   "metadata": {},
   "source": [
    "# Patients age."
   ]
  },
  {
   "cell_type": "code",
   "execution_count": 122,
   "metadata": {},
   "outputs": [],
   "source": [
    "viagra_patient_birth = np.array(new_viagra[~np.isnan(new_viagra.year_of_birth)].year_of_birth)\n",
    "# viagra_patient_gender= viagra[~np.isnan(viagra.year_of_birth)].gender\n",
    "viagra_prescription_date = np.array(new_viagra[~np.isnan(new_viagra.year_of_birth)].Prescription_Week, dtype=np.datetime64)"
   ]
  },
  {
   "cell_type": "code",
   "execution_count": 123,
   "metadata": {},
   "outputs": [],
   "source": [
    "# The datetime type in numpy is just crazy, and not in a good way.\n",
    "age = [vdp.astype('datetime64[Y]').astype(int)+1970 - vyb for vyb, vdp in zip(viagra_patient_birth, viagra_prescription_date)]"
   ]
  },
  {
   "cell_type": "code",
   "execution_count": 125,
   "metadata": {},
   "outputs": [
    {
     "data": {
      "image/png": "[encoded data removed]",
      "text/plain": [
       "<matplotlib.figure.Figure at 0x147fcd2b0>"
      ]
     },
     "metadata": {},
     "output_type": "display_data"
    }
   ],
   "source": [
    "pl.hist(age, bins=20, normed=True)\n",
    "pl.title('Age of patients using Viagra')\n",
    "pl.xlabel('Age')\n",
    "pl.show()"
   ]
  },
  {
   "cell_type": "markdown",
   "metadata": {},
   "source": [
    "Just checking patients gender."
   ]
  },
  {
   "cell_type": "code",
   "execution_count": 129,
   "metadata": {},
   "outputs": [
    {
     "name": "stdout",
     "output_type": "stream",
     "text": [
      "Male:  2559\n",
      "Female:  226\n",
      "Undef:  610\n"
     ]
    }
   ],
   "source": [
    "malev = new_viagra.gender[new_viagra.gender.str.contains('M')].count()\n",
    "femalev = new_viagra.gender[new_viagra.gender.str.contains('F')].count()\n",
    "undefv = new_viagra.gender[new_viagra.gender.str.contains('U')].count()\n",
    "\n",
    "print(\"Male: \", malev)\n",
    "print(\"Female: \", femalev)\n",
    "print(\"Undef: \", undefv)"
   ]
  },
  {
   "cell_type": "code",
   "execution_count": null,
   "metadata": {
    "collapsed": true
   },
   "outputs": [],
   "source": []
  }
 ],
 "metadata": {
  "kernelspec": {
   "display_name": "Python 3",
   "language": "python",
   "name": "python3"
  },
  "language_info": {
   "codemirror_mode": {
    "name": "ipython",
    "version": 3
   },
   "file_extension": ".py",
   "mimetype": "text/x-python",
   "name": "python",
   "nbconvert_exporter": "python",
   "pygments_lexer": "ipython3",
   "version": "3.6.1"
  }
 },
 "nbformat": 4,
 "nbformat_minor": 2
}
