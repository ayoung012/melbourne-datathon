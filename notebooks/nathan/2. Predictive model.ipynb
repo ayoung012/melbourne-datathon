{
 "cells": [
  {
   "cell_type": "markdown",
   "metadata": {},
   "source": [
    "# Who is heading for Diabetes?\n",
    "\n",
    "diabetesahead\n",
    "\n",
    "This is the predictive part of the 2017 Melbourne Datathon.\n",
    "\n",
    "The task is to predict the probability that a patient will be dispensed a drug related to Diabetes post 2015. This is quite important research as it will be an early warning system for doctors so intervention can potentially be made before it is too late.\n",
    "\n",
    "Use the patients that we have provided all the records for to build your model, then see how it performs on these unseen people.\n",
    "\n",
    "For patient ID'S 279,201 to 558,352 you need to submit a file with 2 columns, the Patient_ID and the probability in the range [0-1]. The file will have 279,153 rows including the header row. An example submission file is provided for download."
   ]
  },
  {
   "cell_type": "code",
   "execution_count": 3,
   "metadata": {},
   "outputs": [],
   "source": [
    "import pandas as pd\n",
    "import numpy as np\n",
    "import sqlite3\n",
    "\n",
    "from sklearn.model_selection import train_test_split\n",
    "from sklearn.model_selection import GridSearchCV\n",
    "from sklearn.metrics import classification_report\n",
    "from sklearn.svm import SVC\n",
    "from sklearn.preprocessing import normalize, StandardScaler\n",
    "\n",
    "from sklearn.tree import DecisionTreeClassifier\n",
    "from sklearn.ensemble import RandomForestClassifier, AdaBoostClassifier"
   ]
  },
  {
   "cell_type": "code",
   "execution_count": 4,
   "metadata": {
    "collapsed": true
   },
   "outputs": [],
   "source": [
    "submission = pd.read_csv('../../submissions/diabetes_submission_example.csv')  "
   ]
  },
  {
   "cell_type": "markdown",
   "metadata": {},
   "source": [
    "## Load the lookup data"
   ]
  },
  {
   "cell_type": "code",
   "execution_count": 5,
   "metadata": {
    "collapsed": true
   },
   "outputs": [],
   "source": [
    "conn = sqlite3.connect(\"../../sql/datasci.db\")"
   ]
  },
  {
   "cell_type": "code",
   "execution_count": 6,
   "metadata": {},
   "outputs": [],
   "source": [
    "def patient_data(conn, patient_id):\n",
    "    \"\"\"\n",
    "    Return the patient data.\n",
    "    \"\"\"\n",
    "    SQL = \"\"\"\n",
    "SELECT *\n",
    "FROM transactions a\n",
    "LEFT OUTER JOIN ChronicIllness_LookUp b \n",
    "    ON a.Drug_ID = b.MasterProductID \n",
    "LEFT OUTER JOIN patients c\n",
    "    ON a.Patient_ID = c.Patient_ID\n",
    "LEFT OUTER JOIN classification d\n",
    "    ON a.Patient_ID = d.Patient_ID\n",
    "LEFT OUTER JOIN social e\n",
    "    ON c.postcode = e.postcode\n",
    "WHERE a.Patient_ID = {}\n",
    "AND a.prescription_week < '2016-01-01'\n",
    "ORDER BY prescription_week\n",
    "    \"\"\".format(patient_id)\n",
    "\n",
    "    return pd.read_sql_query(SQL, conn)"
   ]
  },
  {
   "cell_type": "code",
   "execution_count": 7,
   "metadata": {},
   "outputs": [
    {
     "data": {
      "text/html": [
       "<div>\n",
       "<table border=\"1\" class=\"dataframe\">\n",
       "  <thead>\n",
       "    <tr style=\"text-align: right;\">\n",
       "      <th></th>\n",
       "      <th>Patient_ID</th>\n",
       "      <th>Store_ID</th>\n",
       "      <th>Prescriber_ID</th>\n",
       "      <th>Drug_ID</th>\n",
       "      <th>SourceSystem_Code</th>\n",
       "      <th>Prescription_Week</th>\n",
       "      <th>Dispense_Week</th>\n",
       "      <th>Drug_Code</th>\n",
       "      <th>NHS_Code</th>\n",
       "      <th>IsDeferredScript</th>\n",
       "      <th>...</th>\n",
       "      <th>year_of_birth</th>\n",
       "      <th>postcode</th>\n",
       "      <th>Patient_ID</th>\n",
       "      <th>Target</th>\n",
       "      <th>postcode</th>\n",
       "      <th>advantage_score</th>\n",
       "      <th>disadvantage_score</th>\n",
       "      <th>economic_score</th>\n",
       "      <th>occupation_score</th>\n",
       "      <th>population</th>\n",
       "    </tr>\n",
       "  </thead>\n",
       "  <tbody>\n",
       "    <tr>\n",
       "      <th>0</th>\n",
       "      <td>100</td>\n",
       "      <td>2415</td>\n",
       "      <td>32470</td>\n",
       "      <td>4867</td>\n",
       "      <td>F</td>\n",
       "      <td>2010-10-17</td>\n",
       "      <td>2011-06-19</td>\n",
       "      <td>LIPI3</td>\n",
       "      <td>8215J</td>\n",
       "      <td>0</td>\n",
       "      <td>...</td>\n",
       "      <td>1938</td>\n",
       "      <td>3500</td>\n",
       "      <td>100</td>\n",
       "      <td>0</td>\n",
       "      <td>3500</td>\n",
       "      <td>907</td>\n",
       "      <td>914</td>\n",
       "      <td>912</td>\n",
       "      <td>929</td>\n",
       "      <td>30659</td>\n",
       "    </tr>\n",
       "    <tr>\n",
       "      <th>1</th>\n",
       "      <td>100</td>\n",
       "      <td>2415</td>\n",
       "      <td>32470</td>\n",
       "      <td>9430</td>\n",
       "      <td>F</td>\n",
       "      <td>2011-01-02</td>\n",
       "      <td>2011-02-13</td>\n",
       "      <td>ZOMI1</td>\n",
       "      <td>8266C</td>\n",
       "      <td>0</td>\n",
       "      <td>...</td>\n",
       "      <td>1938</td>\n",
       "      <td>3500</td>\n",
       "      <td>100</td>\n",
       "      <td>0</td>\n",
       "      <td>3500</td>\n",
       "      <td>907</td>\n",
       "      <td>914</td>\n",
       "      <td>912</td>\n",
       "      <td>929</td>\n",
       "      <td>30659</td>\n",
       "    </tr>\n",
       "    <tr>\n",
       "      <th>2</th>\n",
       "      <td>100</td>\n",
       "      <td>2415</td>\n",
       "      <td>32470</td>\n",
       "      <td>9430</td>\n",
       "      <td>F</td>\n",
       "      <td>2011-04-03</td>\n",
       "      <td>2011-04-17</td>\n",
       "      <td>ZOMI1</td>\n",
       "      <td>8266C</td>\n",
       "      <td>0</td>\n",
       "      <td>...</td>\n",
       "      <td>1938</td>\n",
       "      <td>3500</td>\n",
       "      <td>100</td>\n",
       "      <td>0</td>\n",
       "      <td>3500</td>\n",
       "      <td>907</td>\n",
       "      <td>914</td>\n",
       "      <td>912</td>\n",
       "      <td>929</td>\n",
       "      <td>30659</td>\n",
       "    </tr>\n",
       "    <tr>\n",
       "      <th>3</th>\n",
       "      <td>100</td>\n",
       "      <td>2002</td>\n",
       "      <td>0</td>\n",
       "      <td>9430</td>\n",
       "      <td>F</td>\n",
       "      <td>2011-04-03</td>\n",
       "      <td>2011-05-08</td>\n",
       "      <td>ZOMI1</td>\n",
       "      <td>8266C</td>\n",
       "      <td>0</td>\n",
       "      <td>...</td>\n",
       "      <td>1938</td>\n",
       "      <td>3500</td>\n",
       "      <td>100</td>\n",
       "      <td>0</td>\n",
       "      <td>3500</td>\n",
       "      <td>907</td>\n",
       "      <td>914</td>\n",
       "      <td>912</td>\n",
       "      <td>929</td>\n",
       "      <td>30659</td>\n",
       "    </tr>\n",
       "    <tr>\n",
       "      <th>4</th>\n",
       "      <td>100</td>\n",
       "      <td>2415</td>\n",
       "      <td>1637</td>\n",
       "      <td>9430</td>\n",
       "      <td>F</td>\n",
       "      <td>2011-06-05</td>\n",
       "      <td>2011-06-12</td>\n",
       "      <td>ZOMI1</td>\n",
       "      <td>8266C</td>\n",
       "      <td>0</td>\n",
       "      <td>...</td>\n",
       "      <td>1938</td>\n",
       "      <td>3500</td>\n",
       "      <td>100</td>\n",
       "      <td>0</td>\n",
       "      <td>3500</td>\n",
       "      <td>907</td>\n",
       "      <td>914</td>\n",
       "      <td>912</td>\n",
       "      <td>929</td>\n",
       "      <td>30659</td>\n",
       "    </tr>\n",
       "  </tbody>\n",
       "</table>\n",
       "<p>5 rows × 34 columns</p>\n",
       "</div>"
      ],
      "text/plain": [
       "  Patient_ID  Store_ID  Prescriber_ID  Drug_ID SourceSystem_Code  \\\n",
       "0        100      2415          32470     4867                 F   \n",
       "1        100      2415          32470     9430                 F   \n",
       "2        100      2415          32470     9430                 F   \n",
       "3        100      2002              0     9430                 F   \n",
       "4        100      2415           1637     9430                 F   \n",
       "\n",
       "  Prescription_Week Dispense_Week Drug_Code NHS_Code  IsDeferredScript  \\\n",
       "0        2010-10-17    2011-06-19     LIPI3    8215J                 0   \n",
       "1        2011-01-02    2011-02-13     ZOMI1    8266C                 0   \n",
       "2        2011-04-03    2011-04-17     ZOMI1    8266C                 0   \n",
       "3        2011-04-03    2011-05-08     ZOMI1    8266C                 0   \n",
       "4        2011-06-05    2011-06-12     ZOMI1    8266C                 0   \n",
       "\n",
       "     ...      year_of_birth  postcode Patient_ID  Target  postcode  \\\n",
       "0    ...               1938      3500        100       0      3500   \n",
       "1    ...               1938      3500        100       0      3500   \n",
       "2    ...               1938      3500        100       0      3500   \n",
       "3    ...               1938      3500        100       0      3500   \n",
       "4    ...               1938      3500        100       0      3500   \n",
       "\n",
       "   advantage_score  disadvantage_score  economic_score occupation_score  \\\n",
       "0              907                 914             912              929   \n",
       "1              907                 914             912              929   \n",
       "2              907                 914             912              929   \n",
       "3              907                 914             912              929   \n",
       "4              907                 914             912              929   \n",
       "\n",
       "  population  \n",
       "0      30659  \n",
       "1      30659  \n",
       "2      30659  \n",
       "3      30659  \n",
       "4      30659  \n",
       "\n",
       "[5 rows x 34 columns]"
      ]
     },
     "execution_count": 7,
     "metadata": {},
     "output_type": "execute_result"
    }
   ],
   "source": [
    "df = patient_data(conn, 100)\n",
    "df.head()"
   ]
  },
  {
   "cell_type": "code",
   "execution_count": 8,
   "metadata": {},
   "outputs": [],
   "source": [
    "def age(patient_data):\n",
    "    patient_age = 2016 - patient_data.year_of_birth[0]\n",
    "    if patient_age > 100: \n",
    "        return 50 \n",
    "    else: \n",
    "        return patient_age\n",
    "        \n",
    "def socio_score(patient_data):\n",
    "    return patient_data.disadvantage_score[0] or 1000.\n",
    "\n",
    "def had_diabetes(patient_data):\n",
    "    return float(patient_data.ChronicIllness.str.contains('Diabetes').any())\n",
    "\n",
    "def had_lipids(patient_data):\n",
    "    return float(patient_data.ChronicIllness.str.contains('Lipids').any())\n",
    "\n",
    "def had_hypertension(patient_data):\n",
    "    return float(patient_data.ChronicIllness.str.contains('Hypertension').any())"
   ]
  },
  {
   "cell_type": "markdown",
   "metadata": {},
   "source": [
    "## Compute some basic features of the data "
   ]
  },
  {
   "cell_type": "code",
   "execution_count": 9,
   "metadata": {
    "collapsed": true
   },
   "outputs": [],
   "source": [
    "gender_map = {'F': 1, 'M': 0, 'U': 0.5}\n",
    "\n",
    "def feature_extract(patient_frame):\n",
    "    \"\"\"\n",
    "    The thing that forms a feature vector.\n",
    "    \n",
    "    ** Make sure to partition out data from the 2016 period.\n",
    "    \n",
    "    \"\"\"\n",
    "    \n",
    "    x = [gender_map[patient_frame.gender[0]], \n",
    "         age(patient_frame), \n",
    "         socio_score(patient_frame),\n",
    "         had_diabetes(patient_frame),\n",
    "         had_lipids(patient_frame),\n",
    "         had_hypertension(patient_frame)]\n",
    "    \n",
    "    y = patient_frame.Target[0]\n",
    "    \n",
    "    return x, y\n"
   ]
  },
  {
   "cell_type": "markdown",
   "metadata": {},
   "source": [
    "## Create the matrix of features and vector of targets"
   ]
  },
  {
   "cell_type": "code",
   "execution_count": 10,
   "metadata": {},
   "outputs": [],
   "source": [
    "X, Y = [], []\n",
    "for i in np.random.randint(0, 200000, 1000): \n",
    "    x, y = feature_extract(patient_data(conn, i))\n",
    "    X.append(x)\n",
    "    Y.append(y)\n",
    "X = np.vstack(X)\n",
    "y = np.array(Y)"
   ]
  },
  {
   "cell_type": "markdown",
   "metadata": {},
   "source": [
    "## Look at the descriptive power of the features.\n",
    "\n",
    "\n",
    "Look at the relationship of variables and plot them."
   ]
  },
  {
   "cell_type": "markdown",
   "metadata": {},
   "source": [
    "## Try out a set of different classifiers"
   ]
  },
  {
   "cell_type": "markdown",
   "metadata": {},
   "source": [
    "Note: the feature matrix is usually transformed to have zero mean and unit standard deviation."
   ]
  },
  {
   "cell_type": "code",
   "execution_count": 11,
   "metadata": {
    "collapsed": true
   },
   "outputs": [],
   "source": [
    "X = StandardScaler().fit_transform(X)"
   ]
  },
  {
   "cell_type": "markdown",
   "metadata": {},
   "source": [
    "Partition the data into test and train datasets."
   ]
  },
  {
   "cell_type": "code",
   "execution_count": 12,
   "metadata": {
    "collapsed": true
   },
   "outputs": [],
   "source": [
    "X_train, X_test, y_train, y_test = train_test_split(X, y, test_size=0.5, random_state=0)"
   ]
  },
  {
   "cell_type": "code",
   "execution_count": 18,
   "metadata": {},
   "outputs": [
    {
     "name": "stdout",
     "output_type": "stream",
     "text": [
      "Classifier: Random Forrest\n",
      "             precision    recall  f1-score   support\n",
      "\n",
      "          0       0.92      0.96      0.94       422\n",
      "          1       0.71      0.56      0.63        78\n",
      "\n",
      "avg / total       0.89      0.90      0.89       500\n",
      "\n",
      "Classifier: Decision Tree\n",
      "             precision    recall  f1-score   support\n",
      "\n",
      "          0       0.95      0.94      0.94       422\n",
      "          1       0.69      0.71      0.70        78\n",
      "\n",
      "avg / total       0.91      0.90      0.90       500\n",
      "\n",
      "Classifier: Adaboost\n",
      "             precision    recall  f1-score   support\n",
      "\n",
      "          0       0.97      0.96      0.96       422\n",
      "          1       0.78      0.82      0.80        78\n",
      "\n",
      "avg / total       0.94      0.94      0.94       500\n",
      "\n",
      "Classifier: SVM\n",
      "             precision    recall  f1-score   support\n",
      "\n",
      "          0       0.98      0.95      0.97       422\n",
      "          1       0.78      0.91      0.84        78\n",
      "\n",
      "avg / total       0.95      0.95      0.95       500\n",
      "\n"
     ]
    }
   ],
   "source": [
    "classifiers = [\n",
    "    ('Random Forrest', RandomForestClassifier()),\n",
    "    ('Decision Tree', DecisionTreeClassifier()),\n",
    "    ('Adaboost',AdaBoostClassifier() ),\n",
    "    ('SVM',SVC())]\n",
    "\n",
    "for name, clf in classifiers:\n",
    "    print('Classifier: {}'.format(name))\n",
    "    model = clf.fit(X_train, y_train)\n",
    "    y_true, y_pred = y_test, clf.predict(X_test) \n",
    "    print(classification_report(y_true, y_pred))\n"
   ]
  },
  {
   "cell_type": "code",
   "execution_count": null,
   "metadata": {
    "collapsed": true
   },
   "outputs": [],
   "source": []
  }
 ],
 "metadata": {
  "hide_input": false,
  "kernelspec": {
   "display_name": "Python 3",
   "language": "python",
   "name": "python3"
  },
  "language_info": {
   "codemirror_mode": {
    "name": "ipython",
    "version": 3
   },
   "file_extension": ".py",
   "mimetype": "text/x-python",
   "name": "python",
   "nbconvert_exporter": "python",
   "pygments_lexer": "ipython3",
   "version": "3.6.1"
  },
  "nav_menu": {},
  "toc": {
   "navigate_menu": true,
   "number_sections": true,
   "sideBar": true,
   "threshold": 6,
   "toc_cell": false,
   "toc_section_display": "block",
   "toc_window_display": false
  }
 },
 "nbformat": 4,
 "nbformat_minor": 2
}
